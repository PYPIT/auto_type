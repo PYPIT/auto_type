{
  "nbformat": 4,
  "nbformat_minor": 0,
  "metadata": {
    "colab": {
      "name": "ESI_Data.ipynb",
      "version": "0.3.2",
      "provenance": [],
      "collapsed_sections": [
        "BlzrRNC940Dw",
        "ZY33rzZsy51A",
        "Yp0-tzapiWaG",
        "7uVIby5oAm0L",
        "3vitbIzIikyW",
        "fcAAQpXSouwQ",
        "xZ0MMiqmnLx2",
        "0ItIY3r8ukG9",
        "qFFTnrSDJmdZ",
        "h1bmx0BaO6BO",
        "VDTBxdoRGs8J",
        "BORqLGX8dGEb",
        "GpCHT95fjUjv",
        "m4L1ch6azuTW",
        "uR22Lx_r4gwJ",
        "orqGuwgABN-x"
      ]
    },
    "kernelspec": {
      "name": "python3",
      "display_name": "Python 3"
    },
    "accelerator": "GPU"
  },
  "cells": [
    {
      "cell_type": "markdown",
      "metadata": {
        "id": "nNHvKM3jyS_E",
        "colab_type": "text"
      },
      "source": [
        "#ESI Data"
      ]
    },
    {
      "cell_type": "markdown",
      "metadata": {
        "id": "QCvngQciyZ8Y",
        "colab_type": "text"
      },
      "source": [
        "Goals: \n",
        "For each .fits file\n",
        "- fits file -> numpy array image data (flips)\n",
        "- read .list file to get labels\n",
        "- compress to a .npz file\n",
        "- predict with \"heuristic\"/Keras.predict() \n",
        "- make confusion matrix"
      ]
    },
    {
      "cell_type": "markdown",
      "metadata": {
        "id": "BlzrRNC940Dw",
        "colab_type": "text"
      },
      "source": [
        "##Imports and Load SPIT"
      ]
    },
    {
      "cell_type": "markdown",
      "metadata": {
        "id": "AyHoS5Ep45JG",
        "colab_type": "text"
      },
      "source": [
        "Functions needed from SPIT\n",
        "- get_prediction() from classify.py later\n",
        "- read_fits() from io.py\n",
        "- process_image() from preprocess.py\n",
        "- flips() from preprocess.py\n",
        "- classifier.py"
      ]
    },
    {
      "cell_type": "code",
      "metadata": {
        "id": "bz8fCckl5N4N",
        "colab_type": "code",
        "colab": {}
      },
      "source": [
        "import os\n",
        "from google.colab import drive\n",
        "from importlib import reload\n",
        "import numpy as np"
      ],
      "execution_count": 0,
      "outputs": []
    },
    {
      "cell_type": "code",
      "metadata": {
        "id": "S9kNhYp5_a1h",
        "colab_type": "code",
        "outputId": "d685ed45-6eaa-4aec-daf0-d00e1ea861d9",
        "colab": {
          "base_uri": "https://localhost:8080/",
          "height": 122
        }
      },
      "source": [
        "drive.mount('/content/drive')"
      ],
      "execution_count": 0,
      "outputs": [
        {
          "output_type": "stream",
          "text": [
            "Go to this URL in a browser: https://accounts.google.com/o/oauth2/auth?client_id=947318989803-6bn6qk8qdgf4n4g3pfee6491hc0brc4i.apps.googleusercontent.com&redirect_uri=urn%3Aietf%3Awg%3Aoauth%3A2.0%3Aoob&scope=email%20https%3A%2F%2Fwww.googleapis.com%2Fauth%2Fdocs.test%20https%3A%2F%2Fwww.googleapis.com%2Fauth%2Fdrive%20https%3A%2F%2Fwww.googleapis.com%2Fauth%2Fdrive.photos.readonly%20https%3A%2F%2Fwww.googleapis.com%2Fauth%2Fpeopleapi.readonly&response_type=code\n",
            "\n",
            "Enter your authorization code:\n",
            "··········\n",
            "Mounted at /content/drive\n"
          ],
          "name": "stdout"
        }
      ]
    },
    {
      "cell_type": "code",
      "metadata": {
        "id": "PSndQmCd_bcc",
        "colab_type": "code",
        "colab": {}
      },
      "source": [
        "file_path = \"/content/drive/My Drive/model_test\""
      ],
      "execution_count": 0,
      "outputs": []
    },
    {
      "cell_type": "code",
      "metadata": {
        "id": "bs0etlzw5dwg",
        "colab_type": "code",
        "outputId": "6928e1b5-c2c3-4ea7-a7af-02c7d60a06f8",
        "colab": {
          "base_uri": "https://localhost:8080/",
          "height": 136
        }
      },
      "source": [
        "!git clone https://github.com/pypeit/spit.git"
      ],
      "execution_count": 0,
      "outputs": [
        {
          "output_type": "stream",
          "text": [
            "Cloning into 'spit'...\n",
            "remote: Enumerating objects: 24, done.\u001b[K\n",
            "remote: Counting objects: 100% (24/24), done.\u001b[K\n",
            "remote: Compressing objects: 100% (24/24), done.\u001b[K\n",
            "remote: Total 884 (delta 9), reused 2 (delta 0), pack-reused 860\u001b[K\n",
            "Receiving objects: 100% (884/884), 1.18 MiB | 1.56 MiB/s, done.\n",
            "Resolving deltas: 100% (507/507), done.\n"
          ],
          "name": "stdout"
        }
      ]
    },
    {
      "cell_type": "code",
      "metadata": {
        "id": "wRO-Igsz5eTx",
        "colab_type": "code",
        "outputId": "9d137e62-9d0c-4612-e4a4-922f24bac2c9",
        "colab": {
          "base_uri": "https://localhost:8080/",
          "height": 34
        }
      },
      "source": [
        "%cd spit"
      ],
      "execution_count": 0,
      "outputs": [
        {
          "output_type": "stream",
          "text": [
            "/content/spit\n"
          ],
          "name": "stdout"
        }
      ]
    },
    {
      "cell_type": "code",
      "metadata": {
        "id": "aVcl4Iox5f5e",
        "colab_type": "code",
        "outputId": "113daf7d-9da6-47ed-cd6a-56bc8f76e378",
        "colab": {
          "base_uri": "https://localhost:8080/",
          "height": 323
        }
      },
      "source": [
        "!python setup.py develop"
      ],
      "execution_count": 0,
      "outputs": [
        {
          "output_type": "stream",
          "text": [
            "running develop\n",
            "running egg_info\n",
            "creating spit.egg-info\n",
            "writing spit.egg-info/PKG-INFO\n",
            "writing dependency_links to spit.egg-info/dependency_links.txt\n",
            "writing top-level names to spit.egg-info/top_level.txt\n",
            "writing manifest file 'spit.egg-info/SOURCES.txt'\n",
            "writing manifest file 'spit.egg-info/SOURCES.txt'\n",
            "running build_ext\n",
            "Creating /usr/local/lib/python3.6/dist-packages/spit.egg-link (link to .)\n",
            "Adding spit 0.1.dev0 to easy-install.pth file\n",
            "Installing spit_png script to /usr/local/bin\n",
            "Installing spit_train script to /usr/local/bin\n",
            "Installing spit_classify_image script to /usr/local/bin\n",
            "\n",
            "Installed /content/spit\n",
            "Processing dependencies for spit==0.1.dev0\n",
            "Finished processing dependencies for spit==0.1.dev0\n"
          ],
          "name": "stdout"
        }
      ]
    },
    {
      "cell_type": "code",
      "metadata": {
        "id": "bfPtyQWA-h2L",
        "colab_type": "code",
        "colab": {}
      },
      "source": [
        "from spit import classify as spit_classify\n",
        "from spit import io as spit_io\n",
        "from spit import preprocess as spit_p\n",
        "from spit import classifier as spit_c\n",
        "from spit import labels as spit_l"
      ],
      "execution_count": 0,
      "outputs": []
    },
    {
      "cell_type": "code",
      "metadata": {
        "id": "gc5fXSD0EOGB",
        "colab_type": "code",
        "outputId": "58d5e095-bb4b-4f66-b9fa-717070f706ca",
        "colab": {
          "base_uri": "https://localhost:8080/",
          "height": 102
        }
      },
      "source": [
        "label_dict = spit_l.kast_label_dict() \n",
        "label_dict"
      ],
      "execution_count": 0,
      "outputs": [
        {
          "output_type": "execute_result",
          "data": {
            "text/plain": [
              "OrderedDict([('bias_label', 0),\n",
              "             ('science_label', 1),\n",
              "             ('standard_label', 2),\n",
              "             ('arc_label', 3),\n",
              "             ('flat_label', 4)])"
            ]
          },
          "metadata": {
            "tags": []
          },
          "execution_count": 8
        }
      ]
    },
    {
      "cell_type": "code",
      "metadata": {
        "id": "ZisxrSsgDAVV",
        "colab_type": "code",
        "outputId": "3852d5b2-741a-48e8-9eba-4d65ebeba89f",
        "colab": {
          "base_uri": "https://localhost:8080/",
          "height": 136
        }
      },
      "source": [
        "preproc_dict = spit_p.original_preproc_dict()\n",
        "preproc_dict"
      ],
      "execution_count": 0,
      "outputs": [
        {
          "output_type": "execute_result",
          "data": {
            "text/plain": [
              "{'cutoff_percent': 1.1,\n",
              " 'image_height': 210,\n",
              " 'image_width': 650,\n",
              " 'img_shape': (210, 650),\n",
              " 'img_size_flat': 136500,\n",
              " 'num_channels': 1,\n",
              " 'pad_const': 0}"
            ]
          },
          "metadata": {
            "tags": []
          },
          "execution_count": 9
        }
      ]
    },
    {
      "cell_type": "code",
      "metadata": {
        "id": "gqdgGkcEEYAM",
        "colab_type": "code",
        "outputId": "f0d1ca5f-fb6c-4b61-e109-299fbfcfc176",
        "colab": {
          "base_uri": "https://localhost:8080/",
          "height": 34
        }
      },
      "source": [
        "classify_dict = spit_l.kast_classify_dict(label_dict)\n",
        "classify_dict"
      ],
      "execution_count": 0,
      "outputs": [
        {
          "output_type": "execute_result",
          "data": {
            "text/plain": [
              "{-1: 'unknown', 0: 'bias', 1: 'science', 2: 'standard', 3: 'arc', 4: 'flat'}"
            ]
          },
          "metadata": {
            "tags": []
          },
          "execution_count": 10
        }
      ]
    },
    {
      "cell_type": "markdown",
      "metadata": {
        "id": "ZY33rzZsy51A",
        "colab_type": "text"
      },
      "source": [
        "##Predictions on Kast-trained model (subset samples)"
      ]
    },
    {
      "cell_type": "markdown",
      "metadata": {
        "id": "BMEmBP2MAcTQ",
        "colab_type": "text"
      },
      "source": [
        "// Codes reference to make_standard() method in generate_pngs.py and Kast_Multi_images.ipynb\n"
      ]
    },
    {
      "cell_type": "markdown",
      "metadata": {
        "id": "Yp0-tzapiWaG",
        "colab_type": "text"
      },
      "source": [
        "###Functions"
      ]
    },
    {
      "cell_type": "code",
      "metadata": {
        "id": "OSoa8pC6iYr0",
        "colab_type": "code",
        "colab": {}
      },
      "source": [
        "def predict_one_image(images, classifier):\n",
        "  \n",
        "  ishape = list(images.shape)\n",
        "  images = images.reshape(ishape+[1])\n",
        "  \n",
        "  prediction = classifier.model.predict(images)\n",
        "  return prediction"
      ],
      "execution_count": 0,
      "outputs": []
    },
    {
      "cell_type": "code",
      "metadata": {
        "id": "EIDpxmOTia_6",
        "colab_type": "code",
        "colab": {}
      },
      "source": [
        "def get_prediction(images_array, classifier, use_heuristics=False):\n",
        "    \"\"\"\n",
        "\n",
        "    Returns\n",
        "    -------\n",
        "    value : int\n",
        "      Most common value or -1, if it is not the majority\n",
        "    results : list\n",
        "      All of the values for each flipped image\n",
        "    \"\"\"\n",
        "    from collections import Counter\n",
        "    \n",
        "    # Classify all 4\n",
        "    results = []\n",
        "    results.append(np.argmax(predict_one_image(images_array[0:1,:], classifier)))\n",
        "    results.append(np.argmax(predict_one_image(images_array[1:2,:], classifier)))\n",
        "    results.append(np.argmax(predict_one_image(images_array[2:3,:], classifier)))\n",
        "    results.append(np.argmax(predict_one_image(images_array[3:4,:], classifier)))\n",
        "    resultsCounter = Counter(results)\n",
        "\n",
        "    # Heuristics\n",
        "    if use_heuristics:\n",
        "        if results.count(2) >= 2:\n",
        "            value = 2\n",
        "        elif results.count(1) >= 2:\n",
        "            value = 1\n",
        "        else:\n",
        "            value, _ = resultsCounter.most_common()[0]\n",
        "    else:  # Majority rules\n",
        "        value, n_occur = resultsCounter.most_common()[0]\n",
        "        if n_occur <= 2:\n",
        "            value = -1\n",
        "    # Return\n",
        "    return value, results"
      ],
      "execution_count": 0,
      "outputs": []
    },
    {
      "cell_type": "markdown",
      "metadata": {
        "id": "7uVIby5oAm0L",
        "colab_type": "text"
      },
      "source": [
        "###Try one file"
      ]
    },
    {
      "cell_type": "code",
      "metadata": {
        "id": "PuiEY9Z0zDKj",
        "colab_type": "code",
        "outputId": "6fad9a7f-682a-4f69-a899-65733913ddf8",
        "colab": {
          "base_uri": "https://localhost:8080/",
          "height": 71
        }
      },
      "source": [
        "num = 1\n",
        "file_name = 'esi{:04d}.fits'.format(num)\n",
        "fits_file = file_path+file_name\n",
        "data = spit_io.read_fits(fits_file)\n",
        "image = spit_p.process_image(data, preproc_dict)\n",
        "flip_images = spit_p.flips(image)"
      ],
      "execution_count": 0,
      "outputs": [
        {
          "output_type": "stream",
          "text": [
            "/usr/local/lib/python3.6/dist-packages/numpy/core/fromnumeric.py:734: UserWarning: Warning: 'partition' will ignore the 'mask' of the MaskedArray.\n",
            "  a.partition(kth, axis=axis, kind=kind, order=order)\n"
          ],
          "name": "stderr"
        }
      ]
    },
    {
      "cell_type": "code",
      "metadata": {
        "id": "cbe07Y5iEmF-",
        "colab_type": "code",
        "colab": {}
      },
      "source": [
        "image_array = list(flip_images)"
      ],
      "execution_count": 0,
      "outputs": []
    },
    {
      "cell_type": "code",
      "metadata": {
        "id": "WbLk1lSbFp7l",
        "colab_type": "code",
        "colab": {}
      },
      "source": [
        "images_array = np.array(image_array)"
      ],
      "execution_count": 0,
      "outputs": []
    },
    {
      "cell_type": "code",
      "metadata": {
        "id": "IrNSw3JjDntY",
        "colab_type": "code",
        "outputId": "9e9e5900-54c1-4c10-8a39-bb792e673d88",
        "colab": {
          "base_uri": "https://localhost:8080/",
          "height": 207
        }
      },
      "source": [
        "kast_model = spit_c.Classifier(label_dict, preproc_dict, classify_dict) \n",
        "kast_model.model = kast_model.load_model('best_model.h5', '/content/drive/My Drive/model_test/')"
      ],
      "execution_count": 0,
      "outputs": [
        {
          "output_type": "stream",
          "text": [
            "WARNING: Logging before flag parsing goes to stderr.\n",
            "W0723 23:02:21.167455 140587101816704 deprecation.py:506] From /usr/local/lib/python3.6/dist-packages/tensorflow/python/ops/init_ops.py:1251: calling VarianceScaling.__init__ (from tensorflow.python.ops.init_ops) with dtype is deprecated and will be removed in a future version.\n",
            "Instructions for updating:\n",
            "Call initializer instance with the dtype argument instead of passing it to the constructor\n",
            "W0723 23:02:22.265986 140587101816704 deprecation.py:506] From /usr/local/lib/python3.6/dist-packages/tensorflow/python/ops/init_ops.py:97: calling GlorotUniform.__init__ (from tensorflow.python.ops.init_ops) with dtype is deprecated and will be removed in a future version.\n",
            "Instructions for updating:\n",
            "Call initializer instance with the dtype argument instead of passing it to the constructor\n",
            "W0723 23:02:22.268431 140587101816704 deprecation.py:506] From /usr/local/lib/python3.6/dist-packages/tensorflow/python/ops/init_ops.py:97: calling Zeros.__init__ (from tensorflow.python.ops.init_ops) with dtype is deprecated and will be removed in a future version.\n",
            "Instructions for updating:\n",
            "Call initializer instance with the dtype argument instead of passing it to the constructor\n"
          ],
          "name": "stderr"
        }
      ]
    },
    {
      "cell_type": "code",
      "metadata": {
        "id": "xU-n6tJ9B5fo",
        "colab_type": "code",
        "colab": {}
      },
      "source": [
        "value, results = get_prediction(images_array, kast_model, use_heuristics=True)"
      ],
      "execution_count": 0,
      "outputs": []
    },
    {
      "cell_type": "code",
      "metadata": {
        "id": "SXeq_odyI2Su",
        "colab_type": "code",
        "outputId": "b84e14bc-4961-4596-8291-c483e36752d6",
        "colab": {
          "base_uri": "https://localhost:8080/",
          "height": 34
        }
      },
      "source": [
        "value"
      ],
      "execution_count": 0,
      "outputs": [
        {
          "output_type": "execute_result",
          "data": {
            "text/plain": [
              "2"
            ]
          },
          "metadata": {
            "tags": []
          },
          "execution_count": 48
        }
      ]
    },
    {
      "cell_type": "code",
      "metadata": {
        "id": "sgxdKxazI31N",
        "colab_type": "code",
        "outputId": "999deb9a-751a-41aa-c399-639afc17ccb5",
        "colab": {
          "base_uri": "https://localhost:8080/",
          "height": 34
        }
      },
      "source": [
        "results"
      ],
      "execution_count": 0,
      "outputs": [
        {
          "output_type": "execute_result",
          "data": {
            "text/plain": [
              "[0, 2, 0, 2]"
            ]
          },
          "metadata": {
            "tags": []
          },
          "execution_count": 49
        }
      ]
    },
    {
      "cell_type": "markdown",
      "metadata": {
        "id": "3vitbIzIikyW",
        "colab_type": "text"
      },
      "source": [
        "###All 26 images with heuristics"
      ]
    },
    {
      "cell_type": "code",
      "metadata": {
        "id": "j34N1qlKjnAs",
        "colab_type": "code",
        "outputId": "87e96ae0-506b-4385-e5d9-8eb9be4a6228",
        "colab": {
          "base_uri": "https://localhost:8080/",
          "height": 207
        }
      },
      "source": [
        "kast_model = spit_c.Classifier(label_dict, preproc_dict, classify_dict) \n",
        "kast_model.model = kast_model.load_model('best_model.h5', '/content/drive/My Drive/model_test/')"
      ],
      "execution_count": 0,
      "outputs": [
        {
          "output_type": "stream",
          "text": [
            "WARNING: Logging before flag parsing goes to stderr.\n",
            "W0724 19:59:43.443850 139656796874624 deprecation.py:506] From /usr/local/lib/python3.6/dist-packages/tensorflow/python/ops/init_ops.py:1251: calling VarianceScaling.__init__ (from tensorflow.python.ops.init_ops) with dtype is deprecated and will be removed in a future version.\n",
            "Instructions for updating:\n",
            "Call initializer instance with the dtype argument instead of passing it to the constructor\n",
            "W0724 19:59:45.280623 139656796874624 deprecation.py:506] From /usr/local/lib/python3.6/dist-packages/tensorflow/python/ops/init_ops.py:97: calling GlorotUniform.__init__ (from tensorflow.python.ops.init_ops) with dtype is deprecated and will be removed in a future version.\n",
            "Instructions for updating:\n",
            "Call initializer instance with the dtype argument instead of passing it to the constructor\n",
            "W0724 19:59:45.288196 139656796874624 deprecation.py:506] From /usr/local/lib/python3.6/dist-packages/tensorflow/python/ops/init_ops.py:97: calling Zeros.__init__ (from tensorflow.python.ops.init_ops) with dtype is deprecated and will be removed in a future version.\n",
            "Instructions for updating:\n",
            "Call initializer instance with the dtype argument instead of passing it to the constructor\n"
          ],
          "name": "stderr"
        }
      ]
    },
    {
      "cell_type": "code",
      "metadata": {
        "id": "e_ynz4cjjs8L",
        "colab_type": "code",
        "colab": {}
      },
      "source": [
        "values=[]\n",
        "results=[]"
      ],
      "execution_count": 0,
      "outputs": []
    },
    {
      "cell_type": "code",
      "metadata": {
        "id": "SizSh4xViniy",
        "colab_type": "code",
        "outputId": "7c0f42f0-4e8e-43ef-fd03-dae71e1c5d3f",
        "colab": {
          "base_uri": "https://localhost:8080/",
          "height": 71
        }
      },
      "source": [
        "for num in range(1,27):\n",
        "  file_name = 'esi{:04d}.fits'.format(num)\n",
        "  print('Working on file %s ' %file_name)\n",
        "  fits_file = file_path+file_name\n",
        "  data = spit_io.read_fits(fits_file)\n",
        "  image = spit_p.process_image(data, preproc_dict)\n",
        "  flip_images = spit_p.flips(image)\n",
        "  images_array = np.array(list(flip_images))\n",
        "  value, result = get_prediction(images_array, kast_model, use_heuristics=True)\n",
        "  values.append(value)\n",
        "  results.append(result)"
      ],
      "execution_count": 0,
      "outputs": [
        {
          "output_type": "stream",
          "text": [
            "/usr/local/lib/python3.6/dist-packages/numpy/core/fromnumeric.py:734: UserWarning: Warning: 'partition' will ignore the 'mask' of the MaskedArray.\n",
            "  a.partition(kth, axis=axis, kind=kind, order=order)\n"
          ],
          "name": "stderr"
        }
      ]
    },
    {
      "cell_type": "code",
      "metadata": {
        "id": "68pPesEPj1tn",
        "colab_type": "code",
        "outputId": "ae183aaf-bb10-4958-d79d-9181f268df0e",
        "colab": {
          "base_uri": "https://localhost:8080/",
          "height": 34
        }
      },
      "source": [
        "values"
      ],
      "execution_count": 0,
      "outputs": [
        {
          "output_type": "execute_result",
          "data": {
            "text/plain": [
              "[2, 3, 1, 2, 1, 3, 1, 1, 1, 3, 3, 1, 1, 3, 3, 3, 1, 3, 1, 1, 3, 1, 1, 1, 1, 1]"
            ]
          },
          "metadata": {
            "tags": []
          },
          "execution_count": 16
        }
      ]
    },
    {
      "cell_type": "code",
      "metadata": {
        "id": "b-r8luSFj2c5",
        "colab_type": "code",
        "outputId": "8f98fda5-6c73-40e1-d376-b0f30fa3a22a",
        "colab": {
          "base_uri": "https://localhost:8080/",
          "height": 459
        }
      },
      "source": [
        "results"
      ],
      "execution_count": 0,
      "outputs": [
        {
          "output_type": "execute_result",
          "data": {
            "text/plain": [
              "[[0, 2, 0, 2],\n",
              " [3, 3, 3, 3],\n",
              " [1, 1, 1, 3],\n",
              " [0, 2, 0, 2],\n",
              " [1, 1, 1, 1],\n",
              " [4, 1, 3, 3],\n",
              " [1, 1, 3, 1],\n",
              " [1, 1, 3, 1],\n",
              " [4, 1, 3, 1],\n",
              " [4, 1, 3, 3],\n",
              " [4, 1, 3, 3],\n",
              " [3, 1, 1, 1],\n",
              " [3, 1, 3, 1],\n",
              " [3, 1, 3, 3],\n",
              " [3, 3, 3, 3],\n",
              " [3, 1, 3, 3],\n",
              " [1, 3, 1, 1],\n",
              " [1, 3, 3, 3],\n",
              " [1, 3, 1, 1],\n",
              " [1, 1, 1, 1],\n",
              " [3, 3, 1, 3],\n",
              " [1, 1, 1, 1],\n",
              " [1, 1, 1, 1],\n",
              " [1, 1, 1, 1],\n",
              " [3, 1, 1, 1],\n",
              " [3, 1, 1, 3]]"
            ]
          },
          "metadata": {
            "tags": []
          },
          "execution_count": 19
        }
      ]
    },
    {
      "cell_type": "markdown",
      "metadata": {
        "id": "fcAAQpXSouwQ",
        "colab_type": "text"
      },
      "source": [
        "###Confusion Matrix"
      ]
    },
    {
      "cell_type": "code",
      "metadata": {
        "id": "IhrP5KJhpXWy",
        "colab_type": "code",
        "colab": {}
      },
      "source": [
        "from sklearn.metrics import confusion_matrix"
      ],
      "execution_count": 0,
      "outputs": []
    },
    {
      "cell_type": "code",
      "metadata": {
        "id": "7cpQQuknpYT-",
        "colab_type": "code",
        "colab": {}
      },
      "source": [
        "val_true = [0, 3, 3, 0, 4, 4, 4, 4, 4, 4, 4, 2, 2, 1, 1, 1, 1, 1, 1, 1, 1, 1, 1, 1, 2, 2]"
      ],
      "execution_count": 0,
      "outputs": []
    },
    {
      "cell_type": "code",
      "metadata": {
        "id": "mZWrCVSSp_Kx",
        "colab_type": "code",
        "colab": {}
      },
      "source": [
        "cm = confusion_matrix(val_true, values)"
      ],
      "execution_count": 0,
      "outputs": []
    },
    {
      "cell_type": "code",
      "metadata": {
        "id": "FqXblcaHqyv5",
        "colab_type": "code",
        "outputId": "84612ee6-394d-4c1c-b9c5-b5439c79dafd",
        "colab": {
          "base_uri": "https://localhost:8080/",
          "height": 264
        }
      },
      "source": [
        "from matplotlib import pyplot as plt\n",
        "# Plot the confusion matrix as an image.\n",
        "plt.matshow(cm)\n",
        "\n",
        "num_classes = 5\n",
        "# Make various adjustments to the plot.\n",
        "plt.colorbar()\n",
        "tick_marks = np.arange(num_classes)\n",
        "plt.xticks(tick_marks, range(num_classes))\n",
        "plt.yticks(tick_marks, range(num_classes))\n",
        "plt.xlabel('Predicted')\n",
        "plt.ylabel('True')\n",
        "\n",
        "# Ensure the plot is shown correctly with multiple plots\n",
        "# in a single Notebook cell.\n",
        "plt.show()"
      ],
      "execution_count": 0,
      "outputs": [
        {
          "output_type": "display_data",
          "data": {
            "image/png": "[encoded data removed]",
            "text/plain": [
              "<Figure size 288x288 with 2 Axes>"
            ]
          },
          "metadata": {
            "tags": []
          }
        }
      ]
    },
    {
      "cell_type": "markdown",
      "metadata": {
        "colab_type": "text",
        "id": "xZ0MMiqmnLx2"
      },
      "source": [
        "###All 26 images without heuristics (ignore)"
      ]
    },
    {
      "cell_type": "code",
      "metadata": {
        "colab_type": "code",
        "outputId": "87e96ae0-506b-4385-e5d9-8eb9be4a6228",
        "id": "dEXnRFxNnLx6",
        "colab": {
          "base_uri": "https://localhost:8080/",
          "height": 207
        }
      },
      "source": [
        "kast_model = spit_c.Classifier(label_dict, preproc_dict, classify_dict) \n",
        "kast_model.model = kast_model.load_model('best_model.h5', '/content/drive/My Drive/model_test/')"
      ],
      "execution_count": 0,
      "outputs": [
        {
          "output_type": "stream",
          "text": [
            "WARNING: Logging before flag parsing goes to stderr.\n",
            "W0724 19:59:43.443850 139656796874624 deprecation.py:506] From /usr/local/lib/python3.6/dist-packages/tensorflow/python/ops/init_ops.py:1251: calling VarianceScaling.__init__ (from tensorflow.python.ops.init_ops) with dtype is deprecated and will be removed in a future version.\n",
            "Instructions for updating:\n",
            "Call initializer instance with the dtype argument instead of passing it to the constructor\n",
            "W0724 19:59:45.280623 139656796874624 deprecation.py:506] From /usr/local/lib/python3.6/dist-packages/tensorflow/python/ops/init_ops.py:97: calling GlorotUniform.__init__ (from tensorflow.python.ops.init_ops) with dtype is deprecated and will be removed in a future version.\n",
            "Instructions for updating:\n",
            "Call initializer instance with the dtype argument instead of passing it to the constructor\n",
            "W0724 19:59:45.288196 139656796874624 deprecation.py:506] From /usr/local/lib/python3.6/dist-packages/tensorflow/python/ops/init_ops.py:97: calling Zeros.__init__ (from tensorflow.python.ops.init_ops) with dtype is deprecated and will be removed in a future version.\n",
            "Instructions for updating:\n",
            "Call initializer instance with the dtype argument instead of passing it to the constructor\n"
          ],
          "name": "stderr"
        }
      ]
    },
    {
      "cell_type": "code",
      "metadata": {
        "colab_type": "code",
        "id": "w5apxDdCnLyB",
        "colab": {}
      },
      "source": [
        "values_2=[]\n",
        "results_2=[]"
      ],
      "execution_count": 0,
      "outputs": []
    },
    {
      "cell_type": "code",
      "metadata": {
        "colab_type": "code",
        "outputId": "d85d4b27-30d6-4119-8454-0af1efdf7355",
        "id": "FX84CjFDnLyD",
        "colab": {
          "base_uri": "https://localhost:8080/",
          "height": 513
        }
      },
      "source": [
        "for num in range(1,27):\n",
        "  file_name = 'esi{:04d}.fits'.format(num)\n",
        "  print('Working on file %s ' %file_name)\n",
        "  fits_file = file_path+file_name\n",
        "  data = spit_io.read_fits(fits_file)\n",
        "  image = spit_p.process_image(data, preproc_dict)\n",
        "  flip_images = spit_p.flips(image)\n",
        "  images_array = np.array(list(flip_images))\n",
        "  value, result = get_prediction(images_array, kast_model)\n",
        "  values_2.append(value)\n",
        "  results_2.append(result)"
      ],
      "execution_count": 0,
      "outputs": [
        {
          "output_type": "stream",
          "text": [
            "Working on file esi0001.fits \n"
          ],
          "name": "stdout"
        },
        {
          "output_type": "stream",
          "text": [
            "/usr/local/lib/python3.6/dist-packages/numpy/core/fromnumeric.py:734: UserWarning: Warning: 'partition' will ignore the 'mask' of the MaskedArray.\n",
            "  a.partition(kth, axis=axis, kind=kind, order=order)\n"
          ],
          "name": "stderr"
        },
        {
          "output_type": "stream",
          "text": [
            "Working on file esi0002.fits \n",
            "Working on file esi0003.fits \n",
            "Working on file esi0004.fits \n",
            "Working on file esi0005.fits \n",
            "Working on file esi0006.fits \n",
            "Working on file esi0007.fits \n",
            "Working on file esi0008.fits \n",
            "Working on file esi0009.fits \n",
            "Working on file esi0010.fits \n",
            "Working on file esi0011.fits \n",
            "Working on file esi0012.fits \n",
            "Working on file esi0013.fits \n",
            "Working on file esi0014.fits \n",
            "Working on file esi0015.fits \n",
            "Working on file esi0016.fits \n",
            "Working on file esi0017.fits \n",
            "Working on file esi0018.fits \n",
            "Working on file esi0019.fits \n",
            "Working on file esi0020.fits \n",
            "Working on file esi0021.fits \n",
            "Working on file esi0022.fits \n",
            "Working on file esi0023.fits \n",
            "Working on file esi0024.fits \n",
            "Working on file esi0025.fits \n",
            "Working on file esi0026.fits \n"
          ],
          "name": "stdout"
        }
      ]
    },
    {
      "cell_type": "code",
      "metadata": {
        "colab_type": "code",
        "outputId": "4d64aa46-d51a-4306-c323-f1134fe2748e",
        "id": "nROe06jrnLyG",
        "colab": {
          "base_uri": "https://localhost:8080/",
          "height": 459
        }
      },
      "source": [
        "values_2"
      ],
      "execution_count": 0,
      "outputs": [
        {
          "output_type": "execute_result",
          "data": {
            "text/plain": [
              "[-1,\n",
              " 3,\n",
              " 1,\n",
              " -1,\n",
              " 1,\n",
              " -1,\n",
              " 1,\n",
              " 1,\n",
              " -1,\n",
              " -1,\n",
              " -1,\n",
              " 1,\n",
              " -1,\n",
              " 3,\n",
              " 3,\n",
              " 3,\n",
              " 1,\n",
              " 3,\n",
              " 1,\n",
              " 1,\n",
              " 3,\n",
              " 1,\n",
              " 1,\n",
              " 1,\n",
              " 1,\n",
              " -1]"
            ]
          },
          "metadata": {
            "tags": []
          },
          "execution_count": 24
        }
      ]
    },
    {
      "cell_type": "code",
      "metadata": {
        "colab_type": "code",
        "outputId": "5f19e6e7-67ff-4913-e9c3-b2a8720d4e5a",
        "id": "nzEVsu3VnLyJ",
        "colab": {
          "base_uri": "https://localhost:8080/",
          "height": 459
        }
      },
      "source": [
        "results_2"
      ],
      "execution_count": 0,
      "outputs": [
        {
          "output_type": "execute_result",
          "data": {
            "text/plain": [
              "[[0, 2, 0, 2],\n",
              " [3, 3, 3, 3],\n",
              " [1, 1, 1, 3],\n",
              " [0, 2, 0, 2],\n",
              " [1, 1, 1, 1],\n",
              " [4, 1, 3, 3],\n",
              " [1, 1, 3, 1],\n",
              " [1, 1, 3, 1],\n",
              " [4, 1, 3, 1],\n",
              " [4, 1, 3, 3],\n",
              " [4, 1, 3, 3],\n",
              " [3, 1, 1, 1],\n",
              " [3, 1, 3, 1],\n",
              " [3, 1, 3, 3],\n",
              " [3, 3, 3, 3],\n",
              " [3, 1, 3, 3],\n",
              " [1, 3, 1, 1],\n",
              " [1, 3, 3, 3],\n",
              " [1, 3, 1, 1],\n",
              " [1, 1, 1, 1],\n",
              " [3, 3, 1, 3],\n",
              " [1, 1, 1, 1],\n",
              " [1, 1, 1, 1],\n",
              " [1, 1, 1, 1],\n",
              " [3, 1, 1, 1],\n",
              " [3, 1, 1, 3]]"
            ]
          },
          "metadata": {
            "tags": []
          },
          "execution_count": 25
        }
      ]
    },
    {
      "cell_type": "markdown",
      "metadata": {
        "id": "0ItIY3r8ukG9",
        "colab_type": "text"
      },
      "source": [
        "###Look at some pngs"
      ]
    },
    {
      "cell_type": "code",
      "metadata": {
        "id": "dYQMTyCwuqih",
        "colab_type": "code",
        "outputId": "45cf4b7f-9ca5-41df-bee9-b608a21ba6b0",
        "colab": {
          "base_uri": "https://localhost:8080/",
          "height": 88
        }
      },
      "source": [
        "from spit import generate_pngs\n",
        "write_path = '/content/drive/My Drive/ESI_PNG/'\n",
        "generate_pngs.make_standard(file_path+'esi0014.fits', write_path, [0,-1], 0, preproc_dict) "
      ],
      "execution_count": 0,
      "outputs": [
        {
          "output_type": "stream",
          "text": [
            "Processing FITS file esi0014.fits\n"
          ],
          "name": "stdout"
        },
        {
          "output_type": "stream",
          "text": [
            "/usr/local/lib/python3.6/dist-packages/numpy/core/fromnumeric.py:734: UserWarning: Warning: 'partition' will ignore the 'mask' of the MaskedArray.\n",
            "  a.partition(kth, axis=axis, kind=kind, order=order)\n"
          ],
          "name": "stderr"
        }
      ]
    },
    {
      "cell_type": "markdown",
      "metadata": {
        "id": "qFFTnrSDJmdZ",
        "colab_type": "text"
      },
      "source": [
        "##Predict on Kast-trained model with Keras (subset samples)"
      ]
    },
    {
      "cell_type": "code",
      "metadata": {
        "id": "1gJsncYS6won",
        "colab_type": "code",
        "colab": {}
      },
      "source": [
        "from tensorflow import keras"
      ],
      "execution_count": 0,
      "outputs": []
    },
    {
      "cell_type": "code",
      "metadata": {
        "id": "A4l6fc0z6A4F",
        "colab_type": "code",
        "colab": {}
      },
      "source": [
        "spit_path = \"/content/drive/My Drive\""
      ],
      "execution_count": 0,
      "outputs": []
    },
    {
      "cell_type": "code",
      "metadata": {
        "id": "GpNxsHOT4qYM",
        "colab_type": "code",
        "colab": {}
      },
      "source": [
        "test = np.load(os.path.join(spit_path, 'Kast', 'kast_test.npz'))"
      ],
      "execution_count": 0,
      "outputs": []
    },
    {
      "cell_type": "code",
      "metadata": {
        "id": "TOBp4J_c6d8a",
        "colab_type": "code",
        "colab": {}
      },
      "source": [
        "test_images = test['images']\n",
        "test_labels = test['labels']"
      ],
      "execution_count": 0,
      "outputs": []
    },
    {
      "cell_type": "code",
      "metadata": {
        "id": "LYw7kXxW6iQQ",
        "colab_type": "code",
        "colab": {}
      },
      "source": [
        "test_labels = keras.utils.to_categorical(test_labels, num_classes=len(label_dict))"
      ],
      "execution_count": 0,
      "outputs": []
    },
    {
      "cell_type": "code",
      "metadata": {
        "id": "nkeoFx-aJq9_",
        "colab_type": "code",
        "outputId": "019845c0-2e1b-4f5a-a3fe-81d96eb6c68b",
        "colab": {
          "base_uri": "https://localhost:8080/",
          "height": 105
        }
      },
      "source": [
        "kast_model = spit_c.Classifier(label_dict, preproc_dict, classify_dict)"
      ],
      "execution_count": 0,
      "outputs": [
        {
          "output_type": "stream",
          "text": [
            "WARNING: Logging before flag parsing goes to stderr.\n",
            "W0812 17:30:42.550112 140173069850496 deprecation.py:506] From /usr/local/lib/python3.6/dist-packages/tensorflow/python/ops/init_ops.py:1251: calling VarianceScaling.__init__ (from tensorflow.python.ops.init_ops) with dtype is deprecated and will be removed in a future version.\n",
            "Instructions for updating:\n",
            "Call initializer instance with the dtype argument instead of passing it to the constructor\n"
          ],
          "name": "stderr"
        }
      ]
    },
    {
      "cell_type": "code",
      "metadata": {
        "id": "eRKyAYndJ6rS",
        "colab_type": "code",
        "outputId": "8e8fe36d-e83c-4b39-af7f-1374b4e7270a",
        "colab": {
          "base_uri": "https://localhost:8080/",
          "height": 139
        }
      },
      "source": [
        "kast_model.model = kast_model.load_model('/kast_keras_best_model.h5', file_path)"
      ],
      "execution_count": 0,
      "outputs": [
        {
          "output_type": "stream",
          "text": [
            "W0812 17:30:46.910071 140173069850496 deprecation.py:506] From /usr/local/lib/python3.6/dist-packages/tensorflow/python/ops/init_ops.py:97: calling GlorotUniform.__init__ (from tensorflow.python.ops.init_ops) with dtype is deprecated and will be removed in a future version.\n",
            "Instructions for updating:\n",
            "Call initializer instance with the dtype argument instead of passing it to the constructor\n",
            "W0812 17:30:46.912853 140173069850496 deprecation.py:506] From /usr/local/lib/python3.6/dist-packages/tensorflow/python/ops/init_ops.py:97: calling Zeros.__init__ (from tensorflow.python.ops.init_ops) with dtype is deprecated and will be removed in a future version.\n",
            "Instructions for updating:\n",
            "Call initializer instance with the dtype argument instead of passing it to the constructor\n"
          ],
          "name": "stderr"
        }
      ]
    },
    {
      "cell_type": "code",
      "metadata": {
        "id": "QL7eM0J-KVVk",
        "colab_type": "code",
        "outputId": "ce9d8d6c-31db-48e7-ef42-52959115ebaa",
        "colab": {
          "base_uri": "https://localhost:8080/",
          "height": 1000
        }
      },
      "source": [
        "predictions = kast_model.model.predict(test_images)\n",
        "predictions"
      ],
      "execution_count": 0,
      "outputs": [
        {
          "output_type": "execute_result",
          "data": {
            "text/plain": [
              "array([[5.73008745e-23, 6.36862341e-10, 4.99791119e-22, 9.99465644e-01,\n",
              "        5.34321414e-04],\n",
              "       [2.40022449e-21, 2.11701536e-06, 1.24726809e-15, 5.73569275e-02,\n",
              "        9.42640960e-01],\n",
              "       [3.35388519e-16, 4.15109366e-01, 1.13183887e-06, 5.84889412e-01,\n",
              "        1.08797273e-07],\n",
              "       [1.15521503e-16, 1.26918212e-01, 1.70147601e-07, 8.73080969e-01,\n",
              "        6.11041003e-07],\n",
              "       [7.79973283e-17, 7.71781504e-02, 7.35355385e-08, 9.22820687e-01,\n",
              "        1.07916742e-06],\n",
              "       [6.28665343e-25, 5.93983474e-10, 9.93134964e-18, 3.39151360e-03,\n",
              "        9.96608496e-01],\n",
              "       [5.83139392e-25, 5.65150593e-10, 2.31551081e-17, 2.39030051e-04,\n",
              "        9.99760926e-01],\n",
              "       [1.70559932e-24, 3.74107945e-09, 9.90100915e-17, 9.82835423e-04,\n",
              "        9.99017119e-01],\n",
              "       [1.01116277e-21, 1.63825950e-06, 2.15159819e-17, 2.14544624e-01,\n",
              "        7.85453737e-01],\n",
              "       [1.68675376e-28, 1.44038393e-04, 1.80774913e-17, 2.29381956e-03,\n",
              "        9.97562170e-01],\n",
              "       [9.86067454e-25, 1.65181930e-08, 1.25647941e-16, 9.82690416e-03,\n",
              "        9.90173101e-01],\n",
              "       [1.73604227e-13, 9.88852978e-01, 4.83185478e-17, 3.08886612e-18,\n",
              "        1.11470306e-02],\n",
              "       [1.30958533e-24, 1.13246886e-11, 3.50917597e-19, 6.79227524e-05,\n",
              "        9.99932051e-01],\n",
              "       [2.54348104e-14, 3.56179476e-01, 2.67739279e-06, 6.43817782e-01,\n",
              "        6.28049222e-08],\n",
              "       [2.98656329e-14, 9.99712884e-01, 3.60373264e-07, 2.86753377e-04,\n",
              "        1.01587760e-09],\n",
              "       [3.69038696e-25, 7.59460108e-14, 1.04712099e-20, 1.29152326e-07,\n",
              "        9.99999881e-01],\n",
              "       [1.27059065e-25, 7.88495571e-12, 3.42333479e-20, 5.31539918e-05,\n",
              "        9.99946833e-01],\n",
              "       [0.00000000e+00, 0.00000000e+00, 0.00000000e+00, 1.00000000e+00,\n",
              "        0.00000000e+00],\n",
              "       [0.00000000e+00, 1.19155016e-22, 0.00000000e+00, 1.00000000e+00,\n",
              "        0.00000000e+00],\n",
              "       [0.00000000e+00, 1.78942655e-35, 0.00000000e+00, 1.00000000e+00,\n",
              "        0.00000000e+00],\n",
              "       [0.00000000e+00, 7.13322698e-15, 0.00000000e+00, 1.00000000e+00,\n",
              "        0.00000000e+00],\n",
              "       [0.00000000e+00, 3.79908442e-01, 9.02319749e-26, 6.20091558e-01,\n",
              "        0.00000000e+00],\n",
              "       [0.00000000e+00, 1.95033042e-16, 0.00000000e+00, 1.00000000e+00,\n",
              "        0.00000000e+00],\n",
              "       [4.38476563e-26, 1.00000000e+00, 6.58572666e-19, 1.67549030e-11,\n",
              "        1.35039893e-37],\n",
              "       [0.00000000e+00, 1.49931072e-03, 4.63955902e-33, 9.98500705e-01,\n",
              "        0.00000000e+00],\n",
              "       [0.00000000e+00, 1.15396178e-05, 0.00000000e+00, 9.99988437e-01,\n",
              "        0.00000000e+00],\n",
              "       [0.00000000e+00, 3.03831462e-06, 8.06622794e-29, 9.99997020e-01,\n",
              "        0.00000000e+00],\n",
              "       [1.64105630e-04, 9.99814928e-01, 1.30672042e-08, 1.42382547e-12,\n",
              "        2.09647715e-05],\n",
              "       [1.59033459e-06, 9.99998331e-01, 1.00546949e-09, 2.43556997e-15,\n",
              "        6.96924829e-08],\n",
              "       [1.84912561e-14, 9.99359906e-01, 6.40044454e-04, 9.17029472e-23,\n",
              "        6.64708446e-20],\n",
              "       [5.26226358e-05, 9.99924064e-01, 8.93139696e-09, 8.10290116e-12,\n",
              "        2.33367045e-05],\n",
              "       [5.15588326e-05, 9.99868870e-01, 1.49234447e-09, 3.73813908e-13,\n",
              "        7.95603264e-05],\n",
              "       [6.12798021e-18, 9.97356653e-01, 2.64340453e-03, 1.27330631e-28,\n",
              "        4.62859107e-25],\n",
              "       [3.12175899e-16, 9.88900185e-01, 1.10998470e-02, 6.56498134e-27,\n",
              "        1.11947235e-23],\n",
              "       [1.14163168e-14, 2.36202613e-01, 7.63797402e-01, 3.64754389e-23,\n",
              "        6.14244158e-22],\n",
              "       [0.00000000e+00, 9.99494314e-01, 0.00000000e+00, 5.05682372e-04,\n",
              "        0.00000000e+00],\n",
              "       [0.00000000e+00, 9.14777964e-02, 0.00000000e+00, 9.08522189e-01,\n",
              "        0.00000000e+00],\n",
              "       [0.00000000e+00, 6.33833278e-03, 1.33619155e-35, 9.93661642e-01,\n",
              "        0.00000000e+00],\n",
              "       [9.49024071e-36, 1.00000000e+00, 4.49890691e-21, 2.11443233e-16,\n",
              "        4.23260609e-37],\n",
              "       [8.06545460e-36, 1.00000000e+00, 1.10767963e-24, 3.11048306e-13,\n",
              "        0.00000000e+00],\n",
              "       [5.36878863e-25, 9.99996662e-01, 2.03240767e-23, 3.37518463e-06,\n",
              "        1.63988622e-35],\n",
              "       [3.70598273e-29, 1.00000000e+00, 2.28561924e-23, 2.02767692e-10,\n",
              "        4.93938687e-36],\n",
              "       [7.70956257e-29, 9.99999642e-01, 2.67750811e-21, 3.88138290e-07,\n",
              "        1.14325590e-30],\n",
              "       [0.00000000e+00, 1.00000000e+00, 1.62757893e-25, 3.24917670e-23,\n",
              "        0.00000000e+00],\n",
              "       [0.00000000e+00, 1.00000000e+00, 1.50984482e-29, 2.02897808e-20,\n",
              "        0.00000000e+00],\n",
              "       [0.00000000e+00, 1.00000000e+00, 9.68149267e-26, 5.51835078e-10,\n",
              "        0.00000000e+00],\n",
              "       [4.27264855e-24, 8.80612314e-01, 1.08472721e-21, 1.19387686e-01,\n",
              "        2.66669051e-28],\n",
              "       [2.56627109e-31, 2.05239132e-02, 3.21575104e-27, 9.79476035e-01,\n",
              "        1.50050788e-36],\n",
              "       [0.00000000e+00, 9.76343095e-01, 2.69176467e-28, 2.36568935e-02,\n",
              "        0.00000000e+00],\n",
              "       [8.09614681e-31, 9.99138236e-01, 4.28029414e-22, 8.61776352e-04,\n",
              "        1.13816772e-33],\n",
              "       [1.80852210e-38, 1.00000000e+00, 8.20969201e-24, 2.35004549e-08,\n",
              "        0.00000000e+00],\n",
              "       [2.61682300e-24, 9.97909725e-01, 1.28307822e-22, 2.09019892e-03,\n",
              "        1.55601645e-30],\n",
              "       [0.00000000e+00, 1.00000000e+00, 3.21847344e-30, 4.28768861e-11,\n",
              "        0.00000000e+00],\n",
              "       [1.14797520e-35, 9.99921679e-01, 1.47950295e-23, 7.83277137e-05,\n",
              "        2.58388271e-37],\n",
              "       [3.50907614e-28, 3.52765977e-01, 6.44439455e-26, 6.47234023e-01,\n",
              "        1.65702327e-32],\n",
              "       [0.00000000e+00, 1.00000000e+00, 2.63683759e-25, 1.08946030e-14,\n",
              "        0.00000000e+00],\n",
              "       [2.99469740e-31, 1.00000000e+00, 1.32224114e-21, 1.97249195e-09,\n",
              "        1.50599729e-28],\n",
              "       [6.38592702e-26, 9.99991536e-01, 3.53088119e-20, 8.41178644e-06,\n",
              "        4.84898749e-28],\n",
              "       [1.14540865e-25, 2.54764987e-10, 2.83801687e-19, 3.01995017e-02,\n",
              "        9.69800532e-01],\n",
              "       [2.29607778e-25, 4.49689980e-10, 5.53990567e-18, 1.23257577e-01,\n",
              "        8.76742363e-01],\n",
              "       [4.61740194e-26, 1.22203289e-10, 1.59101431e-19, 1.40686268e-02,\n",
              "        9.85931396e-01],\n",
              "       [4.43779569e-25, 1.92147964e-09, 1.49786496e-18, 3.10024470e-02,\n",
              "        9.68997538e-01],\n",
              "       [0.00000000e+00, 1.05146839e-27, 0.00000000e+00, 1.00000000e+00,\n",
              "        0.00000000e+00],\n",
              "       [0.00000000e+00, 3.31806761e-23, 0.00000000e+00, 1.00000000e+00,\n",
              "        0.00000000e+00],\n",
              "       [2.22585948e-18, 8.82002532e-01, 1.17997460e-01, 3.79240980e-28,\n",
              "        1.26415589e-25],\n",
              "       [1.62175781e-27, 1.52309788e-14, 1.00000000e+00, 4.45384854e-19,\n",
              "        9.69040961e-31],\n",
              "       [3.79381435e-34, 5.97412568e-22, 1.00000000e+00, 1.87601261e-26,\n",
              "        6.26319093e-38],\n",
              "       [5.54976744e-31, 8.77534405e-18, 1.00000000e+00, 1.56234849e-22,\n",
              "        4.00795314e-34],\n",
              "       [0.00000000e+00, 9.99997854e-01, 0.00000000e+00, 2.10552025e-06,\n",
              "        0.00000000e+00],\n",
              "       [0.00000000e+00, 3.04904972e-07, 0.00000000e+00, 9.99999642e-01,\n",
              "        0.00000000e+00],\n",
              "       [9.49092108e-30, 1.00000000e+00, 7.81619894e-22, 6.62486966e-23,\n",
              "        4.27353740e-38],\n",
              "       [0.00000000e+00, 1.00000000e+00, 0.00000000e+00, 3.28466925e-08,\n",
              "        0.00000000e+00],\n",
              "       [0.00000000e+00, 1.00000000e+00, 1.05729570e-36, 3.70533038e-15,\n",
              "        0.00000000e+00],\n",
              "       [1.81588898e-33, 1.00000000e+00, 3.23398442e-20, 6.37547892e-22,\n",
              "        2.48433223e-37],\n",
              "       [0.00000000e+00, 1.00000000e+00, 5.66833882e-33, 9.58123247e-10,\n",
              "        0.00000000e+00]], dtype=float32)"
            ]
          },
          "metadata": {
            "tags": []
          },
          "execution_count": 37
        }
      ]
    },
    {
      "cell_type": "code",
      "metadata": {
        "id": "-ABcxsFvKi51",
        "colab_type": "code",
        "colab": {}
      },
      "source": [
        "pred = []\n",
        "for p in enumerate(predictions):\n",
        "  # index of loop\n",
        "  i = p[0]\n",
        "  # particular prediction array for this image\n",
        "  p_array = p[1]\n",
        "  # find and append prediction\n",
        "  maxIndex = np.where(p_array == np.amax(p_array))\n",
        "  pred.append(maxIndex[0][0])"
      ],
      "execution_count": 0,
      "outputs": []
    },
    {
      "cell_type": "code",
      "metadata": {
        "id": "BbKvUtKeLCF9",
        "colab_type": "code",
        "outputId": "2b72aebe-a4d7-42b5-8f07-59d6268a2c20",
        "colab": {
          "base_uri": "https://localhost:8080/",
          "height": 51
        }
      },
      "source": [
        "# plot_confusion_matrix(test_labels, pred, )\n",
        "print(label_dict)\n",
        "classes = []\n",
        "for label in label_dict:\n",
        "  if '_label' in label:\n",
        "    label = label.replace('_label','')\n",
        "  classes.append(label)\n",
        "print(classes)\n",
        "# classes = {x.replace('_label', '') for x in classes}\n",
        "# print(classes)"
      ],
      "execution_count": 0,
      "outputs": [
        {
          "output_type": "stream",
          "text": [
            "OrderedDict([('bias_label', 0), ('science_label', 1), ('standard_label', 2), ('arc_label', 3), ('flat_label', 4)])\n",
            "['bias', 'science', 'standard', 'arc', 'flat']\n"
          ],
          "name": "stdout"
        }
      ]
    },
    {
      "cell_type": "code",
      "metadata": {
        "id": "v8GfN6BlLH5M",
        "colab_type": "code",
        "outputId": "42fc7d75-ea7e-44e4-c103-e492b5891fbc",
        "colab": {
          "base_uri": "https://localhost:8080/",
          "height": 690
        }
      },
      "source": [
        "plot_confusion_matrix(val_true, pred, classes)"
      ],
      "execution_count": 0,
      "outputs": [
        {
          "output_type": "stream",
          "text": [
            "Confusion matrix, without normalization\n",
            "[[ 0  8  4  0  0]\n",
            " [ 0 23  0  3  0]\n",
            " [ 0  2  0  2  0]\n",
            " [ 0  1  0 11  0]\n",
            " [ 0  2  0  5 14]]\n"
          ],
          "name": "stdout"
        },
        {
          "output_type": "execute_result",
          "data": {
            "text/plain": [
              "<matplotlib.axes._subplots.AxesSubplot at 0x7f7bf6de48d0>"
            ]
          },
          "metadata": {
            "tags": []
          },
          "execution_count": 40
        },
        {
          "output_type": "display_data",
          "data": {
            "image/png": "[encoded data removed]",
            "text/plain": [
              "<Figure size 576x576 with 2 Axes>"
            ]
          },
          "metadata": {
            "tags": []
          }
        }
      ]
    },
    {
      "cell_type": "markdown",
      "metadata": {
        "id": "h1bmx0BaO6BO",
        "colab_type": "text"
      },
      "source": [
        "##Read esi.list"
      ]
    },
    {
      "cell_type": "markdown",
      "metadata": {
        "id": "JhNCkHLWPs6P",
        "colab_type": "text"
      },
      "source": [
        "- Read .list file\n",
        "- Traverse ECH label & class label and move into folders named by classes\n",
        "- Split each class into train/valid/test"
      ]
    },
    {
      "cell_type": "code",
      "metadata": {
        "id": "x5y5gnYCSg-v",
        "colab_type": "code",
        "colab": {}
      },
      "source": [
        "# file path that contains esi.list wanted\n",
        "data_dpath = '/content/drive/My Drive/ESI/2005-Aug-04'"
      ],
      "execution_count": 0,
      "outputs": []
    },
    {
      "cell_type": "code",
      "metadata": {
        "id": "H_wbCMilSqIc",
        "colab_type": "code",
        "outputId": "a92c1ab2-99d8-49ee-d7a0-7caa9ee786f6",
        "colab": {
          "base_uri": "https://localhost:8080/",
          "height": 34
        }
      },
      "source": [
        "cd '/content/drive/My Drive/ESI/2005-Aug-04'"
      ],
      "execution_count": 0,
      "outputs": [
        {
          "output_type": "stream",
          "text": [
            "/content/drive/My Drive/ESI/2005-Aug-04\n"
          ],
          "name": "stdout"
        }
      ]
    },
    {
      "cell_type": "code",
      "metadata": {
        "id": "p5smhKvJW9IG",
        "colab_type": "code",
        "outputId": "a2268c48-efaf-45c5-c0b2-f35de54a0d9e",
        "colab": {
          "base_uri": "https://localhost:8080/",
          "height": 519
        }
      },
      "source": [
        "# use astropy to read esi.list\n",
        "from astropy.io import ascii\n",
        "data = ascii.read(data_dpath+'/esi.list')\n",
        "data"
      ],
      "execution_count": 0,
      "outputs": [
        {
          "output_type": "execute_result",
          "data": {
            "text/html": [
              "<i>Table length=120</i>\n",
              "<table id=\"table140054441784936\" class=\"table-striped table-bordered table-condensed\">\n",
              "<thead><tr><th>col1</th><th>col2</th><th>col3</th><th>col4</th><th>col5</th><th>col6</th><th>col7</th><th>col8</th><th>col9</th><th>col10</th><th>col11</th><th>col12</th><th>col13</th><th>col14</th><th>col15</th></tr></thead>\n",
              "<thead><tr><th>int64</th><th>str7</th><th>int64</th><th>str12</th><th>int64</th><th>str3</th><th>str4</th><th>int64</th><th>float64</th><th>int64</th><th>int64</th><th>str1</th><th>float64</th><th>int64</th><th>int64</th></tr></thead>\n",
              "<tr><td>1</td><td>esi0002</td><td>1</td><td>Bias</td><td>-1</td><td>ECH</td><td>ZRO</td><td>1</td><td>0.75</td><td>0</td><td>0</td><td>C</td><td>1.0</td><td>0</td><td>0</td></tr>\n",
              "<tr><td>2</td><td>esi0003</td><td>1</td><td>Bias</td><td>-1</td><td>ECH</td><td>ZRO</td><td>1</td><td>0.75</td><td>0</td><td>0</td><td>C</td><td>1.0</td><td>0</td><td>0</td></tr>\n",
              "<tr><td>3</td><td>esi0004</td><td>1</td><td>Bias</td><td>-1</td><td>ECH</td><td>ZRO</td><td>1</td><td>0.75</td><td>0</td><td>0</td><td>C</td><td>1.0</td><td>0</td><td>0</td></tr>\n",
              "<tr><td>4</td><td>esi0005</td><td>1</td><td>Bias</td><td>-1</td><td>ECH</td><td>ZRO</td><td>1</td><td>0.75</td><td>0</td><td>0</td><td>C</td><td>1.0</td><td>0</td><td>0</td></tr>\n",
              "<tr><td>5</td><td>esi0006</td><td>1</td><td>Bias</td><td>-1</td><td>ECH</td><td>ZRO</td><td>1</td><td>0.75</td><td>0</td><td>0</td><td>C</td><td>1.0</td><td>0</td><td>0</td></tr>\n",
              "<tr><td>6</td><td>esi0007</td><td>1</td><td>Bias</td><td>-1</td><td>ECH</td><td>ZRO</td><td>1</td><td>0.75</td><td>0</td><td>0</td><td>C</td><td>1.0</td><td>0</td><td>0</td></tr>\n",
              "<tr><td>7</td><td>esi0008</td><td>1</td><td>Bias</td><td>-1</td><td>ECH</td><td>ZRO</td><td>1</td><td>0.75</td><td>0</td><td>0</td><td>C</td><td>1.0</td><td>0</td><td>0</td></tr>\n",
              "<tr><td>8</td><td>esi0009</td><td>1</td><td>Bias</td><td>-1</td><td>ECH</td><td>ZRO</td><td>1</td><td>0.75</td><td>0</td><td>0</td><td>C</td><td>1.0</td><td>0</td><td>0</td></tr>\n",
              "<tr><td>9</td><td>esi0010</td><td>1</td><td>Bias</td><td>-1</td><td>ECH</td><td>ZRO</td><td>1</td><td>0.75</td><td>0</td><td>0</td><td>C</td><td>1.0</td><td>0</td><td>0</td></tr>\n",
              "<tr><td>10</td><td>esi0011</td><td>1</td><td>Bias</td><td>-1</td><td>ECH</td><td>ZRO</td><td>1</td><td>0.75</td><td>0</td><td>0</td><td>C</td><td>1.0</td><td>0</td><td>0</td></tr>\n",
              "<tr><td>...</td><td>...</td><td>...</td><td>...</td><td>...</td><td>...</td><td>...</td><td>...</td><td>...</td><td>...</td><td>...</td><td>...</td><td>...</td><td>...</td><td>...</td></tr>\n",
              "<tr><td>132</td><td>esi0133</td><td>1</td><td>TwilightFlat</td><td>-1</td><td>IMG</td><td>OBJ</td><td>6</td><td>0.0</td><td>0</td><td>0</td><td>R</td><td>1.46</td><td>0</td><td>0</td></tr>\n",
              "<tr><td>133</td><td>esi0134</td><td>1</td><td>TwilightFlat</td><td>-1</td><td>IMG</td><td>OBJ</td><td>6</td><td>0.0</td><td>0</td><td>0</td><td>R</td><td>1.46</td><td>0</td><td>0</td></tr>\n",
              "<tr><td>134</td><td>esi0135</td><td>1</td><td>TwilightFlat</td><td>-1</td><td>IMG</td><td>OBJ</td><td>6</td><td>0.0</td><td>0</td><td>0</td><td>R</td><td>1.47</td><td>0</td><td>0</td></tr>\n",
              "<tr><td>135</td><td>esi0136</td><td>1</td><td>TwilightFlat</td><td>-1</td><td>IMG</td><td>OBJ</td><td>6</td><td>0.0</td><td>0</td><td>0</td><td>R</td><td>1.47</td><td>0</td><td>0</td></tr>\n",
              "<tr><td>136</td><td>esi0137</td><td>1</td><td>TwilightFlat</td><td>-1</td><td>IMG</td><td>OBJ</td><td>4</td><td>0.0</td><td>0</td><td>0</td><td>R</td><td>1.48</td><td>0</td><td>0</td></tr>\n",
              "<tr><td>137</td><td>esi0138</td><td>1</td><td>TwilightFlat</td><td>-1</td><td>IMG</td><td>OBJ</td><td>4</td><td>0.0</td><td>0</td><td>0</td><td>R</td><td>1.48</td><td>0</td><td>0</td></tr>\n",
              "<tr><td>138</td><td>esi0139</td><td>1</td><td>TwilightFlat</td><td>-1</td><td>IMG</td><td>OBJ</td><td>2</td><td>0.0</td><td>0</td><td>0</td><td>R</td><td>1.48</td><td>0</td><td>0</td></tr>\n",
              "<tr><td>139</td><td>esi0140</td><td>1</td><td>TwilightFlat</td><td>-1</td><td>IMG</td><td>OBJ</td><td>2</td><td>0.0</td><td>0</td><td>0</td><td>R</td><td>1.49</td><td>0</td><td>0</td></tr>\n",
              "<tr><td>140</td><td>esi0141</td><td>1</td><td>TwilightFlat</td><td>-1</td><td>IMG</td><td>OBJ</td><td>2</td><td>0.0</td><td>0</td><td>0</td><td>R</td><td>1.49</td><td>0</td><td>0</td></tr>\n",
              "<tr><td>141</td><td>esi0142</td><td>1</td><td>TwilightFlat</td><td>-1</td><td>IMG</td><td>OBJ</td><td>1</td><td>0.0</td><td>0</td><td>0</td><td>R</td><td>1.5</td><td>0</td><td>0</td></tr>\n",
              "</table>"
            ],
            "text/plain": [
              "<Table length=120>\n",
              " col1   col2   col3     col4      col5 col6 ... col11 col12  col13  col14 col15\n",
              "int64   str7  int64    str12     int64 str3 ... int64  str1 float64 int64 int64\n",
              "----- ------- ----- ------------ ----- ---- ... ----- ----- ------- ----- -----\n",
              "    1 esi0002     1         Bias    -1  ECH ...     0     C     1.0     0     0\n",
              "    2 esi0003     1         Bias    -1  ECH ...     0     C     1.0     0     0\n",
              "    3 esi0004     1         Bias    -1  ECH ...     0     C     1.0     0     0\n",
              "    4 esi0005     1         Bias    -1  ECH ...     0     C     1.0     0     0\n",
              "    5 esi0006     1         Bias    -1  ECH ...     0     C     1.0     0     0\n",
              "    6 esi0007     1         Bias    -1  ECH ...     0     C     1.0     0     0\n",
              "    7 esi0008     1         Bias    -1  ECH ...     0     C     1.0     0     0\n",
              "    8 esi0009     1         Bias    -1  ECH ...     0     C     1.0     0     0\n",
              "    9 esi0010     1         Bias    -1  ECH ...     0     C     1.0     0     0\n",
              "   10 esi0011     1         Bias    -1  ECH ...     0     C     1.0     0     0\n",
              "  ...     ...   ...          ...   ...  ... ...   ...   ...     ...   ...   ...\n",
              "  132 esi0133     1 TwilightFlat    -1  IMG ...     0     R    1.46     0     0\n",
              "  133 esi0134     1 TwilightFlat    -1  IMG ...     0     R    1.46     0     0\n",
              "  134 esi0135     1 TwilightFlat    -1  IMG ...     0     R    1.47     0     0\n",
              "  135 esi0136     1 TwilightFlat    -1  IMG ...     0     R    1.47     0     0\n",
              "  136 esi0137     1 TwilightFlat    -1  IMG ...     0     R    1.48     0     0\n",
              "  137 esi0138     1 TwilightFlat    -1  IMG ...     0     R    1.48     0     0\n",
              "  138 esi0139     1 TwilightFlat    -1  IMG ...     0     R    1.48     0     0\n",
              "  139 esi0140     1 TwilightFlat    -1  IMG ...     0     R    1.49     0     0\n",
              "  140 esi0141     1 TwilightFlat    -1  IMG ...     0     R    1.49     0     0\n",
              "  141 esi0142     1 TwilightFlat    -1  IMG ...     0     R     1.5     0     0"
            ]
          },
          "metadata": {
            "tags": []
          },
          "execution_count": 14
        }
      ]
    },
    {
      "cell_type": "markdown",
      "metadata": {
        "id": "uMoM25OGYMK4",
        "colab_type": "text"
      },
      "source": [
        "Reading Logic:\n",
        "\n",
        "- if col6=='ECH' --> Read col7 to see five classes\n",
        "- else if col6!='ECH' && col7=='ZRO' --> still to Bias"
      ]
    },
    {
      "cell_type": "code",
      "metadata": {
        "id": "VTm1NoKzXt3B",
        "colab_type": "code",
        "colab": {}
      },
      "source": [
        "# where to save the new data\n",
        "save_dir = '/content/drive/My Drive/ESI_DATA'"
      ],
      "execution_count": 0,
      "outputs": []
    },
    {
      "cell_type": "code",
      "metadata": {
        "id": "wBKQCh8DbrAh",
        "colab_type": "code",
        "outputId": "60c019d8-32b7-4e26-e110-a36cd825792d",
        "colab": {
          "base_uri": "https://localhost:8080/",
          "height": 34
        }
      },
      "source": [
        "from shutil import copyfile\n",
        "curr_dir = os.getcwd()\n",
        "curr_dir"
      ],
      "execution_count": 0,
      "outputs": [
        {
          "output_type": "execute_result",
          "data": {
            "text/plain": [
              "'/content/drive/My Drive/ESI/2005-Aug-04'"
            ]
          },
          "metadata": {
            "tags": []
          },
          "execution_count": 23
        }
      ]
    },
    {
      "cell_type": "code",
      "metadata": {
        "id": "fUMevpRssS80",
        "colab_type": "code",
        "colab": {}
      },
      "source": [
        "# prefix needed for saving (there are cases that fits files have same names in different folders)\n",
        "time_pre = '2005-Aug-04_'"
      ],
      "execution_count": 0,
      "outputs": []
    },
    {
      "cell_type": "code",
      "metadata": {
        "id": "amHHFnieaA8w",
        "colab_type": "code",
        "colab": {}
      },
      "source": [
        "# methods that redirect data from original folders\n",
        "# the name of file in esi.list contains '.fits' e.g. 'esi0001.fits'\n",
        "# param:\n",
        "# data: data that read from esi.list by astropy\n",
        "# src_dir: source directory, where the fits files are saved\n",
        "# dst_dir: destination directory, where we need to save different classes folders\n",
        "\n",
        "def redirect_data(data, src_dir, dst_dir):\n",
        "  for i in range(len(data)):\n",
        "    if data['col6'][i] == 'ECH':\n",
        "      if data['col7'][i] == 'ZRO':\n",
        "        copyfile(src_dir+'/'+data['col2'][i]+'.gz', dst_dir+'/bias/'+time_pre+data['col2'][i]+'.gz')\n",
        "      elif data['col7'][i] == 'IFLT':\n",
        "        copyfile(src_dir+'/'+data['col2'][i]+'.gz', dst_dir+'/flat/'+time_pre+data['col2'][i]+'.gz')\n",
        "      elif data['col7'][i] == 'DFLT':\n",
        "        copyfile(src_dir+'/'+data['col2'][i]+'.gz', dst_dir+'/flat/'+time_pre+data['col2'][i]+'.gz')\n",
        "      elif data['col7'][i] == 'ARC':\n",
        "        copyfile(src_dir+'/'+data['col2'][i]+'.gz', dst_dir+'/arc/'+time_pre+data['col2'][i]+'.gz')\n",
        "      elif data['col7'][i] == 'STD':\n",
        "        copyfile(src_dir+'/'+data['col2'][i]+'.gz', dst_dir+'/standard/'+time_pre+data['col2'][i]+'.gz')\n",
        "      elif data['col7'][i] == 'OBJ':\n",
        "        copyfile(src_dir+'/'+data['col2'][i]+'.gz', dst_dir+'/science/'+time_pre+data['col2'][i]+'.gz')\n",
        "    elif data['col6'][i] != 'ECH' and data['col7'][i] == 'ZRO':\n",
        "      copyfile(src_dir+'/'+data['col2'][i]+'.gz', dst_dir+'/bias/'+time_pre+data['col2'][i]+'.gz')\n",
        "    else:\n",
        "      copyfile(src_dir+'/'+data['col2'][i]+'.gz', dst_dir+'/err_'+time_pre+data['col2'][i]+'.gz')\n",
        "      \n",
        "  return"
      ],
      "execution_count": 0,
      "outputs": []
    },
    {
      "cell_type": "code",
      "metadata": {
        "id": "Qi6OzvK6qvcg",
        "colab_type": "code",
        "colab": {}
      },
      "source": [
        "# methods that redirect data from original folders\n",
        "# the name of file in esi.list that does not contain '.fits' e.g. 'esi0001'\n",
        "# param:\n",
        "# data: data that read from esi.list by astropy\n",
        "# src_dir: source directory, where the fits files are saved\n",
        "# dst_dir: destination directory, where we need to save different classes folders\n",
        "\n",
        "def redirect_data_fits(data, src_dir, dst_dir):\n",
        "  for i in range(len(data)):\n",
        "    if data['col6'][i] == 'ECH':\n",
        "      if data['col7'][i] == 'ZRO':\n",
        "        copyfile(src_dir+'/'+data['col2'][i]+'.fits.gz', dst_dir+'/bias/'+time_pre+data['col2'][i]+'.fits.gz')\n",
        "      elif data['col7'][i] == 'IFLT':\n",
        "        copyfile(src_dir+'/'+data['col2'][i]+'.fits.gz', dst_dir+'/flat/'+time_pre+data['col2'][i]+'.fits.gz')\n",
        "      elif data['col7'][i] == 'DFLT':\n",
        "        copyfile(src_dir+'/'+data['col2'][i]+'.fits.gz', dst_dir+'/flat/'+time_pre+data['col2'][i]+'.fits.gz')\n",
        "      elif data['col7'][i] == 'ARC':\n",
        "        copyfile(src_dir+'/'+data['col2'][i]+'.fits.gz', dst_dir+'/arc/'+time_pre+data['col2'][i]+'.fits.gz')\n",
        "      elif data['col7'][i] == 'STD':\n",
        "        copyfile(src_dir+'/'+data['col2'][i]+'.fits.gz', dst_dir+'/standard/'+time_pre+data['col2'][i]+'.fits.gz')\n",
        "      elif data['col7'][i] == 'OBJ':\n",
        "        copyfile(src_dir+'/'+data['col2'][i]+'.fits.gz', dst_dir+'/science/'+time_pre+data['col2'][i]+'.fits.gz')\n",
        "    elif data['col6'][i] != 'ECH' and data['col7'][i] == 'ZRO':\n",
        "      copyfile(src_dir+'/'+data['col2'][i]+'.fits.gz', dst_dir+'/bias/'+time_pre+data['col2'][i]+'.fits.gz')\n",
        "    else:\n",
        "      copyfile(src_dir+'/'+data['col2'][i]+'.fits.gz', dst_dir+'err_'+time_pre+data['col2'][i]+'.fits.gz')\n",
        "      \n",
        "  return"
      ],
      "execution_count": 0,
      "outputs": []
    },
    {
      "cell_type": "code",
      "metadata": {
        "id": "dLLZ1E7DynnC",
        "colab_type": "code",
        "colab": {}
      },
      "source": [
        "# file names in esi.list with '.fits'\n",
        "redirect_data(data, curr_dir, save_dir)"
      ],
      "execution_count": 0,
      "outputs": []
    },
    {
      "cell_type": "code",
      "metadata": {
        "id": "d3bl8gByrta2",
        "colab_type": "code",
        "colab": {}
      },
      "source": [
        "# file names in esi.list without '.fits'\n",
        "redirect_data_fits(data, curr_dir, save_dir)"
      ],
      "execution_count": 0,
      "outputs": []
    },
    {
      "cell_type": "code",
      "metadata": {
        "id": "KwyTKTigGsIh",
        "colab_type": "code",
        "colab": {}
      },
      "source": [
        ""
      ],
      "execution_count": 0,
      "outputs": []
    },
    {
      "cell_type": "markdown",
      "metadata": {
        "id": "VDTBxdoRGs8J",
        "colab_type": "text"
      },
      "source": [
        "##Split sets"
      ]
    },
    {
      "cell_type": "markdown",
      "metadata": {
        "id": "B_KMqrCpYpU2",
        "colab_type": "text"
      },
      "source": [
        "This method will create folders called 'train' 'val' 'test' in the output folder that contains original classes.\n",
        "\n",
        "Usage: https://pypi.org/project/split-folders/"
      ]
    },
    {
      "cell_type": "code",
      "metadata": {
        "id": "YkVEpRDAYpro",
        "colab_type": "code",
        "outputId": "de9f97c8-bcf8-4015-ee3d-394239ccae41",
        "colab": {
          "base_uri": "https://localhost:8080/",
          "height": 105
        }
      },
      "source": [
        "pip install split-folders"
      ],
      "execution_count": 0,
      "outputs": [
        {
          "output_type": "stream",
          "text": [
            "Collecting split-folders\n",
            "  Downloading https://files.pythonhosted.org/packages/20/67/29dda743e6d23ac1ea3d16704d8bbb48d65faf3f1b1eaf53153b3da56c56/split_folders-0.3.1-py3-none-any.whl\n",
            "Installing collected packages: split-folders\n",
            "Successfully installed split-folders-0.3.1\n"
          ],
          "name": "stdout"
        }
      ]
    },
    {
      "cell_type": "code",
      "metadata": {
        "id": "cQsBZj8gHWFU",
        "colab_type": "code",
        "colab": {}
      },
      "source": [
        "data_dpath = '/content/drive/My Drive/ESI_DATA'"
      ],
      "execution_count": 0,
      "outputs": []
    },
    {
      "cell_type": "code",
      "metadata": {
        "id": "izLf7scxMBWp",
        "colab_type": "code",
        "outputId": "2439d815-b039-4689-aef8-f8f9529487a9",
        "colab": {
          "base_uri": "https://localhost:8080/",
          "height": 34
        }
      },
      "source": [
        "cd /content/drive/My Drive/"
      ],
      "execution_count": 0,
      "outputs": [
        {
          "output_type": "stream",
          "text": [
            "/content/drive/My Drive\n"
          ],
          "name": "stdout"
        }
      ]
    },
    {
      "cell_type": "code",
      "metadata": {
        "id": "zRcqDF28bwtF",
        "colab_type": "code",
        "colab": {}
      },
      "source": [
        "import split_folders"
      ],
      "execution_count": 0,
      "outputs": []
    },
    {
      "cell_type": "code",
      "metadata": {
        "id": "pHaSfMDgb0EM",
        "colab_type": "code",
        "outputId": "61aecae7-96e5-469f-d4db-7b18af671c0c",
        "colab": {
          "base_uri": "https://localhost:8080/",
          "height": 34
        }
      },
      "source": [
        "split_folders.ratio('ESI_DATA', output=\"ESI_DATA_SPLIT\", ratio=(.7, .15, .15))"
      ],
      "execution_count": 0,
      "outputs": [
        {
          "output_type": "stream",
          "text": [
            "Copying files: 490 files [09:00,  1.29s/ files]\n"
          ],
          "name": "stderr"
        }
      ]
    },
    {
      "cell_type": "markdown",
      "metadata": {
        "id": "BORqLGX8dGEb",
        "colab_type": "text"
      },
      "source": [
        "##Create .npz file for train/valid/test"
      ]
    },
    {
      "cell_type": "code",
      "metadata": {
        "id": "x0LWGv3adImO",
        "colab_type": "code",
        "colab": {}
      },
      "source": [
        "# the file path that contains fits files\n",
        "file_dpath = '/content/drive/My Drive/ESI_DATA_SPLIT/test'"
      ],
      "execution_count": 0,
      "outputs": []
    },
    {
      "cell_type": "code",
      "metadata": {
        "id": "t4ZdNHJqqaXW",
        "colab_type": "code",
        "outputId": "1aaccc41-92cf-4002-c363-3e81918d5262",
        "colab": {
          "base_uri": "https://localhost:8080/",
          "height": 34
        }
      },
      "source": [
        "cd '/content/drive/My Drive/ESI_DATA_SPLIT/test'"
      ],
      "execution_count": 0,
      "outputs": [
        {
          "output_type": "stream",
          "text": [
            "/content/drive/My Drive/ESI_DATA_SPLIT/test\n"
          ],
          "name": "stdout"
        }
      ]
    },
    {
      "cell_type": "code",
      "metadata": {
        "id": "WHAi6Ff6x0Sd",
        "colab_type": "code",
        "colab": {}
      },
      "source": [
        "import os\n",
        "import gzip\n",
        "from astropy.io import fits\n",
        "import pdb\n",
        "import numpy as np"
      ],
      "execution_count": 0,
      "outputs": []
    },
    {
      "cell_type": "code",
      "metadata": {
        "id": "3DD2ChnDru3m",
        "colab_type": "code",
        "outputId": "d8c009a1-a501-4859-807f-46bf42f66330",
        "colab": {
          "base_uri": "https://localhost:8080/",
          "height": 130
        }
      },
      "source": [
        "images = [] \n",
        "labels = []\n",
        "i = 0\n",
        "\n",
        "#for itype in ['flat', 'arc', 'bias','standard','science']:\n",
        "for file in os.listdir(file_dpath+'/science'+#itype):\n",
        "  if i==4:\n",
        "    i=0\n",
        "    break\n",
        "  # decompress and read fits files data out\n",
        "  if file.endswith(\".gz\"):\n",
        "    filename = file[:-3]\n",
        "    image = open(file_dpath+'/'+itype+'/'+filename, \"wb\")\n",
        "    with gzip.open(file_dpath+'/'+itype+'/'+file, \"rb\") as f:\n",
        "      bindata = f.read()\n",
        "      image.write(bindata)\n",
        "      f.close()\n",
        "    print('Working on file %s ' %filename)\n",
        "    fits_file = file_dpath+'/'+itype+'/'+filename\n",
        "    data = spit_io.read_fits(fits_file)\n",
        "    image_data = spit_p.process_image(data, preproc_dict)\n",
        "    images.append(image_data)\n",
        "    image.close()\n",
        "      \n",
        "    if itype == 'bias':\n",
        "      image_label = label_dict['bias_label']\n",
        "    elif itype == 'science':\n",
        "      image_label = label_dict['science_label']\n",
        "    elif itype == 'standard':\n",
        "      image_label = label_dict['standard_label']\n",
        "    elif itype == 'arc':\n",
        "      image_label = label_dict['arc_label']\n",
        "    elif itype == 'flat':\n",
        "      image_label = label_dict['flat_label']\n",
        "    else:\n",
        "      pdb.set_trace()\n",
        "    labels.append(image_label)\n",
        "  i = i+1\n",
        "        \n",
        "images_array = np.array(list(images))\n",
        "images_labels = np.array(list(labels))"
      ],
      "execution_count": 0,
      "outputs": [
        {
          "output_type": "error",
          "ename": "SyntaxError",
          "evalue": "ignored",
          "traceback": [
            "\u001b[0;36m  File \u001b[0;32m\"<ipython-input-52-f5167fc9a576>\"\u001b[0;36m, line \u001b[0;32m7\u001b[0m\n\u001b[0;31m    if i==4:\u001b[0m\n\u001b[0m     ^\u001b[0m\n\u001b[0;31mSyntaxError\u001b[0m\u001b[0;31m:\u001b[0m invalid syntax\n"
          ]
        }
      ]
    },
    {
      "cell_type": "code",
      "metadata": {
        "id": "SWqDXxV19-gl",
        "colab_type": "code",
        "outputId": "aa91953e-26f2-4184-d068-04b9efe02270",
        "colab": {
          "base_uri": "https://localhost:8080/",
          "height": 34
        }
      },
      "source": [
        "images_array.shape"
      ],
      "execution_count": 0,
      "outputs": [
        {
          "output_type": "execute_result",
          "data": {
            "text/plain": [
              "(16, 210, 650)"
            ]
          },
          "metadata": {
            "tags": []
          },
          "execution_count": 44
        }
      ]
    },
    {
      "cell_type": "code",
      "metadata": {
        "id": "v3hCJXqQPn9G",
        "colab_type": "code",
        "outputId": "b949ecb1-44bc-4b21-d799-44bec5f919ed",
        "colab": {
          "base_uri": "https://localhost:8080/",
          "height": 34
        }
      },
      "source": [
        "images_labels.shape"
      ],
      "execution_count": 0,
      "outputs": [
        {
          "output_type": "execute_result",
          "data": {
            "text/plain": [
              "(16,)"
            ]
          },
          "metadata": {
            "tags": []
          },
          "execution_count": 24
        }
      ]
    },
    {
      "cell_type": "code",
      "metadata": {
        "id": "DxpovSkfPyjr",
        "colab_type": "code",
        "outputId": "efc53527-c496-4be1-f1ec-792289e81597",
        "colab": {
          "base_uri": "https://localhost:8080/",
          "height": 34
        }
      },
      "source": [
        "ishape = list(images_array.shape)\n",
        "images_array = images_array.reshape(ishape+[1])\n",
        "images_array.shape"
      ],
      "execution_count": 0,
      "outputs": [
        {
          "output_type": "execute_result",
          "data": {
            "text/plain": [
              "(16, 210, 650, 1)"
            ]
          },
          "metadata": {
            "tags": []
          },
          "execution_count": 25
        }
      ]
    },
    {
      "cell_type": "code",
      "metadata": {
        "id": "Z5IlMW4BQaCB",
        "colab_type": "code",
        "colab": {}
      },
      "source": [
        " np.savez_compressed('balanced_test', images=images_array, labels=images_labels)"
      ],
      "execution_count": 0,
      "outputs": []
    },
    {
      "cell_type": "code",
      "metadata": {
        "id": "RaLqi5eqL84s",
        "colab_type": "code",
        "colab": {}
      },
      "source": [
        ""
      ],
      "execution_count": 0,
      "outputs": []
    },
    {
      "cell_type": "markdown",
      "metadata": {
        "id": "BJVC_ccHLop8",
        "colab_type": "text"
      },
      "source": [
        "The following are methods to modify an existing .npz file"
      ]
    },
    {
      "cell_type": "code",
      "metadata": {
        "id": "qC7ebWbV3jRN",
        "colab_type": "code",
        "outputId": "b771c3a7-b617-41ec-c94a-6e9cc9e0a040",
        "colab": {
          "base_uri": "https://localhost:8080/",
          "height": 34
        }
      },
      "source": [
        "cd '/content/drive/My Drive/ESI_DATA_SPLIT'"
      ],
      "execution_count": 0,
      "outputs": [
        {
          "output_type": "stream",
          "text": [
            "/content/drive/My Drive/ESI_DATA_SPLIT\n"
          ],
          "name": "stdout"
        }
      ]
    },
    {
      "cell_type": "code",
      "metadata": {
        "id": "-dlyoeaNRObY",
        "colab_type": "code",
        "colab": {}
      },
      "source": [
        "# if had one before load and modify\n",
        "\n",
        "tmp_images = np.load('esi_validate.npz')['images']\n",
        "tmp_labels = np.load('esi_validate.npz')['labels']"
      ],
      "execution_count": 0,
      "outputs": []
    },
    {
      "cell_type": "code",
      "metadata": {
        "id": "sFed3nm54TpQ",
        "colab_type": "code",
        "outputId": "dcb6c7c5-8bf8-4452-b0c5-2947897d131c",
        "colab": {
          "base_uri": "https://localhost:8080/",
          "height": 34
        }
      },
      "source": [
        "tmp_images.shape"
      ],
      "execution_count": 0,
      "outputs": [
        {
          "output_type": "execute_result",
          "data": {
            "text/plain": [
              "(58, 210, 650, 1)"
            ]
          },
          "metadata": {
            "tags": []
          },
          "execution_count": 102
        }
      ]
    },
    {
      "cell_type": "code",
      "metadata": {
        "id": "ZgIKthCuRXTj",
        "colab_type": "code",
        "colab": {}
      },
      "source": [
        "tmp_images = np.append(tmp_images, images_array, axis=0)"
      ],
      "execution_count": 0,
      "outputs": []
    },
    {
      "cell_type": "code",
      "metadata": {
        "id": "xZwJswbv4xHl",
        "colab_type": "code",
        "outputId": "64680df0-8cdc-413d-f375-06eb62201ac9",
        "colab": {
          "base_uri": "https://localhost:8080/",
          "height": 34
        }
      },
      "source": [
        "tmp_images.shape"
      ],
      "execution_count": 0,
      "outputs": [
        {
          "output_type": "execute_result",
          "data": {
            "text/plain": [
              "(75, 210, 650, 1)"
            ]
          },
          "metadata": {
            "tags": []
          },
          "execution_count": 104
        }
      ]
    },
    {
      "cell_type": "code",
      "metadata": {
        "id": "aPJniVN847GH",
        "colab_type": "code",
        "colab": {}
      },
      "source": [
        "tmp_labels = np.append(tmp_labels, images_labels, axis=0)"
      ],
      "execution_count": 0,
      "outputs": []
    },
    {
      "cell_type": "code",
      "metadata": {
        "id": "rlkP8Cy55G8c",
        "colab_type": "code",
        "outputId": "1f2561f7-25e4-44ea-dbb0-0cec74caa1d8",
        "colab": {
          "base_uri": "https://localhost:8080/",
          "height": 34
        }
      },
      "source": [
        "tmp_labels.shape"
      ],
      "execution_count": 0,
      "outputs": [
        {
          "output_type": "execute_result",
          "data": {
            "text/plain": [
              "(75,)"
            ]
          },
          "metadata": {
            "tags": []
          },
          "execution_count": 106
        }
      ]
    },
    {
      "cell_type": "code",
      "metadata": {
        "id": "zOYOUooR5L0N",
        "colab_type": "code",
        "colab": {}
      },
      "source": [
        "np.savez_compressed('esi_test_new', images=tmp_images, labels=tmp_labels)"
      ],
      "execution_count": 0,
      "outputs": []
    },
    {
      "cell_type": "markdown",
      "metadata": {
        "id": "GpCHT95fjUjv",
        "colab_type": "text"
      },
      "source": [
        "## Train on Basic CNN"
      ]
    },
    {
      "cell_type": "code",
      "metadata": {
        "id": "RNcf5P8jj8Fx",
        "colab_type": "code",
        "colab": {}
      },
      "source": [
        "import tensorflow as tf\n",
        "from tensorflow import keras\n",
        "import os"
      ],
      "execution_count": 0,
      "outputs": []
    },
    {
      "cell_type": "code",
      "metadata": {
        "id": "ygSLol0hyMVP",
        "colab_type": "code",
        "colab": {}
      },
      "source": [
        "esi_dpath = '/content/drive/My Drive/ESI_DATA_SPLIT'"
      ],
      "execution_count": 0,
      "outputs": []
    },
    {
      "cell_type": "code",
      "metadata": {
        "id": "Q53-MKZDyavn",
        "colab_type": "code",
        "colab": {}
      },
      "source": [
        "train = np.load(os.path.join(esi_dpath, 'esi_train.npz'))"
      ],
      "execution_count": 0,
      "outputs": []
    },
    {
      "cell_type": "code",
      "metadata": {
        "id": "V3ztlWP3yncb",
        "colab_type": "code",
        "colab": {}
      },
      "source": [
        "train_images = train['images']\n",
        "train_labels = train['labels']"
      ],
      "execution_count": 0,
      "outputs": []
    },
    {
      "cell_type": "code",
      "metadata": {
        "id": "0QiY0Rrryop_",
        "colab_type": "code",
        "outputId": "5cd6a2af-fdda-4795-c65f-71b45c94fdf8",
        "colab": {
          "base_uri": "https://localhost:8080/",
          "height": 34
        }
      },
      "source": [
        "train_images.shape"
      ],
      "execution_count": 0,
      "outputs": [
        {
          "output_type": "execute_result",
          "data": {
            "text/plain": [
              "(339, 210, 650, 1)"
            ]
          },
          "metadata": {
            "tags": []
          },
          "execution_count": 16
        }
      ]
    },
    {
      "cell_type": "code",
      "metadata": {
        "id": "BtFtr8BpyrYA",
        "colab_type": "code",
        "colab": {}
      },
      "source": [
        "validate = np.load(os.path.join(esi_dpath, 'esi_validate.npz'))"
      ],
      "execution_count": 0,
      "outputs": []
    },
    {
      "cell_type": "code",
      "metadata": {
        "id": "9mjG7gGFyy3o",
        "colab_type": "code",
        "colab": {}
      },
      "source": [
        "valid_images = validate['images']\n",
        "valid_labels = validate['labels']"
      ],
      "execution_count": 0,
      "outputs": []
    },
    {
      "cell_type": "code",
      "metadata": {
        "id": "HPT1HqHzy0wb",
        "colab_type": "code",
        "outputId": "e0f1f22c-8aee-460f-b512-3b933d2bdee7",
        "colab": {
          "base_uri": "https://localhost:8080/",
          "height": 105
        }
      },
      "source": [
        "esi = spit_c.Classifier(label_dict, preproc_dict, classify_dict)"
      ],
      "execution_count": 0,
      "outputs": [
        {
          "output_type": "stream",
          "text": [
            "WARNING: Logging before flag parsing goes to stderr.\n",
            "W0813 04:48:02.286548 139673926203264 deprecation.py:506] From /usr/local/lib/python3.6/dist-packages/tensorflow/python/ops/init_ops.py:1251: calling VarianceScaling.__init__ (from tensorflow.python.ops.init_ops) with dtype is deprecated and will be removed in a future version.\n",
            "Instructions for updating:\n",
            "Call initializer instance with the dtype argument instead of passing it to the constructor\n"
          ],
          "name": "stderr"
        }
      ]
    },
    {
      "cell_type": "code",
      "metadata": {
        "id": "8-NRmeAFy_IS",
        "colab_type": "code",
        "colab": {}
      },
      "source": [
        "train_labels = keras.utils.to_categorical(train_labels, num_classes=len(label_dict))\n",
        "valid_labels = keras.utils.to_categorical(valid_labels, num_classes=len(label_dict))"
      ],
      "execution_count": 0,
      "outputs": []
    },
    {
      "cell_type": "code",
      "metadata": {
        "id": "tP2zHg7RzC39",
        "colab_type": "code",
        "colab": {}
      },
      "source": [
        "checkpoint=keras.callbacks.ModelCheckpoint(file_path+'/esi_best_model_full.h5', monitor='val_acc', save_best_only=True, mode='max')"
      ],
      "execution_count": 0,
      "outputs": []
    },
    {
      "cell_type": "code",
      "metadata": {
        "id": "d2femt15zY9T",
        "colab_type": "code",
        "outputId": "0fc41b8f-a75f-4dd0-ba17-f1b4958ee4ea",
        "colab": {
          "base_uri": "https://localhost:8080/",
          "height": 1000
        }
      },
      "source": [
        "result = esi.model.fit(train_images, train_labels, epochs=100, batch_size=32, \n",
        "                   validation_data=(valid_images, valid_labels), callbacks=[checkpoint]) "
      ],
      "execution_count": 0,
      "outputs": [
        {
          "output_type": "stream",
          "text": [
            "Train on 339 samples, validate on 68 samples\n",
            "Epoch 1/100\n",
            "339/339 [==============================] - 14s 42ms/sample - loss: 613.8036 - acc: 0.5280 - val_loss: 0.3482 - val_acc: 0.8382\n",
            "Epoch 2/100\n",
            "339/339 [==============================] - 8s 24ms/sample - loss: 0.5185 - acc: 0.9204 - val_loss: 0.9075 - val_acc: 0.9853\n",
            "Epoch 3/100\n",
            "339/339 [==============================] - 4s 11ms/sample - loss: 0.1847 - acc: 0.9735 - val_loss: 1.2464 - val_acc: 0.9853\n",
            "Epoch 4/100\n",
            "339/339 [==============================] - 4s 11ms/sample - loss: 0.8394 - acc: 0.9440 - val_loss: 2.0463 - val_acc: 0.9265\n",
            "Epoch 5/100\n",
            "339/339 [==============================] - 4s 11ms/sample - loss: 0.4147 - acc: 0.9381 - val_loss: 5.3661 - val_acc: 0.8824\n",
            "Epoch 6/100\n",
            "339/339 [==============================] - 4s 11ms/sample - loss: 0.4061 - acc: 0.9469 - val_loss: 2.5170 - val_acc: 0.9706\n",
            "Epoch 7/100\n",
            "339/339 [==============================] - 4s 11ms/sample - loss: 0.2898 - acc: 0.9735 - val_loss: 1.5186 - val_acc: 0.9853\n",
            "Epoch 8/100\n",
            "339/339 [==============================] - 4s 11ms/sample - loss: 0.2259 - acc: 0.9823 - val_loss: 1.8127 - val_acc: 0.9853\n",
            "Epoch 9/100\n",
            "339/339 [==============================] - 4s 11ms/sample - loss: 0.7888 - acc: 0.9646 - val_loss: 7.1943 - val_acc: 0.7647\n",
            "Epoch 10/100\n",
            "339/339 [==============================] - 4s 11ms/sample - loss: 0.9873 - acc: 0.9145 - val_loss: 1.4680 - val_acc: 0.9265\n",
            "Epoch 11/100\n",
            "339/339 [==============================] - 4s 11ms/sample - loss: 0.8519 - acc: 0.8496 - val_loss: 1.1084 - val_acc: 0.5441\n",
            "Epoch 12/100\n",
            "339/339 [==============================] - 4s 11ms/sample - loss: 1.1618 - acc: 0.5192 - val_loss: 1.1054 - val_acc: 0.5735\n",
            "Epoch 13/100\n",
            "339/339 [==============================] - 4s 11ms/sample - loss: 0.7981 - acc: 0.7640 - val_loss: 1.1611 - val_acc: 0.9853\n",
            "Epoch 14/100\n",
            "339/339 [==============================] - 4s 11ms/sample - loss: 0.7276 - acc: 0.7935 - val_loss: 1.0464 - val_acc: 0.5588\n",
            "Epoch 15/100\n",
            "339/339 [==============================] - 4s 11ms/sample - loss: 0.9135 - acc: 0.6018 - val_loss: 0.9700 - val_acc: 0.7059\n",
            "Epoch 16/100\n",
            "339/339 [==============================] - 4s 11ms/sample - loss: 0.4714 - acc: 0.8732 - val_loss: 0.8736 - val_acc: 0.8676\n",
            "Epoch 17/100\n",
            "339/339 [==============================] - 4s 11ms/sample - loss: 0.3498 - acc: 0.9351 - val_loss: 1.7367 - val_acc: 0.9559\n",
            "Epoch 18/100\n",
            "339/339 [==============================] - 4s 11ms/sample - loss: 0.1983 - acc: 0.9794 - val_loss: 1.1365 - val_acc: 0.9559\n",
            "Epoch 19/100\n",
            "339/339 [==============================] - 4s 11ms/sample - loss: 0.1417 - acc: 0.9764 - val_loss: 1.2265 - val_acc: 0.9559\n",
            "Epoch 20/100\n",
            "339/339 [==============================] - 4s 11ms/sample - loss: 0.2028 - acc: 0.9676 - val_loss: 0.9225 - val_acc: 0.9559\n",
            "Epoch 21/100\n",
            "339/339 [==============================] - 4s 11ms/sample - loss: 0.1586 - acc: 0.9823 - val_loss: 1.0825 - val_acc: 0.9559\n",
            "Epoch 22/100\n",
            "339/339 [==============================] - 4s 11ms/sample - loss: 0.0935 - acc: 0.9912 - val_loss: 0.3379 - val_acc: 0.9265\n",
            "Epoch 23/100\n",
            "339/339 [==============================] - 4s 11ms/sample - loss: 0.0981 - acc: 0.9764 - val_loss: 0.9781 - val_acc: 0.9559\n",
            "Epoch 24/100\n",
            "339/339 [==============================] - 4s 11ms/sample - loss: 0.0832 - acc: 0.9882 - val_loss: 0.8065 - val_acc: 0.9559\n",
            "Epoch 25/100\n",
            "339/339 [==============================] - 4s 11ms/sample - loss: 0.0509 - acc: 0.9941 - val_loss: 0.2730 - val_acc: 0.9559\n",
            "Epoch 26/100\n",
            "339/339 [==============================] - 4s 11ms/sample - loss: 0.0408 - acc: 0.9941 - val_loss: 0.3171 - val_acc: 0.9559\n",
            "Epoch 27/100\n",
            "339/339 [==============================] - 4s 11ms/sample - loss: 0.0278 - acc: 0.9941 - val_loss: 0.3422 - val_acc: 0.9559\n",
            "Epoch 28/100\n",
            "339/339 [==============================] - 4s 11ms/sample - loss: 0.0757 - acc: 0.9882 - val_loss: 1.7227 - val_acc: 0.8824\n",
            "Epoch 29/100\n",
            "339/339 [==============================] - 4s 11ms/sample - loss: 0.8201 - acc: 0.7994 - val_loss: 1.5872 - val_acc: 0.6324\n",
            "Epoch 30/100\n",
            "339/339 [==============================] - 4s 11ms/sample - loss: 0.4488 - acc: 0.8230 - val_loss: 2.7705 - val_acc: 0.9559\n",
            "Epoch 31/100\n",
            "339/339 [==============================] - 4s 11ms/sample - loss: 0.1849 - acc: 0.9558 - val_loss: 3.3125 - val_acc: 0.9412\n",
            "Epoch 32/100\n",
            "339/339 [==============================] - 4s 11ms/sample - loss: 0.1168 - acc: 0.9823 - val_loss: 3.2417 - val_acc: 0.9853\n",
            "Epoch 33/100\n",
            "339/339 [==============================] - 4s 11ms/sample - loss: 0.1399 - acc: 0.9735 - val_loss: 2.1467 - val_acc: 0.8529\n",
            "Epoch 34/100\n",
            "339/339 [==============================] - 4s 11ms/sample - loss: 0.5412 - acc: 0.7581 - val_loss: 1.9401 - val_acc: 0.7353\n",
            "Epoch 35/100\n",
            "320/339 [===========================>..] - ETA: 0s - loss: 0.3149 - acc: 0.9031Epoch 36/100\n",
            "339/339 [==============================] - 4s 11ms/sample - loss: 0.1485 - acc: 0.9823 - val_loss: 4.7765 - val_acc: 0.9853\n",
            "Epoch 37/100\n",
            "339/339 [==============================] - 4s 11ms/sample - loss: 0.0979 - acc: 0.9912 - val_loss: 4.3114 - val_acc: 0.9853\n",
            "Epoch 38/100\n",
            "339/339 [==============================] - 4s 11ms/sample - loss: 0.1121 - acc: 0.9853 - val_loss: 2.8668 - val_acc: 0.9853\n",
            "Epoch 39/100\n",
            "339/339 [==============================] - 4s 11ms/sample - loss: 0.0889 - acc: 0.9853 - val_loss: 3.1855 - val_acc: 0.9853\n",
            "Epoch 40/100\n",
            "339/339 [==============================] - 4s 11ms/sample - loss: 0.0559 - acc: 0.9882 - val_loss: 3.9769 - val_acc: 0.9853\n",
            "Epoch 41/100\n",
            "339/339 [==============================] - 4s 11ms/sample - loss: 0.0370 - acc: 0.9882 - val_loss: 3.6773 - val_acc: 0.9706\n",
            "Epoch 42/100\n",
            "339/339 [==============================] - 4s 11ms/sample - loss: 0.0276 - acc: 0.9882 - val_loss: 3.6345 - val_acc: 0.9706\n",
            "Epoch 43/100\n",
            "339/339 [==============================] - 4s 11ms/sample - loss: 0.0233 - acc: 0.9941 - val_loss: 3.9459 - val_acc: 0.9853\n",
            "Epoch 44/100\n",
            "339/339 [==============================] - 4s 11ms/sample - loss: 0.0179 - acc: 0.9971 - val_loss: 3.7921 - val_acc: 0.9706\n",
            "Epoch 45/100\n",
            "339/339 [==============================] - 4s 11ms/sample - loss: 0.0045 - acc: 1.0000 - val_loss: 4.3879 - val_acc: 0.9706\n",
            "Epoch 46/100\n",
            "339/339 [==============================] - 4s 11ms/sample - loss: 0.0056 - acc: 1.0000 - val_loss: 4.3552 - val_acc: 0.9706\n",
            "Epoch 47/100\n",
            "339/339 [==============================] - 4s 11ms/sample - loss: 0.0050 - acc: 1.0000 - val_loss: 4.2550 - val_acc: 0.9853\n",
            "Epoch 48/100\n",
            "339/339 [==============================] - 4s 11ms/sample - loss: 0.0145 - acc: 0.9941 - val_loss: 3.8914 - val_acc: 0.9706\n",
            "Epoch 49/100\n",
            "339/339 [==============================] - 4s 11ms/sample - loss: 0.0202 - acc: 1.0000 - val_loss: 3.7884 - val_acc: 0.9706\n",
            "Epoch 50/100\n",
            "339/339 [==============================] - 4s 11ms/sample - loss: 0.0146 - acc: 0.9971 - val_loss: 4.0941 - val_acc: 0.9706\n",
            "Epoch 51/100\n",
            "339/339 [==============================] - 4s 11ms/sample - loss: 0.0025 - acc: 1.0000 - val_loss: 4.4441 - val_acc: 0.9706\n",
            "Epoch 52/100\n",
            "339/339 [==============================] - 4s 11ms/sample - loss: 3.0484e-04 - acc: 1.0000 - val_loss: 4.6123 - val_acc: 0.9559\n",
            "Epoch 53/100\n",
            "339/339 [==============================] - 4s 11ms/sample - loss: 0.0427 - acc: 0.9971 - val_loss: 4.3872 - val_acc: 0.9853\n",
            "Epoch 54/100\n",
            "339/339 [==============================] - 4s 11ms/sample - loss: 0.0817 - acc: 0.9853 - val_loss: 3.3849 - val_acc: 0.9853\n",
            "Epoch 55/100\n",
            "339/339 [==============================] - 4s 11ms/sample - loss: 0.1315 - acc: 0.9794 - val_loss: 4.5381 - val_acc: 0.9853\n",
            "Epoch 56/100\n",
            "339/339 [==============================] - 4s 11ms/sample - loss: 0.0843 - acc: 0.9882 - val_loss: 3.9256 - val_acc: 0.9853\n",
            "Epoch 57/100\n",
            "339/339 [==============================] - 4s 11ms/sample - loss: 0.0993 - acc: 0.9853 - val_loss: 4.5166 - val_acc: 0.9853\n",
            "Epoch 58/100\n",
            "339/339 [==============================] - 4s 11ms/sample - loss: 0.0442 - acc: 0.9912 - val_loss: 5.2362 - val_acc: 0.9706\n",
            "Epoch 59/100\n",
            "339/339 [==============================] - 4s 11ms/sample - loss: 0.1306 - acc: 0.9912 - val_loss: 2.3624 - val_acc: 0.9853\n",
            "Epoch 60/100\n",
            "339/339 [==============================] - 4s 11ms/sample - loss: 0.3593 - acc: 0.8997 - val_loss: 1.6959 - val_acc: 0.9412\n",
            "Epoch 61/100\n",
            "339/339 [==============================] - 4s 11ms/sample - loss: 0.2228 - acc: 0.9528 - val_loss: 1.7036 - val_acc: 0.9853\n",
            "Epoch 62/100\n",
            "339/339 [==============================] - 4s 11ms/sample - loss: 0.1743 - acc: 0.9617 - val_loss: 1.7388 - val_acc: 0.9559\n",
            "Epoch 63/100\n",
            "339/339 [==============================] - 4s 11ms/sample - loss: 0.1245 - acc: 0.9735 - val_loss: 1.8040 - val_acc: 0.9853\n",
            "Epoch 64/100\n",
            "339/339 [==============================] - 4s 11ms/sample - loss: 0.2394 - acc: 0.9646 - val_loss: 1.8246 - val_acc: 0.9412\n",
            "Epoch 65/100\n",
            "339/339 [==============================] - 4s 11ms/sample - loss: 0.1920 - acc: 0.9322 - val_loss: 1.9593 - val_acc: 0.9853\n",
            "Epoch 66/100\n",
            "339/339 [==============================] - 4s 11ms/sample - loss: 0.1518 - acc: 0.9794 - val_loss: 2.0629 - val_acc: 0.9853\n",
            "Epoch 67/100\n",
            "339/339 [==============================] - 4s 11ms/sample - loss: 0.0973 - acc: 0.9823 - val_loss: 2.0932 - val_acc: 0.9853\n",
            "Epoch 68/100\n",
            "339/339 [==============================] - 4s 11ms/sample - loss: 0.0881 - acc: 0.9823 - val_loss: 2.1037 - val_acc: 0.9853\n",
            "Epoch 69/100\n",
            "339/339 [==============================] - 4s 11ms/sample - loss: 0.0794 - acc: 0.9882 - val_loss: 2.0972 - val_acc: 0.9853\n",
            "Epoch 70/100\n",
            "339/339 [==============================] - 4s 11ms/sample - loss: 0.0956 - acc: 0.9853 - val_loss: 2.0381 - val_acc: 0.9853\n",
            "Epoch 71/100\n",
            "339/339 [==============================] - 4s 11ms/sample - loss: 0.1438 - acc: 0.9558 - val_loss: 2.3559 - val_acc: 0.9706\n",
            "Epoch 72/100\n",
            "339/339 [==============================] - 4s 11ms/sample - loss: 0.1064 - acc: 0.9794 - val_loss: 2.7874 - val_acc: 0.9853\n",
            "Epoch 73/100\n",
            "339/339 [==============================] - 4s 11ms/sample - loss: 0.0912 - acc: 0.9823 - val_loss: 3.0857 - val_acc: 0.9853\n",
            "Epoch 74/100\n",
            "339/339 [==============================] - 4s 11ms/sample - loss: 0.0835 - acc: 0.9823 - val_loss: 3.1487 - val_acc: 0.9853\n",
            "Epoch 75/100\n",
            "339/339 [==============================] - 4s 11ms/sample - loss: 0.0769 - acc: 0.9853 - val_loss: 3.2063 - val_acc: 0.9853\n",
            "Epoch 76/100\n",
            "339/339 [==============================] - 4s 11ms/sample - loss: 0.0731 - acc: 0.9853 - val_loss: 3.2914 - val_acc: 0.9853\n",
            "Epoch 77/100\n",
            "339/339 [==============================] - 4s 11ms/sample - loss: 0.0708 - acc: 0.9853 - val_loss: 3.3610 - val_acc: 0.9853\n",
            "Epoch 78/100\n",
            "339/339 [==============================] - 4s 11ms/sample - loss: 0.0679 - acc: 0.9853 - val_loss: 3.5592 - val_acc: 0.9853\n",
            "Epoch 79/100\n",
            "339/339 [==============================] - 4s 11ms/sample - loss: 0.0619 - acc: 0.9882 - val_loss: 3.7989 - val_acc: 0.9853\n",
            "Epoch 80/100\n",
            "339/339 [==============================] - 4s 11ms/sample - loss: 0.0603 - acc: 0.9882 - val_loss: 3.9404 - val_acc: 0.9853\n",
            "Epoch 81/100\n",
            "339/339 [==============================] - 4s 11ms/sample - loss: 0.0586 - acc: 0.9882 - val_loss: 4.0072 - val_acc: 0.9853\n",
            "Epoch 82/100\n",
            "339/339 [==============================] - 4s 11ms/sample - loss: 0.0566 - acc: 0.9882 - val_loss: 3.9916 - val_acc: 0.9853\n",
            "Epoch 83/100\n",
            "339/339 [==============================] - 4s 11ms/sample - loss: 0.0542 - acc: 0.9882 - val_loss: 4.1513 - val_acc: 0.9853\n",
            "Epoch 84/100\n",
            "339/339 [==============================] - 4s 11ms/sample - loss: 0.0518 - acc: 0.9882 - val_loss: 4.3996 - val_acc: 0.9853\n",
            "Epoch 85/100\n",
            "339/339 [==============================] - 4s 11ms/sample - loss: 0.0473 - acc: 0.9912 - val_loss: 4.8738 - val_acc: 0.9853\n",
            "Epoch 86/100\n",
            "339/339 [==============================] - 4s 11ms/sample - loss: 0.0325 - acc: 0.9912 - val_loss: 5.6021 - val_acc: 0.9706\n",
            "Epoch 87/100\n",
            "339/339 [==============================] - 4s 11ms/sample - loss: 0.0074 - acc: 0.9971 - val_loss: 5.7083 - val_acc: 0.9853\n",
            "Epoch 88/100\n",
            "339/339 [==============================] - 4s 11ms/sample - loss: 0.0063 - acc: 1.0000 - val_loss: 5.6240 - val_acc: 0.9706\n",
            "Epoch 89/100\n",
            "339/339 [==============================] - 4s 11ms/sample - loss: 0.0241 - acc: 0.9971 - val_loss: 5.2852 - val_acc: 0.9706\n",
            "Epoch 90/100\n",
            "339/339 [==============================] - 4s 11ms/sample - loss: 0.0296 - acc: 0.9941 - val_loss: 4.6642 - val_acc: 0.9853\n",
            "Epoch 91/100\n",
            "339/339 [==============================] - 4s 11ms/sample - loss: 0.0412 - acc: 0.9912 - val_loss: 4.9278 - val_acc: 0.9853\n",
            "Epoch 92/100\n",
            "339/339 [==============================] - 4s 11ms/sample - loss: 0.0394 - acc: 0.9882 - val_loss: 5.0674 - val_acc: 0.9853\n",
            "Epoch 93/100\n",
            "339/339 [==============================] - 4s 11ms/sample - loss: 0.0539 - acc: 0.9882 - val_loss: 3.2909 - val_acc: 0.9853\n",
            "Epoch 94/100\n",
            "339/339 [==============================] - 4s 11ms/sample - loss: 0.0704 - acc: 0.9823 - val_loss: 2.9220 - val_acc: 0.9853\n",
            "Epoch 95/100\n",
            "339/339 [==============================] - 4s 11ms/sample - loss: 0.0708 - acc: 0.9823 - val_loss: 2.9111 - val_acc: 0.9853\n",
            "Epoch 96/100\n",
            "339/339 [==============================] - 4s 11ms/sample - loss: 0.0671 - acc: 0.9853 - val_loss: 3.1132 - val_acc: 0.9853\n",
            "Epoch 97/100\n",
            "339/339 [==============================] - 4s 11ms/sample - loss: 0.0662 - acc: 0.9853 - val_loss: 3.1157 - val_acc: 0.9853\n",
            "Epoch 98/100\n",
            "339/339 [==============================] - 4s 11ms/sample - loss: 0.0655 - acc: 0.9853 - val_loss: 3.0781 - val_acc: 0.9853\n",
            "Epoch 99/100\n",
            "339/339 [==============================] - 4s 11ms/sample - loss: 0.0652 - acc: 0.9853 - val_loss: 3.0914 - val_acc: 0.9853\n",
            "Epoch 100/100\n",
            "339/339 [==============================] - 4s 11ms/sample - loss: 0.0649 - acc: 0.9853 - val_loss: 3.1147 - val_acc: 0.9853\n"
          ],
          "name": "stdout"
        }
      ]
    },
    {
      "cell_type": "code",
      "metadata": {
        "id": "wmReFu_bzsJj",
        "colab_type": "code",
        "colab": {}
      },
      "source": [
        ""
      ],
      "execution_count": 0,
      "outputs": []
    },
    {
      "cell_type": "markdown",
      "metadata": {
        "id": "m4L1ch6azuTW",
        "colab_type": "text"
      },
      "source": [
        "##Test Basic CNN"
      ]
    },
    {
      "cell_type": "code",
      "metadata": {
        "id": "1U1KSZ7yzvXV",
        "colab_type": "code",
        "colab": {}
      },
      "source": [
        "test = np.load(os.path.join(esi_dpath, 'balanced_test.npz'))"
      ],
      "execution_count": 0,
      "outputs": []
    },
    {
      "cell_type": "code",
      "metadata": {
        "id": "3Qyxe8eRz1Xm",
        "colab_type": "code",
        "colab": {}
      },
      "source": [
        "test_images = test['images']\n",
        "test_labels = test['labels']"
      ],
      "execution_count": 0,
      "outputs": []
    },
    {
      "cell_type": "code",
      "metadata": {
        "id": "4A_ZSgAkfSIg",
        "colab_type": "code",
        "outputId": "f1916d0e-01ad-4d1d-9943-941e1a78ef0b",
        "colab": {
          "base_uri": "https://localhost:8080/",
          "height": 34
        }
      },
      "source": [
        "test_images.shape"
      ],
      "execution_count": 0,
      "outputs": [
        {
          "output_type": "execute_result",
          "data": {
            "text/plain": [
              "(20, 210, 650, 1)"
            ]
          },
          "metadata": {
            "tags": []
          },
          "execution_count": 46
        }
      ]
    },
    {
      "cell_type": "code",
      "metadata": {
        "id": "RzdA614wz3Gg",
        "colab_type": "code",
        "colab": {}
      },
      "source": [
        "test_labels = keras.utils.to_categorical(test_labels, num_classes=len(label_dict))"
      ],
      "execution_count": 0,
      "outputs": []
    },
    {
      "cell_type": "code",
      "metadata": {
        "id": "WvsuTXO0z5AA",
        "colab_type": "code",
        "colab": {}
      },
      "source": [
        "esi.model = esi.load_model('/esi_best_model_full.h5', file_path)"
      ],
      "execution_count": 0,
      "outputs": []
    },
    {
      "cell_type": "code",
      "metadata": {
        "id": "cPYlFNGk0OQr",
        "colab_type": "code",
        "outputId": "a84d0a76-a059-4274-a7f5-8f97c9687a60",
        "colab": {
          "base_uri": "https://localhost:8080/",
          "height": 51
        }
      },
      "source": [
        "esi.model.evaluate(test_images, test_labels) "
      ],
      "execution_count": 0,
      "outputs": [
        {
          "output_type": "stream",
          "text": [
            "75/75 [==============================] - 1s 9ms/sample - loss: 0.3540 - acc: 1.0000\n"
          ],
          "name": "stdout"
        },
        {
          "output_type": "execute_result",
          "data": {
            "text/plain": [
              "[0.3539664888381958, 1.0]"
            ]
          },
          "metadata": {
            "tags": []
          },
          "execution_count": 30
        }
      ]
    },
    {
      "cell_type": "code",
      "metadata": {
        "id": "fwsvdQ2P7mCm",
        "colab_type": "code",
        "colab": {}
      },
      "source": [
        "best = spit_c.Classifier(label_dict, preproc_dict, classify_dict)"
      ],
      "execution_count": 0,
      "outputs": []
    },
    {
      "cell_type": "code",
      "metadata": {
        "id": "eoF3-GKV7uwW",
        "colab_type": "code",
        "colab": {}
      },
      "source": [
        "best.model = esi.load_model('/esi_best_model.h5', file_path)"
      ],
      "execution_count": 0,
      "outputs": []
    },
    {
      "cell_type": "code",
      "metadata": {
        "id": "gb1dygkM7ymC",
        "colab_type": "code",
        "outputId": "e7ba608e-661f-4d21-eb37-aebea00b622d",
        "colab": {
          "base_uri": "https://localhost:8080/",
          "height": 51
        }
      },
      "source": [
        "best.model.evaluate(test_images, test_labels) "
      ],
      "execution_count": 0,
      "outputs": [
        {
          "output_type": "stream",
          "text": [
            "75/75 [==============================] - 0s 5ms/sample - loss: 0.2484 - acc: 1.0000\n"
          ],
          "name": "stdout"
        },
        {
          "output_type": "execute_result",
          "data": {
            "text/plain": [
              "[0.24837631940841676, 1.0]"
            ]
          },
          "metadata": {
            "tags": []
          },
          "execution_count": 33
        }
      ]
    },
    {
      "cell_type": "markdown",
      "metadata": {
        "id": "8xhZ6Ukm7VA2",
        "colab_type": "text"
      },
      "source": [
        "##Acc. vs. loss plot"
      ]
    },
    {
      "cell_type": "code",
      "metadata": {
        "id": "o0IU1ice8RSX",
        "colab_type": "code",
        "colab": {}
      },
      "source": [
        "from spit import utils as spit_u"
      ],
      "execution_count": 0,
      "outputs": []
    },
    {
      "cell_type": "code",
      "metadata": {
        "id": "lA7HIVH87YpW",
        "colab_type": "code",
        "colab": {}
      },
      "source": [
        "train_acc = result.history['acc']\n",
        "valid_acc = result.history['val_acc']\n",
        "train_loss = result.history['loss']\n",
        "valid_acc = result.history['val_loss']"
      ],
      "execution_count": 0,
      "outputs": []
    },
    {
      "cell_type": "code",
      "metadata": {
        "id": "n5iFDa7S8Tsk",
        "colab_type": "code",
        "outputId": "7f52a75f-7c1c-4316-bb7d-43b794db804e",
        "colab": {
          "base_uri": "https://localhost:8080/",
          "height": 297
        }
      },
      "source": [
        "spit_u.display_training_trends(result, 'val_acc', 'val_loss')"
      ],
      "execution_count": 0,
      "outputs": [
        {
          "output_type": "display_data",
          "data": {
            "image/png": "[encoded data removed]",
            "text/plain": [
              "<Figure size 432x288 with 2 Axes>"
            ]
          },
          "metadata": {
            "tags": []
          }
        }
      ]
    },
    {
      "cell_type": "code",
      "metadata": {
        "id": "ZCCpPRrU9Jo2",
        "colab_type": "code",
        "outputId": "88099ede-057f-4f1d-e1a8-861b8809cc7a",
        "colab": {
          "base_uri": "https://localhost:8080/",
          "height": 297
        }
      },
      "source": [
        "spit_u.display_training_trends(result, 'acc', 'val_acc')"
      ],
      "execution_count": 0,
      "outputs": [
        {
          "output_type": "display_data",
          "data": {
            "image/png": "[encoded data removed]",
            "text/plain": [
              "<Figure size 432x288 with 2 Axes>"
            ]
          },
          "metadata": {
            "tags": []
          }
        }
      ]
    },
    {
      "cell_type": "markdown",
      "metadata": {
        "id": "uR22Lx_r4gwJ",
        "colab_type": "text"
      },
      "source": [
        "##Confusion Matrix using heuristics in SPIT\n"
      ]
    },
    {
      "cell_type": "code",
      "metadata": {
        "id": "oGQcu9N-5qLd",
        "colab_type": "code",
        "colab": {}
      },
      "source": [
        "values=[]\n",
        "results=[]\n",
        "for image in test_images:\n",
        "  ishape = list(image.shape)\n",
        "  image = image.reshape(ishape[:-1])\n",
        "  #print(image.shape)\n",
        "  flip_images = spit_p.flips(image)\n",
        "  images_array = np.array(list(flip_images))\n",
        "  value, result = get_prediction(images_array, esi, use_heuristics=True)\n",
        "  values.append(value)\n",
        "  results.append(result)"
      ],
      "execution_count": 0,
      "outputs": []
    },
    {
      "cell_type": "code",
      "metadata": {
        "id": "2QxXOzpG4jeu",
        "colab_type": "code",
        "outputId": "526abb6f-8e50-4bbd-fcc8-276a6cfea8a1",
        "colab": {
          "base_uri": "https://localhost:8080/",
          "height": 1000
        }
      },
      "source": [
        "values, results"
      ],
      "execution_count": 0,
      "outputs": [
        {
          "output_type": "execute_result",
          "data": {
            "text/plain": [
              "([2,\n",
              "  2,\n",
              "  2,\n",
              "  2,\n",
              "  1,\n",
              "  1,\n",
              "  2,\n",
              "  2,\n",
              "  2,\n",
              "  2,\n",
              "  2,\n",
              "  2,\n",
              "  1,\n",
              "  2,\n",
              "  4,\n",
              "  4,\n",
              "  4,\n",
              "  4,\n",
              "  4,\n",
              "  3,\n",
              "  3,\n",
              "  3,\n",
              "  3,\n",
              "  3,\n",
              "  3,\n",
              "  3,\n",
              "  3,\n",
              "  3,\n",
              "  3,\n",
              "  3,\n",
              "  0,\n",
              "  1,\n",
              "  0,\n",
              "  1,\n",
              "  3,\n",
              "  0,\n",
              "  0,\n",
              "  0,\n",
              "  0,\n",
              "  3,\n",
              "  2,\n",
              "  2,\n",
              "  2,\n",
              "  1,\n",
              "  1,\n",
              "  1,\n",
              "  1,\n",
              "  1,\n",
              "  1,\n",
              "  3,\n",
              "  1,\n",
              "  1,\n",
              "  1,\n",
              "  3,\n",
              "  1,\n",
              "  1,\n",
              "  1,\n",
              "  1,\n",
              "  3,\n",
              "  1,\n",
              "  1,\n",
              "  1,\n",
              "  1,\n",
              "  3,\n",
              "  1,\n",
              "  1],\n",
              " [[4, 2, 2, 3],\n",
              "  [4, 2, 2, 1],\n",
              "  [4, 2, 2, 3],\n",
              "  [4, 2, 2, 1],\n",
              "  [4, 1, 1, 3],\n",
              "  [4, 1, 1, 3],\n",
              "  [4, 2, 2, 1],\n",
              "  [4, 2, 2, 1],\n",
              "  [4, 2, 2, 3],\n",
              "  [4, 2, 2, 3],\n",
              "  [4, 2, 2, 1],\n",
              "  [4, 2, 2, 1],\n",
              "  [4, 1, 2, 1],\n",
              "  [4, 2, 2, 3],\n",
              "  [4, 1, 3, 2],\n",
              "  [4, 1, 2, 3],\n",
              "  [4, 1, 2, 3],\n",
              "  [4, 1, 2, 3],\n",
              "  [4, 1, 2, 3],\n",
              "  [3, 3, 1, 3],\n",
              "  [3, 3, 1, 3],\n",
              "  [3, 3, 1, 3],\n",
              "  [3, 3, 1, 3],\n",
              "  [3, 3, 1, 3],\n",
              "  [3, 3, 2, 3],\n",
              "  [3, 3, 1, 3],\n",
              "  [3, 1, 3, 3],\n",
              "  [3, 1, 3, 3],\n",
              "  [3, 3, 3, 3],\n",
              "  [3, 3, 1, 3],\n",
              "  [0, 0, 3, 4],\n",
              "  [0, 1, 1, 3],\n",
              "  [0, 0, 0, 0],\n",
              "  [0, 1, 1, 3],\n",
              "  [0, 1, 3, 3],\n",
              "  [0, 1, 0, 3],\n",
              "  [0, 0, 0, 0],\n",
              "  [0, 1, 0, 3],\n",
              "  [0, 1, 0, 3],\n",
              "  [2, 3, 1, 3],\n",
              "  [2, 2, 2, 3],\n",
              "  [2, 2, 2, 3],\n",
              "  [2, 2, 2, 3],\n",
              "  [1, 1, 3, 3],\n",
              "  [1, 1, 1, 3],\n",
              "  [1, 1, 3, 3],\n",
              "  [1, 1, 3, 3],\n",
              "  [1, 1, 3, 3],\n",
              "  [1, 1, 3, 3],\n",
              "  [1, 3, 3, 3],\n",
              "  [1, 1, 3, 3],\n",
              "  [1, 1, 1, 3],\n",
              "  [1, 1, 1, 3],\n",
              "  [1, 3, 3, 3],\n",
              "  [1, 1, 1, 3],\n",
              "  [1, 1, 3, 3],\n",
              "  [1, 3, 1, 3],\n",
              "  [1, 1, 1, 3],\n",
              "  [1, 3, 3, 3],\n",
              "  [1, 3, 1, 3],\n",
              "  [1, 1, 3, 3],\n",
              "  [1, 1, 3, 3],\n",
              "  [1, 1, 3, 3],\n",
              "  [1, 2, 3, 3],\n",
              "  [1, 1, 3, 3],\n",
              "  [1, 1, 1, 3]])"
            ]
          },
          "metadata": {
            "tags": []
          },
          "execution_count": 57
        }
      ]
    },
    {
      "cell_type": "code",
      "metadata": {
        "id": "-_LnXEZ9-FQ-",
        "colab_type": "code",
        "colab": {}
      },
      "source": [
        "true_labels = test['labels']\n",
        "cm = confusion_matrix(true_labels, values)"
      ],
      "execution_count": 0,
      "outputs": []
    },
    {
      "cell_type": "code",
      "metadata": {
        "id": "ePbGzop2-rBJ",
        "colab_type": "code",
        "outputId": "c12339c4-630e-47ad-f364-361607fdd452",
        "colab": {
          "base_uri": "https://localhost:8080/",
          "height": 264
        }
      },
      "source": [
        "from matplotlib import pyplot as plt\n",
        "# Plot the confusion matrix as an image.\n",
        "plt.matshow(cm)\n",
        "\n",
        "num_classes = 5\n",
        "# Make various adjustments to the plot.\n",
        "plt.colorbar()\n",
        "tick_marks = np.arange(num_classes)\n",
        "plt.xticks(tick_marks, range(num_classes))\n",
        "plt.yticks(tick_marks, range(num_classes))\n",
        "plt.xlabel('Predicted')\n",
        "plt.ylabel('True')\n",
        "\n",
        "# Ensure the plot is shown correctly with multiple plots\n",
        "# in a single Notebook cell.\n",
        "plt.show()"
      ],
      "execution_count": 0,
      "outputs": [
        {
          "output_type": "display_data",
          "data": {
            "image/png": "[encoded data removed]",
            "text/plain": [
              "<Figure size 288x288 with 2 Axes>"
            ]
          },
          "metadata": {
            "tags": []
          }
        }
      ]
    },
    {
      "cell_type": "markdown",
      "metadata": {
        "id": "zo9CdsbY-_sr",
        "colab_type": "text"
      },
      "source": [
        "##Confusion Matrix by keras.predict"
      ]
    },
    {
      "cell_type": "code",
      "metadata": {
        "id": "-1uCnw_mA31e",
        "colab_type": "code",
        "colab": {}
      },
      "source": [
        "val_true = test['labels']"
      ],
      "execution_count": 0,
      "outputs": []
    },
    {
      "cell_type": "code",
      "metadata": {
        "id": "vTM776mr_Lfz",
        "colab_type": "code",
        "outputId": "d8181c74-a884-4730-a53d-d706772e4065",
        "colab": {
          "base_uri": "https://localhost:8080/",
          "height": 697
        }
      },
      "source": [
        "predictions = esi.model.predict(test_images)\n",
        "predictions"
      ],
      "execution_count": 0,
      "outputs": [
        {
          "output_type": "execute_result",
          "data": {
            "text/plain": [
              "array([[1.5991602e-09, 1.6705200e-11, 3.2383088e-08, 9.9534236e-07,\n",
              "        9.9999893e-01],\n",
              "       [1.7146964e-09, 1.8184376e-11, 3.0899574e-08, 1.0281852e-06,\n",
              "        9.9999893e-01],\n",
              "       [1.6680045e-07, 1.7574939e-08, 1.4717050e-06, 2.6329659e-05,\n",
              "        9.9997199e-01],\n",
              "       [1.7812719e-09, 1.7256202e-11, 2.7232028e-08, 1.1279446e-06,\n",
              "        9.9999881e-01],\n",
              "       [2.1791069e-23, 1.9242508e-16, 3.9908096e-17, 1.0000000e+00,\n",
              "        8.6526020e-22],\n",
              "       [6.6462779e-25, 3.3098083e-18, 1.5705619e-18, 1.0000000e+00,\n",
              "        3.6533288e-23],\n",
              "       [1.7352920e-12, 1.7998528e-09, 1.2677199e-09, 1.0000000e+00,\n",
              "        1.1615282e-11],\n",
              "       [8.9735465e-18, 2.1807584e-11, 2.7929950e-12, 1.0000000e+00,\n",
              "        3.7721739e-16],\n",
              "       [2.1258314e-01, 2.0961149e-01, 1.8956518e-01, 1.9192295e-01,\n",
              "        1.9631724e-01],\n",
              "       [2.0852621e-01, 2.0221747e-01, 1.9622849e-01, 1.9549462e-01,\n",
              "        1.9753319e-01],\n",
              "       [2.0395540e-01, 1.9967572e-01, 1.9804342e-01, 1.9819011e-01,\n",
              "        2.0013538e-01],\n",
              "       [2.0421688e-01, 2.0033514e-01, 1.9769405e-01, 1.9784860e-01,\n",
              "        1.9990532e-01],\n",
              "       [2.3910943e-20, 0.0000000e+00, 1.0000000e+00, 2.0462592e-33,\n",
              "        0.0000000e+00],\n",
              "       [4.0612682e-18, 0.0000000e+00, 1.0000000e+00, 1.1212073e-31,\n",
              "        0.0000000e+00],\n",
              "       [9.1105076e-03, 3.2133413e-03, 8.8900644e-01, 6.3032028e-03,\n",
              "        9.2366472e-02],\n",
              "       [4.9108220e-24, 0.0000000e+00, 1.0000000e+00, 1.5809647e-36,\n",
              "        0.0000000e+00],\n",
              "       [3.2208346e-02, 8.8914537e-01, 2.8085746e-02, 3.1160997e-02,\n",
              "        1.9399660e-02],\n",
              "       [4.8805997e-02, 8.2833695e-01, 4.1270968e-02, 4.9186733e-02,\n",
              "        3.2399401e-02],\n",
              "       [1.8524427e-02, 9.5877868e-01, 7.1515027e-03, 9.7278468e-03,\n",
              "        5.8175246e-03],\n",
              "       [9.7624213e-02, 7.5359589e-01, 5.3057637e-02, 4.7576960e-02,\n",
              "        4.8145346e-02]], dtype=float32)"
            ]
          },
          "metadata": {
            "tags": []
          },
          "execution_count": 49
        }
      ]
    },
    {
      "cell_type": "code",
      "metadata": {
        "id": "ihRLuwHA_VfD",
        "colab_type": "code",
        "colab": {}
      },
      "source": [
        "pred = []\n",
        "for p in enumerate(predictions):\n",
        "  # index of loop\n",
        "  i = p[0]\n",
        "  # particular prediction array for this image\n",
        "  p_array = p[1]\n",
        "  # find and append prediction\n",
        "  maxIndex = np.where(p_array == np.amax(p_array))\n",
        "  pred.append(maxIndex[0][0])"
      ],
      "execution_count": 0,
      "outputs": []
    },
    {
      "cell_type": "code",
      "metadata": {
        "id": "61uRRjfk_20d",
        "colab_type": "code",
        "colab": {}
      },
      "source": [
        "from matplotlib import pyplot as plt\n",
        "from sklearn.metrics import confusion_matrix\n",
        "def plot_confusion_matrix(y_true, y_pred, classes,\n",
        "                          normalize=False,\n",
        "                          title=None,\n",
        "                          cmap=plt.cm.Blues):\n",
        "    \"\"\"\n",
        "    This function prints and plots the confusion matrix.\n",
        "    Normalization can be applied by setting `normalize=True`.\n",
        "    \"\"\"\n",
        "    if not title:\n",
        "        if normalize:\n",
        "            title = 'Normalized confusion matrix'\n",
        "        else:\n",
        "            title = 'Confusion matrix, without normalization'\n",
        "\n",
        "    # Compute confusion matrix\n",
        "    cm = confusion_matrix(y_true, y_pred)\n",
        "#     # Only use the labels that appear in the data\n",
        "#     classes = classes[unique_labels(y_true, y_pred)]\n",
        "    if normalize:\n",
        "        cm = cm.astype('float') / cm.sum(axis=1)[:, np.newaxis]\n",
        "        print(\"Normalized confusion matrix\")\n",
        "    else:\n",
        "        print('Confusion matrix, without normalization')\n",
        "\n",
        "    print(cm)\n",
        "    \n",
        "    #fig, ax = plt.subplots()\n",
        "    fig = plt.figure(figsize=(8,8))\n",
        "    ax  = fig.add_subplot(111)\n",
        "    im = ax.imshow(cm, interpolation='nearest', cmap=cmap)\n",
        "    ax.figure.colorbar(im, ax=ax)\n",
        "    # We want to show all ticks...\n",
        "    ax.set(xticks=np.arange(cm.shape[1]),\n",
        "           yticks=np.arange(cm.shape[0]),\n",
        "           # ... and label them with the respective list entries\n",
        "           xticklabels=classes, yticklabels=classes,\n",
        "           title=title,\n",
        "           ylabel='True label',\n",
        "           xlabel='Predicted label')\n",
        "\n",
        "    # Rotate the tick labels and set their alignment.\n",
        "    plt.setp(ax.get_xticklabels(), rotation=45, ha=\"right\",\n",
        "             rotation_mode=\"anchor\")\n",
        "\n",
        "    # Loop over data dimensions and create text annotations.\n",
        "    fmt = '.2f' if normalize else 'd'\n",
        "    thresh = cm.max() / 2.\n",
        "    for i in range(cm.shape[0]):\n",
        "        for j in range(cm.shape[1]):\n",
        "            ax.text(j, i, format(cm[i, j], fmt),\n",
        "                    ha=\"center\", va=\"center\",\n",
        "                    color=\"white\" if cm[i, j] > thresh else \"black\")\n",
        "            \n",
        "    fig.tight_layout()\n",
        "    return ax"
      ],
      "execution_count": 0,
      "outputs": []
    },
    {
      "cell_type": "code",
      "metadata": {
        "id": "6MRaHC3oACcL",
        "colab_type": "code",
        "outputId": "308c2c3e-1d01-4ceb-fabe-2bc5d307b404",
        "colab": {
          "base_uri": "https://localhost:8080/",
          "height": 51
        }
      },
      "source": [
        "# plot_confusion_matrix(test_labels, pred, )\n",
        "print(label_dict)\n",
        "classes = []\n",
        "for label in label_dict:\n",
        "  if '_label' in label:\n",
        "    label = label.replace('_label','')\n",
        "  classes.append(label)\n",
        "print(classes)\n",
        "# classes = {x.replace('_label', '') for x in classes}\n",
        "# print(classes)"
      ],
      "execution_count": 0,
      "outputs": [
        {
          "output_type": "stream",
          "text": [
            "OrderedDict([('bias_label', 0), ('science_label', 1), ('standard_label', 2), ('arc_label', 3), ('flat_label', 4)])\n",
            "['bias', 'science', 'standard', 'arc', 'flat']\n"
          ],
          "name": "stdout"
        }
      ]
    },
    {
      "cell_type": "code",
      "metadata": {
        "id": "PbZT8tlyADEA",
        "colab_type": "code",
        "outputId": "9d302172-0f4b-44ad-faf4-2035a0a8a62b",
        "colab": {
          "base_uri": "https://localhost:8080/",
          "height": 690
        }
      },
      "source": [
        "plot_confusion_matrix(val_true, pred, classes)"
      ],
      "execution_count": 0,
      "outputs": [
        {
          "output_type": "stream",
          "text": [
            "Confusion matrix, without normalization\n",
            "[[4 0 0 0 0]\n",
            " [0 4 0 0 0]\n",
            " [0 0 4 0 0]\n",
            " [0 0 0 4 0]\n",
            " [0 0 0 0 4]]\n"
          ],
          "name": "stdout"
        },
        {
          "output_type": "execute_result",
          "data": {
            "text/plain": [
              "<matplotlib.axes._subplots.AxesSubplot at 0x7f3d3719b438>"
            ]
          },
          "metadata": {
            "tags": []
          },
          "execution_count": 53
        },
        {
          "output_type": "display_data",
          "data": {
            "image/png": "[encoded data removed]",
            "text/plain": [
              "<Figure size 576x576 with 2 Axes>"
            ]
          },
          "metadata": {
            "tags": []
          }
        }
      ]
    },
    {
      "cell_type": "code",
      "metadata": {
        "id": "6hHTqsv3BNGa",
        "colab_type": "code",
        "colab": {}
      },
      "source": [
        ""
      ],
      "execution_count": 0,
      "outputs": []
    },
    {
      "cell_type": "markdown",
      "metadata": {
        "id": "orqGuwgABN-x",
        "colab_type": "text"
      },
      "source": [
        "##Train ESI on DenseNet"
      ]
    },
    {
      "cell_type": "markdown",
      "metadata": {
        "id": "W17QtRDSNmIw",
        "colab_type": "text"
      },
      "source": [
        "###Preparation"
      ]
    },
    {
      "cell_type": "code",
      "metadata": {
        "id": "MF6I-RPdMdYS",
        "colab_type": "code",
        "colab": {}
      },
      "source": [
        "!pip install tensorflow==2.0.0b1"
      ],
      "execution_count": 0,
      "outputs": []
    },
    {
      "cell_type": "code",
      "metadata": {
        "id": "ners_Y2zMeEk",
        "colab_type": "code",
        "colab": {}
      },
      "source": [
        "# imports\n",
        "import numpy as np\n",
        "import os\n",
        "\n",
        "from importlib import reload\n",
        "from pkg_resources import resource_filename\n",
        "from google.colab import drive\n",
        "import imageio"
      ],
      "execution_count": 0,
      "outputs": []
    },
    {
      "cell_type": "code",
      "metadata": {
        "id": "ru5p_MY4M3CR",
        "colab_type": "code",
        "colab": {}
      },
      "source": [
        "drive.mount('/content/drive/')"
      ],
      "execution_count": 0,
      "outputs": []
    },
    {
      "cell_type": "code",
      "metadata": {
        "id": "N9_a8hmmM3E0",
        "colab_type": "code",
        "colab": {}
      },
      "source": [
        "!git clone https://github.com/pypeit/spit.git"
      ],
      "execution_count": 0,
      "outputs": []
    },
    {
      "cell_type": "code",
      "metadata": {
        "id": "y15pPgCFMhtk",
        "colab_type": "code",
        "colab": {}
      },
      "source": [
        "!git checkout new_models"
      ],
      "execution_count": 0,
      "outputs": []
    },
    {
      "cell_type": "code",
      "metadata": {
        "id": "w0Xt-Hp8MlHs",
        "colab_type": "code",
        "colab": {}
      },
      "source": [
        "!python setup.py develop"
      ],
      "execution_count": 0,
      "outputs": []
    },
    {
      "cell_type": "code",
      "metadata": {
        "id": "ZU9shRfoMni0",
        "colab_type": "code",
        "colab": {}
      },
      "source": [
        "# imports\n",
        "from importlib import reload\n",
        "\n",
        "from spit import image_loader\n",
        "from spit import labels as spit_l\n",
        "from spit import preprocess as spit_p\n",
        "from spit import classifier as c\n",
        "from spit import utils\n",
        "from spit import classify as spit_classify\n",
        "from spit import io as spit_io"
      ],
      "execution_count": 0,
      "outputs": []
    },
    {
      "cell_type": "code",
      "metadata": {
        "id": "t-V7NvvrMyk-",
        "colab_type": "code",
        "colab": {}
      },
      "source": [
        "import tensorflow as tf\n",
        "from tensorflow import keras"
      ],
      "execution_count": 0,
      "outputs": []
    },
    {
      "cell_type": "markdown",
      "metadata": {
        "id": "Y-dnzm_nNubz",
        "colab_type": "text"
      },
      "source": [
        "###Build densenet"
      ]
    },
    {
      "cell_type": "code",
      "metadata": {
        "id": "Fl2a1dBMMzC1",
        "colab_type": "code",
        "colab": {}
      },
      "source": [
        "# need to add compression to either block, transition, or both to get it to be BC\n",
        "\n",
        "def dense_block(model):\n",
        "  \n",
        "  # 1x1 convolution bottleneck\n",
        "  \n",
        "  model.add(keras.layers.BatchNormalization())\n",
        "  model.add(keras.layers.ReLU())\n",
        "  #### HYPERPARAMETERS: GROWTH RATE AND DROPOUT RATE ####\n",
        "  model.add(keras.layers.Conv2D(growth_rate*filters, kernel_size=1))\n",
        "  model.add(keras.layers.Dropout(rate=dropout_rate))\n",
        "  \n",
        "  # 3x3 dense convolution\n",
        "  \n",
        "  model.add(keras.layers.BatchNormalization())\n",
        "  model.add(keras.layers.ReLU())\n",
        "  #### HYPERPARAMETER ####\n",
        "  model.add(keras.layers.Conv2D(filters, kernel_size=3))\n",
        "  #### HYPERPARAMETER ####\n",
        "  model.add(keras.layers.Dropout(rate=dropout_rate))\n",
        "  \n",
        "  return\n",
        "\n",
        "def transition_layer(model):\n",
        "  model.add(keras.layers.BatchNormalization())       #   x = Batch_Normalization(x, training=self.training, scope=scope+'_batch1')\n",
        "  model.add(keras.layers.ReLU())                     #   x = Relu(x)\n",
        "  \n",
        "  model.add(keras.layers.Conv2D(filters, kernel_size=1))\n",
        "  \n",
        "  model.add(keras.layers.Dropout(rate=dropout_rate)) #   x = Drop_out(x, rate=dropout_rate, training=self.training)\n",
        "  \n",
        "  model.add(keras.layers.AveragePooling2D(pool_size=(2,2), strides=2))\n",
        "  return"
      ],
      "execution_count": 0,
      "outputs": []
    },
    {
      "cell_type": "code",
      "metadata": {
        "id": "6kUSq5dFNAQE",
        "colab_type": "code",
        "colab": {}
      },
      "source": [
        "#### DENSE NET ARCHITECTURE #####\n",
        "#\n",
        "# CONV --> BLOCK --> TRANSITION --> BLOCK --> TRANSITION --> BLOCK --> POOL --> SOFTMAX\n",
        "#\n",
        "# BLOCK:\n",
        "# BatchNorm --> ReLu --> Conv (1x1) --> DropOut --> BatchNorm --> ReLu --> Conv (3x3) --> DropOut --> output\n",
        "#\n",
        "\n",
        "model = keras.Sequential()\n",
        "\n",
        "# hyperparameters\n",
        "filters = 64\n",
        "dropout_rate = .2\n",
        "theta = .5\n",
        "growth_rate = 4\n",
        "\n",
        "# add a conv layer\n",
        "model.add(keras.layers.Conv2D(filters, kernel_size=7, strides=(2, 2), padding='valid', activation='relu', \n",
        "                            input_shape = (210, 650, 1)))\n",
        "\n",
        "# pool like in tf simple implementation\n",
        "model.add(keras.layers.MaxPooling2D(pool_size=(3, 3), strides=2, padding='valid'))\n",
        "\n",
        "# add block\n",
        "dense_block(model)\n",
        "# add transition\n",
        "transition_layer(model)\n",
        "# add block\n",
        "dense_block(model)\n",
        "# add transition\n",
        "transition_layer(model)\n",
        "# add block\n",
        "dense_block(model)\n",
        "# add pool\n",
        "model.add(keras.layers.GlobalAveragePooling2D())\n",
        "# add flatten\n",
        "model.add(keras.layers.Flatten())\n",
        "\n",
        "# Produce 0-1 probabilities with softmax\n",
        "model.add(keras.layers.Dense(5, activation='softmax'))"
      ],
      "execution_count": 0,
      "outputs": []
    },
    {
      "cell_type": "code",
      "metadata": {
        "id": "ZRodLt9aNCk9",
        "colab_type": "code",
        "colab": {}
      },
      "source": [
        "model.compile(loss='categorical_crossentropy', optimizer='adam', metrics=['accuracy'])"
      ],
      "execution_count": 0,
      "outputs": []
    },
    {
      "cell_type": "markdown",
      "metadata": {
        "id": "rlK97E5DNb0V",
        "colab_type": "text"
      },
      "source": [
        "###methods"
      ]
    },
    {
      "cell_type": "code",
      "metadata": {
        "id": "vLEjA_KhNEf1",
        "colab_type": "code",
        "colab": {}
      },
      "source": [
        "#   os.environ['SPIT_PATH'] = \"/content/drive/My Drive/Colab Notebooks/SPIT_DATA\"\n",
        "#   os.environ['SAVE_PATH'] = \"/content/drive/My Drive/Colab Notebooks/\"\n",
        "\n",
        "  # might need to add subset\n",
        "  def _train(epochs, batch_size, subset_percent=None, train_images=None, train_labels=None, validation_data=None, steps_per_epoch=None, validation_freq=1, test_model=None, spit_path=os.getenv('SPIT_PATH'), save_path=os.getenv('SAVE_PATH')):\n",
        "    \"\"\"\n",
        "\n",
        "    Trains the classifier with given images, labels, and training parameters.\n",
        "\n",
        "    Parameters:\n",
        "\n",
        "    :param epochs:\n",
        "      Number of epochs of the training. \n",
        "      Must be an integer value.\n",
        "\n",
        "    :param batch_size:\n",
        "      Size of the training batches formed in the process. \n",
        "      Must be an integer value.\n",
        "\n",
        "    :param save_path:\n",
        "      Path to where the best model will be saved.\n",
        "\n",
        "    :param train_images:\n",
        "       Set of images for model to train on.\n",
        "       Assume this is a numpy array with (batch_size, width, height, num_channels) as its dimensions.\n",
        "\n",
        "    :param train_labels:\n",
        "      Set of test labels corresponding to test images.\n",
        "      Assume this is a rank 1 array with (batch_size, ) as its dimensions.\n",
        "\n",
        "    :param validation_data:\n",
        "      Data to be used for the validation set. \n",
        "      Assume this is a tuple with (images, labels) with same dimensions as train_images, train_labels.\n",
        "      If None is specified, validation_data will be None.\n",
        "\n",
        "    :param steps_per_epoch:\n",
        "      Total number of steps (batches of samples) before declaring one epoch finished and starting the next epoch.\n",
        "      Assume this is an integer value. If None is specified, this will be None.  \n",
        "\n",
        "    :param validation_freq:\n",
        "      Specifies how many training epochs to run before a new validation run is performed.\n",
        "      Assume this is an integer value or a collection containing the epochs at which to run validation (ie [1,2,10]).\n",
        "\n",
        "    :param test_model:\n",
        "      An alternative choice for model to train on. Assume None.\n",
        "\n",
        "    :param spit_path & param save_path:\n",
        "      Path to the spit images and where the model will be saved respectively.\n",
        "      ***Environmental variables must be set by caller or the path must be passed manually.***\n",
        "\n",
        "    Returns:\n",
        "    :returns history:\n",
        "      Tensorflow History object containing loss and accuracy data over the training.\n",
        "\n",
        "    \"\"\"\n",
        "    # choose the model\n",
        "    if test_model is None:\n",
        "      model = test_model\n",
        "    else:\n",
        "      model = test_model\n",
        "\n",
        "    # if None is passed, then use the kast images\n",
        "    if train_images is None or train_labels is None:\n",
        "      # load training set\n",
        "      train = np.load(os.path.join(spit_path, 'Kast', 'kast_train.npz'))\n",
        "      train_images = train['images']\n",
        "      train_labels = train['labels']\n",
        "\n",
        "      # load validation set\n",
        "      validate = np.load(os.path.join(spit_path, 'Kast', 'kast_validate.npz'))\n",
        "      v_images = validate['images']\n",
        "      v_labels = validate['labels']\n",
        "\n",
        "      validation_data = (v_images, v_labels)\n",
        "\n",
        "    # change to categorical and make subsets\n",
        "    if validation_data is not None:\n",
        "      valid_images, valid_labels = validation_data\n",
        "      if subset_percent is not None:\n",
        "        valid_images, valid_labels = split_array(valid_images, valid_labels, subset_percent)\n",
        "      valid_labels = keras.utils.to_categorical(valid_labels, num_classes=len(label_dict))\n",
        "      validation_data = (valid_images, valid_labels)\n",
        "\n",
        "    if train_images is not None and train_labels is not None:\n",
        "      if subset_percent is not None:\n",
        "        train_images, train_labels = split_array(train_images, train_labels, subset_percent)\n",
        "      train_labels = keras.utils.to_categorical(train_labels, num_classes=len(label_dict))\n",
        "\n",
        "    # checkpoint to track best model\n",
        "    checkpoint=keras.callbacks.ModelCheckpoint(save_path+'best_model_esi.h5', monitor='val_accuracy', save_best_only=True, mode='max')\n",
        "\n",
        "    # train the model\n",
        "    history = model.fit(\n",
        "          train_images, \n",
        "          train_labels, \n",
        "          epochs=epochs, \n",
        "          batch_size=batch_size,\n",
        "          validation_data=validation_data,\n",
        "          steps_per_epoch=steps_per_epoch,\n",
        "          validation_freq=validation_freq,\n",
        "          callbacks=[checkpoint]\n",
        "    )\n",
        "    \n",
        "    # save loss and accuracy data\n",
        "    keys = history.history\n",
        "    np.savez_compressed('history_esi.npz', loss=keys['loss'], accuracy=keys['accuracy'], val_loss=keys['val_loss'], val_accuracy=keys['val_accuracy'])\n",
        "    \n",
        "    return history\n",
        "\n",
        "  import math\n",
        "\n",
        "  def split_array(images, labels, subset_percent):\n",
        "    \"\"\"\n",
        "    Splits dataset based on a percentage value.\n",
        "\n",
        "    Parameters:\n",
        "    :param images:\n",
        "      Images from a dataset to be trained on.\n",
        "      4-D Numpy array with (batch_size, width, height, num_channels) as its dimensions.\n",
        "\n",
        "    :param labels:\n",
        "      Labels from a dataset to be trained on.\n",
        "      Rank 1 Numpy array with (batch_size,) as its dimensions.\n",
        "\n",
        "    :param subset_percent:\n",
        "      Float value determining percentage of subset to remain.\n",
        "\n",
        "    Returns:\n",
        "    :returns split_images:\n",
        "      Numpy array containing a fraction of the initial images parameter (batch_size*subset_percent)\n",
        "\n",
        "    :returns split_labels:\n",
        "      Numpy array containing a fraction of the initial labels parameter (batch_size*subset_percent)\n",
        "    \"\"\"\n",
        "    split_images = []\n",
        "    split_labels = []\n",
        "    \n",
        "    # get all unique labels\n",
        "    uni_lbls = np.unique(labels)\n",
        "    \n",
        "    # find all instances of labels and subset based on that\n",
        "    for uni_lbl in uni_lbls:\n",
        "      idx = np.where(labels==uni_lbl)[0]\n",
        "      # 0 : len(idx)*subset_percent\n",
        "      lower = 0\n",
        "      upper = int(math.floor(len(idx)*subset_percent))\n",
        "      split_images.extend(images[idx[lower:upper]])\n",
        "      split_labels.extend(labels[idx[lower:upper]])\n",
        "    return np.asarray(split_images), np.asarray(split_labels)"
      ],
      "execution_count": 0,
      "outputs": []
    },
    {
      "cell_type": "code",
      "metadata": {
        "id": "MrVoWHitNioY",
        "colab_type": "code",
        "colab": {}
      },
      "source": [
        "def load_model(file_name, file_path):\n",
        "  '''\n",
        "  :param file_name: The model name. Should be a string 'blah.h5'\n",
        "         file_path: The path that the user would like to save to.\n",
        "                    In the form of 'blah/foo/bar/'\n",
        "  :return: the model loaded\n",
        "  '''\n",
        "\n",
        "  loaded_model = keras.models.load_model(file_path+file_name)\n",
        "  return loaded_model"
      ],
      "execution_count": 0,
      "outputs": []
    },
    {
      "cell_type": "code",
      "metadata": {
        "id": "EC2UzSDSN1OG",
        "colab_type": "code",
        "colab": {}
      },
      "source": [
        "def predict_one_image(images, model):\n",
        "  \n",
        "  ishape = list(images.shape)\n",
        "  images = images.reshape(ishape+[1])\n",
        "  \n",
        "  prediction = model.predict(images)\n",
        "  return prediction"
      ],
      "execution_count": 0,
      "outputs": []
    },
    {
      "cell_type": "code",
      "metadata": {
        "id": "ulLjeaI0N3FX",
        "colab_type": "code",
        "colab": {}
      },
      "source": [
        "from matplotlib import pyplot as plt\n",
        "\n",
        "def display_training_trends(history, key1, key2, title='training'):\n",
        "    \"\"\"\n",
        "    Display the graphs of loss/accuracy during training\n",
        "    \n",
        "    :param history:\n",
        "        Tensorflow History object or Numpy Decompressed File object.\n",
        "    :param key1:\n",
        "        Key contained within history object that user can provide to plot as compared with other keys.\n",
        "        Assume key is a string contained in the history object.\n",
        "    :param key2:\n",
        "        Key contained within history object that user can provide to plot as compared with other keys.\n",
        "        Assume key is a string contained in the history object.\n",
        "    :param title:\n",
        "        Title of the graph. If caller doesn't specify, use default of 'training'.\n",
        "    \"\"\"\n",
        "    h = None\n",
        "    if  'tensorflow' in str(type(history)):\n",
        "      h = history.history\n",
        "      print(\"h is history.history\")\n",
        "    else:\n",
        "      h = history\n",
        "      print(\"h is history\")\n",
        "    print(h)\n",
        "    # make subplots\n",
        "    fig, ax1 = plt.subplots()\n",
        "\n",
        "    # set title of graph\n",
        "    plt.title(title) \n",
        "\n",
        "    # set x label\n",
        "    color = 'tab:red'\n",
        "    ax1.set_xlabel('epochs')\n",
        "\n",
        "    # plot first key\n",
        "    ax1.set_ylabel(key1, color=color)  # we already handled the x-label with ax1\n",
        "    lns1 = ax1.plot(h[key1], color=color, label = key1) # maybe improve labeling \n",
        "    ax1.tick_params(axis='y')\n",
        "\n",
        "    color = 'tab:blue'\n",
        "    legend_loc = 'best'\n",
        "\n",
        "    # instantiate a second axes that shares the same x-axis\n",
        "    ax2 = ax1.twinx()  \n",
        "\n",
        "    # plot second key\n",
        "    ax2.set_ylabel(key2, color=color)  # we already handled the x-label with ax1\n",
        "    lns2 = ax2.plot(h[key2], color=color, label = key2)\n",
        "    ax2.tick_params(axis='y') #labelcolor=color\n",
        "\n",
        "    # legend for two axes\n",
        "    lines, labels = ax1.get_legend_handles_labels()\n",
        "    lines2, labels2 = ax2.get_legend_handles_labels()\n",
        "    ax2.legend(lines + lines2, labels + labels2, loc=legend_loc)\n",
        "\n",
        "    fig.tight_layout()  # otherwise the right y-label is slightly clipped\n",
        "    plt.show()"
      ],
      "execution_count": 0,
      "outputs": []
    },
    {
      "cell_type": "markdown",
      "metadata": {
        "id": "DOixpgjqOBYR",
        "colab_type": "text"
      },
      "source": [
        "###Train"
      ]
    },
    {
      "cell_type": "code",
      "metadata": {
        "id": "f-S5D45ROCdj",
        "colab_type": "code",
        "colab": {}
      },
      "source": [
        "os.environ['SPIT_PATH'] = \"/content/drive/My Drive/ESI_DATA_SPLIT\"\n",
        "os.environ['SAVE_PATH'] = \"/content/drive/My Drive/\""
      ],
      "execution_count": 0,
      "outputs": []
    },
    {
      "cell_type": "code",
      "metadata": {
        "id": "nmwlAdecOEmA",
        "colab_type": "code",
        "colab": {}
      },
      "source": [
        "label_dict = spit_l.kast_label_dict()\n",
        "preproc_dict = spit_p.original_preproc_dict()\n",
        "classify_dict = spit_l.kast_classify_dict(label_dict)"
      ],
      "execution_count": 0,
      "outputs": []
    },
    {
      "cell_type": "code",
      "metadata": {
        "id": "q68mL6XOOHMd",
        "colab_type": "code",
        "colab": {}
      },
      "source": [
        "train = np.load(os.path.join(os.getenv('SPIT_PATH'), 'esi_train.npz'))\n",
        "train_images = train['images']\n",
        "train_labels = train['labels']\n",
        "\n",
        "# load validation set\n",
        "validate = np.load(os.path.join(os.getenv('SPIT_PATH'), 'esi_validate.npz'))\n",
        "v_images = validate['images']\n",
        "v_labels = validate['labels']\n",
        "\n",
        "validation_data = (v_images, v_labels)"
      ],
      "execution_count": 0,
      "outputs": []
    },
    {
      "cell_type": "code",
      "metadata": {
        "id": "gQ1PuF3nOMhV",
        "colab_type": "code",
        "colab": {}
      },
      "source": [
        "history = _train(epochs=100, batch_size=32, test_model=model, train_images=train_images, train_labels=train_labels, validation_data=validation_data)"
      ],
      "execution_count": 0,
      "outputs": []
    },
    {
      "cell_type": "markdown",
      "metadata": {
        "id": "G4BlFTPgOXwU",
        "colab_type": "text"
      },
      "source": [
        "###Test"
      ]
    },
    {
      "cell_type": "code",
      "metadata": {
        "id": "Y7JvGHg7OZqM",
        "colab_type": "code",
        "colab": {}
      },
      "source": [
        "best_model = keras.models.load_model(os.environ['SAVE_PATH']+'best_model_esi.h5')\n",
        "test = np.load(os.path.join(os.environ['SPIT_PATH'], 'esi_test.npz'))\n",
        "test_images = test['images']\n",
        "test_labels = test['labels']\n",
        "test_labels = keras.utils.to_categorical(test_labels, num_classes=len(label_dict))\n",
        "best_model.evaluate(test_images, test_labels) "
      ],
      "execution_count": 0,
      "outputs": []
    },
    {
      "cell_type": "markdown",
      "metadata": {
        "id": "wxvYccHVqBrK",
        "colab_type": "text"
      },
      "source": [
        "##DenseNet Confusion Matrix"
      ]
    },
    {
      "cell_type": "code",
      "metadata": {
        "id": "dFmxm72kqDuJ",
        "colab_type": "code",
        "colab": {}
      },
      "source": [
        "val_true = test['labels']"
      ],
      "execution_count": 0,
      "outputs": []
    },
    {
      "cell_type": "code",
      "metadata": {
        "id": "wmzCcm-hqKVz",
        "colab_type": "code",
        "outputId": "d7061cad-ce79-4ae9-eb7b-453f95bbca4a",
        "colab": {
          "base_uri": "https://localhost:8080/",
          "height": 1000
        }
      },
      "source": [
        "predictions = best_model.predict(test_images)\n",
        "predictions"
      ],
      "execution_count": 0,
      "outputs": [
        {
          "output_type": "execute_result",
          "data": {
            "text/plain": [
              "array([[2.26811826e-04, 8.30081917e-05, 1.76529502e-05, 8.10251944e-03,\n",
              "        9.91569996e-01],\n",
              "       [2.25419339e-04, 7.85554803e-05, 1.71641568e-05, 6.42185658e-03,\n",
              "        9.93257046e-01],\n",
              "       [9.59004101e-04, 2.52080150e-04, 5.28898381e-05, 7.44084502e-03,\n",
              "        9.91295099e-01],\n",
              "       [9.13481170e-04, 2.44308292e-04, 5.10560931e-05, 7.52488384e-03,\n",
              "        9.91266310e-01],\n",
              "       [8.89449380e-04, 2.38612643e-04, 4.98858790e-05, 7.49724032e-03,\n",
              "        9.91324782e-01],\n",
              "       [1.87849146e-04, 6.46183107e-05, 1.47914961e-05, 5.61864628e-03,\n",
              "        9.94114101e-01],\n",
              "       [1.43045545e-04, 5.38514105e-05, 1.25613678e-05, 5.54562965e-03,\n",
              "        9.94244874e-01],\n",
              "       [1.47491999e-04, 5.49727374e-05, 1.27830372e-05, 5.54469274e-03,\n",
              "        9.94240046e-01],\n",
              "       [4.29859829e-05, 1.80232910e-05, 5.02999364e-06, 3.43106571e-03,\n",
              "        9.96502876e-01],\n",
              "       [4.24150239e-05, 1.84985511e-05, 5.25711539e-06, 4.37145401e-03,\n",
              "        9.95562434e-01],\n",
              "       [1.15452138e-04, 4.27298073e-05, 1.02440099e-05, 4.75393189e-03,\n",
              "        9.95077670e-01],\n",
              "       [1.19638280e-03, 1.06805656e-03, 5.57606341e-04, 7.97896367e-03,\n",
              "        9.89198983e-01],\n",
              "       [2.01591349e-04, 6.32037627e-05, 1.45125541e-05, 5.18951891e-03,\n",
              "        9.94531214e-01],\n",
              "       [3.44923523e-04, 9.99217809e-05, 2.24994419e-05, 5.55717759e-03,\n",
              "        9.93975461e-01],\n",
              "       [2.93741940e-12, 9.10117576e-13, 2.49769844e-10, 4.40669456e-09,\n",
              "        1.00000000e+00],\n",
              "       [1.06877109e-04, 3.93065347e-05, 9.23965126e-06, 5.06434357e-03,\n",
              "        9.94780302e-01],\n",
              "       [9.96796298e-05, 3.64978769e-05, 8.77619732e-06, 4.72635310e-03,\n",
              "        9.95128632e-01],\n",
              "       [1.55364742e-22, 2.80370562e-13, 2.59280140e-24, 1.00000000e+00,\n",
              "        1.85423989e-20],\n",
              "       [6.21486979e-14, 1.35313044e-07, 4.58868347e-16, 9.99999881e-01,\n",
              "        3.78572228e-13],\n",
              "       [2.47048636e-15, 8.78301964e-09, 9.89948499e-18, 1.00000000e+00,\n",
              "        1.11728889e-14],\n",
              "       [9.01747888e-16, 4.25626512e-09, 6.30838210e-18, 1.00000000e+00,\n",
              "        2.55845497e-15],\n",
              "       [5.90658493e-26, 1.24224226e-13, 3.04883492e-26, 1.00000000e+00,\n",
              "        6.72788010e-25],\n",
              "       [5.23008113e-12, 1.36628069e-06, 3.53218329e-14, 9.99998689e-01,\n",
              "        1.11235604e-11],\n",
              "       [2.19414851e-05, 9.77072516e-04, 1.63693805e-08, 9.98998582e-01,\n",
              "        2.32818320e-06],\n",
              "       [2.98331875e-38, 8.96735977e-24, 0.00000000e+00, 1.00000000e+00,\n",
              "        3.50765749e-36],\n",
              "       [1.04495258e-16, 2.21815522e-09, 2.02862406e-18, 1.00000000e+00,\n",
              "        2.14748517e-15],\n",
              "       [6.31928659e-35, 7.93560425e-19, 1.40352545e-34, 1.00000000e+00,\n",
              "        8.10046235e-33],\n",
              "       [9.45913017e-01, 1.89366024e-02, 7.12419162e-04, 1.61217863e-03,\n",
              "        3.28258649e-02],\n",
              "       [9.48244810e-01, 1.82445850e-02, 6.60098158e-04, 1.55183964e-03,\n",
              "        3.12986746e-02],\n",
              "       [9.61724818e-01, 1.48560023e-02, 4.35150840e-04, 1.34216517e-03,\n",
              "        2.16417890e-02],\n",
              "       [8.62751484e-01, 2.37685926e-02, 1.52087142e-03, 3.01515218e-03,\n",
              "        1.08943909e-01],\n",
              "       [9.57796633e-01, 1.58500206e-02, 4.79747163e-04, 1.16841402e-03,\n",
              "        2.47052386e-02],\n",
              "       [9.57554817e-01, 1.64550859e-02, 5.39905101e-04, 1.59504043e-03,\n",
              "        2.38551274e-02],\n",
              "       [9.57393587e-01, 1.56358331e-02, 5.00226626e-04, 1.64254045e-03,\n",
              "        2.48277429e-02],\n",
              "       [9.19950366e-01, 1.84222441e-02, 8.37470463e-04, 2.21235305e-03,\n",
              "        5.85775189e-02],\n",
              "       [6.32865776e-05, 4.42608586e-03, 9.46407080e-01, 7.29251115e-05,\n",
              "        4.90307175e-02],\n",
              "       [6.94279652e-06, 1.72580825e-03, 9.69686091e-01, 7.39119205e-05,\n",
              "        2.85072569e-02],\n",
              "       [4.03843131e-07, 9.97879505e-01, 8.39856682e-08, 2.11793813e-03,\n",
              "        2.18233095e-06],\n",
              "       [2.67602336e-05, 9.89479005e-01, 6.87081069e-07, 1.04671288e-02,\n",
              "        2.64402988e-05],\n",
              "       [2.13053249e-06, 9.93915737e-01, 1.66212303e-07, 6.07783115e-03,\n",
              "        4.10733173e-06],\n",
              "       [1.02414688e-05, 9.87429798e-01, 3.18659403e-07, 1.25501873e-02,\n",
              "        9.45573629e-06],\n",
              "       [1.56761616e-05, 9.96599615e-01, 6.77714354e-07, 3.36552248e-03,\n",
              "        1.84871024e-05],\n",
              "       [1.32659234e-05, 9.89556253e-01, 4.20363222e-07, 1.04169538e-02,\n",
              "        1.31516817e-05],\n",
              "       [8.09966672e-09, 9.99431789e-01, 1.22851542e-08, 5.67954266e-04,\n",
              "        2.39017993e-07],\n",
              "       [8.39312975e-08, 9.99678612e-01, 4.73235495e-08, 3.20111343e-04,\n",
              "        1.12814712e-06],\n",
              "       [1.25149313e-07, 9.97900724e-01, 5.00154620e-08, 2.09818152e-03,\n",
              "        9.08943719e-07],\n",
              "       [5.18294109e-04, 9.91226733e-01, 1.04938636e-05, 7.86599424e-03,\n",
              "        3.78455064e-04],\n",
              "       [3.71393835e-05, 9.93753731e-01, 1.20212883e-06, 6.17376156e-03,\n",
              "        3.41355335e-05],\n",
              "       [1.02140223e-06, 9.96060789e-01, 9.68057776e-08, 3.93574126e-03,\n",
              "        2.30314436e-06],\n",
              "       [1.12145113e-04, 9.94930327e-01, 2.72868260e-06, 4.88293637e-03,\n",
              "        7.17716321e-05],\n",
              "       [3.22646205e-03, 9.88541484e-01, 3.64588086e-05, 7.12682027e-03,\n",
              "        1.06878916e-03],\n",
              "       [3.86870634e-05, 9.75684583e-01, 1.12740111e-06, 2.42416877e-02,\n",
              "        3.37951788e-05],\n",
              "       [5.61055799e-07, 9.98633921e-01, 1.16854864e-07, 1.36321562e-03,\n",
              "        2.10717735e-06],\n",
              "       [4.12992267e-06, 9.98221219e-01, 3.67586239e-07, 1.76748924e-03,\n",
              "        6.83984899e-06],\n",
              "       [1.94274209e-04, 9.86338317e-01, 3.03107072e-06, 1.33569073e-02,\n",
              "        1.07522566e-04],\n",
              "       [1.68871793e-05, 9.98268247e-01, 1.40137013e-06, 1.68283144e-03,\n",
              "        3.05954454e-05],\n",
              "       [4.66597266e-02, 9.29393053e-01, 1.75356137e-04, 1.65870264e-02,\n",
              "        7.18478253e-03],\n",
              "       [9.51679889e-03, 9.80367661e-01, 5.76187704e-05, 7.73589686e-03,\n",
              "        2.32207729e-03],\n",
              "       [2.78063508e-05, 1.21851135e-05, 3.57090130e-06, 2.91834539e-03,\n",
              "        9.97038126e-01],\n",
              "       [2.99221065e-05, 1.30300068e-05, 3.76957860e-06, 3.01359454e-03,\n",
              "        9.96939659e-01],\n",
              "       [2.98410396e-05, 1.30317758e-05, 3.76312892e-06, 3.04661039e-03,\n",
              "        9.96906698e-01],\n",
              "       [3.14667777e-05, 1.36261360e-05, 3.92020456e-06, 3.07523389e-03,\n",
              "        9.96875763e-01],\n",
              "       [2.47047354e-18, 1.48811921e-10, 5.66705703e-20, 1.00000000e+00,\n",
              "        8.05643013e-17],\n",
              "       [1.35291858e-17, 7.79409426e-10, 3.25487765e-19, 1.00000000e+00,\n",
              "        5.77099905e-16],\n",
              "       [9.21392024e-01, 1.84110273e-02, 8.26939126e-04, 2.13927682e-03,\n",
              "        5.72308004e-02],\n",
              "       [9.64598298e-01, 1.23813171e-02, 3.39071645e-04, 1.42481853e-03,\n",
              "        2.12564096e-02],\n",
              "       [9.51349854e-01, 1.34022487e-02, 4.29554115e-04, 1.68250059e-03,\n",
              "        3.31359468e-02],\n",
              "       [9.52499330e-01, 1.37502691e-02, 4.41098673e-04, 1.48340559e-03,\n",
              "        3.18258740e-02],\n",
              "       [6.30441209e-05, 3.60009889e-03, 9.60509062e-01, 5.95188430e-05,\n",
              "        3.57682146e-02],\n",
              "       [3.89926485e-03, 2.54070535e-02, 5.89888811e-01, 2.00808677e-03,\n",
              "        3.78796846e-01],\n",
              "       [5.13830106e-04, 9.64506567e-01, 2.21365008e-05, 3.41413915e-02,\n",
              "        8.16036016e-04],\n",
              "       [1.84290763e-10, 9.03878510e-01, 6.71604994e-10, 9.61214751e-02,\n",
              "        7.68297603e-09],\n",
              "       [7.31566405e-11, 9.12317216e-01, 2.95623082e-10, 8.76827836e-02,\n",
              "        2.99673286e-09],\n",
              "       [2.89629825e-04, 9.58818734e-01, 1.51711747e-05, 4.02847528e-02,\n",
              "        5.91694610e-04],\n",
              "       [1.04310676e-08, 9.81172621e-01, 7.97191646e-09, 1.88272242e-02,\n",
              "        1.32950575e-07]], dtype=float32)"
            ]
          },
          "metadata": {
            "tags": []
          },
          "execution_count": 25
        }
      ]
    },
    {
      "cell_type": "code",
      "metadata": {
        "id": "quhJCBM6qMZn",
        "colab_type": "code",
        "colab": {}
      },
      "source": [
        "pred = []\n",
        "for p in enumerate(predictions):\n",
        "  # index of loop\n",
        "  i = p[0]\n",
        "  # particular prediction array for this image\n",
        "  p_array = p[1]\n",
        "  # find and append prediction\n",
        "  maxIndex = np.where(p_array == np.amax(p_array))\n",
        "  pred.append(maxIndex[0][0])"
      ],
      "execution_count": 0,
      "outputs": []
    },
    {
      "cell_type": "code",
      "metadata": {
        "id": "35YxYRHBqR8O",
        "colab_type": "code",
        "colab": {}
      },
      "source": [
        "from matplotlib import pyplot as plt\n",
        "from sklearn.metrics import confusion_matrix\n",
        "def plot_confusion_matrix(y_true, y_pred, classes,\n",
        "                          normalize=False,\n",
        "                          title=None,\n",
        "                          cmap=plt.cm.Blues):\n",
        "    \"\"\"\n",
        "    This function prints and plots the confusion matrix.\n",
        "    Normalization can be applied by setting `normalize=True`.\n",
        "    \"\"\"\n",
        "    if not title:\n",
        "        if normalize:\n",
        "            title = 'Normalized confusion matrix'\n",
        "        else:\n",
        "            title = 'Confusion matrix, without normalization'\n",
        "\n",
        "    # Compute confusion matrix\n",
        "    cm = confusion_matrix(y_true, y_pred)\n",
        "#     # Only use the labels that appear in the data\n",
        "#     classes = classes[unique_labels(y_true, y_pred)]\n",
        "    if normalize:\n",
        "        cm = cm.astype('float') / cm.sum(axis=1)[:, np.newaxis]\n",
        "        print(\"Normalized confusion matrix\")\n",
        "    else:\n",
        "        print('Confusion matrix, without normalization')\n",
        "\n",
        "    print(cm)\n",
        "\n",
        "    fig = plt.figure(figsize=(8,8))\n",
        "    ax  = fig.add_subplot(111)\n",
        "    im = ax.imshow(cm, interpolation='nearest', cmap=cmap)\n",
        "    ax.figure.colorbar(im, ax=ax)\n",
        "    # We want to show all ticks...\n",
        "    ax.set(xticks=np.arange(cm.shape[1]),\n",
        "           yticks=np.arange(cm.shape[0]),\n",
        "           # ... and label them with the respective list entries\n",
        "           xticklabels=classes, yticklabels=classes,\n",
        "           title=title,\n",
        "           ylabel='True label',\n",
        "           xlabel='Predicted label')\n",
        "\n",
        "    # Rotate the tick labels and set their alignment.\n",
        "    plt.setp(ax.get_xticklabels(), rotation=45, ha=\"right\",\n",
        "             rotation_mode=\"anchor\")\n",
        "\n",
        "    # Loop over data dimensions and create text annotations.\n",
        "    fmt = '.2f' if normalize else 'd'\n",
        "    thresh = cm.max() / 2.\n",
        "    for i in range(cm.shape[0]):\n",
        "        for j in range(cm.shape[1]):\n",
        "            ax.text(j, i, format(cm[i, j], fmt),\n",
        "                    ha=\"center\", va=\"center\",\n",
        "                    color=\"white\" if cm[i, j] > thresh else \"black\")\n",
        "    fig.tight_layout()\n",
        "    return ax"
      ],
      "execution_count": 0,
      "outputs": []
    },
    {
      "cell_type": "code",
      "metadata": {
        "id": "TllGrCSuqU9E",
        "colab_type": "code",
        "outputId": "89323e90-4561-4c1d-b0d8-eb7bae4c0ca3",
        "colab": {
          "base_uri": "https://localhost:8080/",
          "height": 51
        }
      },
      "source": [
        "# plot_confusion_matrix(test_labels, pred, )\n",
        "print(label_dict)\n",
        "classes = []\n",
        "for label in label_dict:\n",
        "  if '_label' in label:\n",
        "    label = label.replace('_label','')\n",
        "  classes.append(label)\n",
        "print(classes)\n",
        "# classes = {x.replace('_label', '') for x in classes}\n",
        "# print(classes)"
      ],
      "execution_count": 0,
      "outputs": [
        {
          "output_type": "stream",
          "text": [
            "OrderedDict([('bias_label', 0), ('science_label', 1), ('standard_label', 2), ('arc_label', 3), ('flat_label', 4)])\n",
            "['bias', 'science', 'standard', 'arc', 'flat']\n"
          ],
          "name": "stdout"
        }
      ]
    },
    {
      "cell_type": "code",
      "metadata": {
        "id": "fCt700F_qXPK",
        "colab_type": "code",
        "outputId": "f75b1334-6543-4482-8506-b5f9d3c01afa",
        "colab": {
          "base_uri": "https://localhost:8080/",
          "height": 690
        }
      },
      "source": [
        "plot_confusion_matrix(val_true, pred, classes)"
      ],
      "execution_count": 0,
      "outputs": [
        {
          "output_type": "stream",
          "text": [
            "Confusion matrix, without normalization\n",
            "[[12  0  0  0  0]\n",
            " [ 0 26  0  0  0]\n",
            " [ 0  0  4  0  0]\n",
            " [ 0  0  0 12  0]\n",
            " [ 0  0  0  0 21]]\n"
          ],
          "name": "stdout"
        },
        {
          "output_type": "execute_result",
          "data": {
            "text/plain": [
              "<matplotlib.axes._subplots.AxesSubplot at 0x7faec2c84588>"
            ]
          },
          "metadata": {
            "tags": []
          },
          "execution_count": 30
        },
        {
          "output_type": "display_data",
          "data": {
            "image/png": "[encoded data removed]",
            "text/plain": [
              "<Figure size 576x576 with 2 Axes>"
            ]
          },
          "metadata": {
            "tags": []
          }
        }
      ]
    }
  ]
}