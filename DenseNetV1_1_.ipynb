{
  "nbformat": 4,
  "nbformat_minor": 0,
  "metadata": {
    "colab": {
      "name": "DenseNetV1.1_.ipynb",
      "version": "0.3.2",
      "provenance": [],
      "collapsed_sections": [
        "U74NGbY4508Z",
        "08Eytj_3oYDI",
        "2dnGV0FHocqH",
        "Dvhr1SS2ojnf",
        "apSpY04_op7G"
      ]
    },
    "kernelspec": {
      "name": "python3",
      "display_name": "Python 3"
    },
    "accelerator": "GPU"
  },
  "cells": [
    {
      "cell_type": "markdown",
      "metadata": {
        "id": "U74NGbY4508Z",
        "colab_type": "text"
      },
      "source": [
        "# Import Tensorflow"
      ]
    },
    {
      "cell_type": "code",
      "metadata": {
        "id": "rzmyPhhhvIRu",
        "colab_type": "code",
        "outputId": "40f8c221-fa09-43a9-8209-ffa55400f58e",
        "colab": {
          "base_uri": "https://localhost:8080/",
          "height": 357
        }
      },
      "source": [
        "!pip install tensorflow==2.0.0b1"
      ],
      "execution_count": 0,
      "outputs": [
        {
          "output_type": "stream",
          "text": [
            "Requirement already satisfied: tensorflow==2.0.0b1 in /usr/local/lib/python3.6/dist-packages (2.0.0b1)\n",
            "Requirement already satisfied: keras-applications>=1.0.6 in /usr/local/lib/python3.6/dist-packages (from tensorflow==2.0.0b1) (1.0.8)\n",
            "Requirement already satisfied: gast>=0.2.0 in /usr/local/lib/python3.6/dist-packages (from tensorflow==2.0.0b1) (0.2.2)\n",
            "Requirement already satisfied: protobuf>=3.6.1 in /usr/local/lib/python3.6/dist-packages (from tensorflow==2.0.0b1) (3.7.1)\n",
            "Requirement already satisfied: google-pasta>=0.1.6 in /usr/local/lib/python3.6/dist-packages (from tensorflow==2.0.0b1) (0.1.7)\n",
            "Requirement already satisfied: absl-py>=0.7.0 in /usr/local/lib/python3.6/dist-packages (from tensorflow==2.0.0b1) (0.7.1)\n",
            "Requirement already satisfied: keras-preprocessing>=1.0.5 in /usr/local/lib/python3.6/dist-packages (from tensorflow==2.0.0b1) (1.1.0)\n",
            "Requirement already satisfied: astor>=0.6.0 in /usr/local/lib/python3.6/dist-packages (from tensorflow==2.0.0b1) (0.8.0)\n",
            "Requirement already satisfied: tb-nightly<1.14.0a20190604,>=1.14.0a20190603 in /usr/local/lib/python3.6/dist-packages (from tensorflow==2.0.0b1) (1.14.0a20190603)\n",
            "Requirement already satisfied: grpcio>=1.8.6 in /usr/local/lib/python3.6/dist-packages (from tensorflow==2.0.0b1) (1.15.0)\n",
            "Requirement already satisfied: tf-estimator-nightly<1.14.0.dev2019060502,>=1.14.0.dev2019060501 in /usr/local/lib/python3.6/dist-packages (from tensorflow==2.0.0b1) (1.14.0.dev2019060501)\n",
            "Requirement already satisfied: numpy<2.0,>=1.14.5 in /usr/local/lib/python3.6/dist-packages (from tensorflow==2.0.0b1) (1.16.4)\n",
            "Requirement already satisfied: wheel>=0.26 in /usr/local/lib/python3.6/dist-packages (from tensorflow==2.0.0b1) (0.33.4)\n",
            "Requirement already satisfied: termcolor>=1.1.0 in /usr/local/lib/python3.6/dist-packages (from tensorflow==2.0.0b1) (1.1.0)\n",
            "Requirement already satisfied: six>=1.10.0 in /usr/local/lib/python3.6/dist-packages (from tensorflow==2.0.0b1) (1.12.0)\n",
            "Requirement already satisfied: wrapt>=1.11.1 in /usr/local/lib/python3.6/dist-packages (from tensorflow==2.0.0b1) (1.11.2)\n",
            "Requirement already satisfied: h5py in /usr/local/lib/python3.6/dist-packages (from keras-applications>=1.0.6->tensorflow==2.0.0b1) (2.8.0)\n",
            "Requirement already satisfied: setuptools in /usr/local/lib/python3.6/dist-packages (from protobuf>=3.6.1->tensorflow==2.0.0b1) (41.0.1)\n",
            "Requirement already satisfied: werkzeug>=0.11.15 in /usr/local/lib/python3.6/dist-packages (from tb-nightly<1.14.0a20190604,>=1.14.0a20190603->tensorflow==2.0.0b1) (0.15.5)\n",
            "Requirement already satisfied: markdown>=2.6.8 in /usr/local/lib/python3.6/dist-packages (from tb-nightly<1.14.0a20190604,>=1.14.0a20190603->tensorflow==2.0.0b1) (3.1.1)\n"
          ],
          "name": "stdout"
        }
      ]
    },
    {
      "cell_type": "markdown",
      "metadata": {
        "id": "08Eytj_3oYDI",
        "colab_type": "text"
      },
      "source": [
        "# Imports"
      ]
    },
    {
      "cell_type": "code",
      "metadata": {
        "id": "FIMdpjQ-f-nx",
        "colab_type": "code",
        "colab": {}
      },
      "source": [
        "# imports\n",
        "import numpy as np\n",
        "import os\n",
        "\n",
        "from importlib import reload\n",
        "from pkg_resources import resource_filename\n",
        "from google.colab import drive\n",
        "import imageio"
      ],
      "execution_count": 0,
      "outputs": []
    },
    {
      "cell_type": "code",
      "metadata": {
        "id": "EkgCyHlig-fl",
        "colab_type": "code",
        "outputId": "f55817a9-927f-4a8e-a631-efe432f1cd36",
        "colab": {
          "base_uri": "https://localhost:8080/",
          "height": 34
        }
      },
      "source": [
        "import tensorflow\n",
        "tensorflow.__version__"
      ],
      "execution_count": 0,
      "outputs": [
        {
          "output_type": "execute_result",
          "data": {
            "text/plain": [
              "'2.0.0-beta1'"
            ]
          },
          "metadata": {
            "tags": []
          },
          "execution_count": 4
        }
      ]
    },
    {
      "cell_type": "code",
      "metadata": {
        "id": "LqfsN-WdhAcm",
        "colab_type": "code",
        "outputId": "442c63b1-a61c-452d-e406-4f3bc9204cdb",
        "colab": {
          "base_uri": "https://localhost:8080/",
          "height": 122
        }
      },
      "source": [
        "drive.mount('/content/drive/')"
      ],
      "execution_count": 0,
      "outputs": [
        {
          "output_type": "stream",
          "text": [
            "Go to this URL in a browser: https://accounts.google.com/o/oauth2/auth?client_id=947318989803-6bn6qk8qdgf4n4g3pfee6491hc0brc4i.apps.googleusercontent.com&redirect_uri=urn%3Aietf%3Awg%3Aoauth%3A2.0%3Aoob&scope=email%20https%3A%2F%2Fwww.googleapis.com%2Fauth%2Fdocs.test%20https%3A%2F%2Fwww.googleapis.com%2Fauth%2Fdrive%20https%3A%2F%2Fwww.googleapis.com%2Fauth%2Fdrive.photos.readonly%20https%3A%2F%2Fwww.googleapis.com%2Fauth%2Fpeopleapi.readonly&response_type=code\n",
            "\n",
            "Enter your authorization code:\n",
            "··········\n",
            "Mounted at /content/drive/\n"
          ],
          "name": "stdout"
        }
      ]
    },
    {
      "cell_type": "code",
      "metadata": {
        "id": "znIJK2HDhBsO",
        "colab_type": "code",
        "outputId": "ba8c2b9e-8011-4d54-b303-63c4b43992c7",
        "colab": {
          "base_uri": "https://localhost:8080/",
          "height": 136
        }
      },
      "source": [
        "!git clone https://github.com/pypeit/spit.git"
      ],
      "execution_count": 0,
      "outputs": [
        {
          "output_type": "stream",
          "text": [
            "Cloning into 'spit'...\n",
            "remote: Enumerating objects: 161, done.\u001b[K\n",
            "remote: Counting objects: 100% (161/161), done.\u001b[K\n",
            "remote: Compressing objects: 100% (121/121), done.\u001b[K\n",
            "remote: Total 845 (delta 108), reused 65 (delta 40), pack-reused 684\u001b[K\n",
            "Receiving objects: 100% (845/845), 930.91 KiB | 821.00 KiB/s, done.\n",
            "Resolving deltas: 100% (483/483), done.\n"
          ],
          "name": "stdout"
        }
      ]
    },
    {
      "cell_type": "code",
      "metadata": {
        "id": "N1kzH-dghJlh",
        "colab_type": "code",
        "outputId": "5509ef09-bc4f-4607-a02f-a0d2f9d22fb5",
        "colab": {
          "base_uri": "https://localhost:8080/",
          "height": 34
        }
      },
      "source": [
        "%cd spit"
      ],
      "execution_count": 0,
      "outputs": [
        {
          "output_type": "stream",
          "text": [
            "/content/spit\n"
          ],
          "name": "stdout"
        }
      ]
    },
    {
      "cell_type": "code",
      "metadata": {
        "id": "UCXppiJ_hLtu",
        "colab_type": "code",
        "outputId": "31496ee6-291c-4806-fc88-a56237c3bf96",
        "colab": {
          "base_uri": "https://localhost:8080/",
          "height": 51
        }
      },
      "source": [
        "!git checkout new_models"
      ],
      "execution_count": 0,
      "outputs": [
        {
          "output_type": "stream",
          "text": [
            "Branch 'new_models' set up to track remote branch 'new_models' from 'origin'.\n",
            "Switched to a new branch 'new_models'\n"
          ],
          "name": "stdout"
        }
      ]
    },
    {
      "cell_type": "code",
      "metadata": {
        "id": "gFBV0bnthNV8",
        "colab_type": "code",
        "outputId": "7a0187fe-570d-4a05-c835-e0b11e401476",
        "colab": {
          "base_uri": "https://localhost:8080/",
          "height": 34
        }
      },
      "source": [
        "!git pull"
      ],
      "execution_count": 0,
      "outputs": [
        {
          "output_type": "stream",
          "text": [
            "Already up to date.\n"
          ],
          "name": "stdout"
        }
      ]
    },
    {
      "cell_type": "code",
      "metadata": {
        "id": "sI3uoAU0hOwc",
        "colab_type": "code",
        "outputId": "b0aeb278-9a77-4b87-ba6e-b2778f453513",
        "colab": {
          "base_uri": "https://localhost:8080/",
          "height": 323
        }
      },
      "source": [
        "!python setup.py develop"
      ],
      "execution_count": 0,
      "outputs": [
        {
          "output_type": "stream",
          "text": [
            "running develop\n",
            "running egg_info\n",
            "creating spit.egg-info\n",
            "writing spit.egg-info/PKG-INFO\n",
            "writing dependency_links to spit.egg-info/dependency_links.txt\n",
            "writing top-level names to spit.egg-info/top_level.txt\n",
            "writing manifest file 'spit.egg-info/SOURCES.txt'\n",
            "writing manifest file 'spit.egg-info/SOURCES.txt'\n",
            "running build_ext\n",
            "Creating /usr/local/lib/python3.6/dist-packages/spit.egg-link (link to .)\n",
            "Adding spit 0.1.dev0 to easy-install.pth file\n",
            "Installing spit_train script to /usr/local/bin\n",
            "Installing spit_png script to /usr/local/bin\n",
            "Installing spit_classify_image script to /usr/local/bin\n",
            "\n",
            "Installed /content/spit\n",
            "Processing dependencies for spit==0.1.dev0\n",
            "Finished processing dependencies for spit==0.1.dev0\n"
          ],
          "name": "stdout"
        }
      ]
    },
    {
      "cell_type": "code",
      "metadata": {
        "id": "p1o27AbvhP7c",
        "colab_type": "code",
        "colab": {}
      },
      "source": [
        "# imports\n",
        "from importlib import reload\n",
        "\n",
        "from spit import image_loader\n",
        "from spit import labels\n",
        "from spit import preprocess\n",
        "from spit import classifier as c\n",
        "from spit import utils"
      ],
      "execution_count": 0,
      "outputs": []
    },
    {
      "cell_type": "markdown",
      "metadata": {
        "id": "2dnGV0FHocqH",
        "colab_type": "text"
      },
      "source": [
        "# Build DenseNet"
      ]
    },
    {
      "cell_type": "code",
      "metadata": {
        "id": "6UK-KubhvJ4E",
        "colab_type": "code",
        "colab": {}
      },
      "source": [
        "import tensorflow as tf\n",
        "from tensorflow import keras"
      ],
      "execution_count": 0,
      "outputs": []
    },
    {
      "cell_type": "code",
      "metadata": {
        "id": "Vg-eHZ3gfURL",
        "colab_type": "code",
        "outputId": "f1e2bd43-4237-41ec-9953-64211a94448b",
        "colab": {
          "base_uri": "https://localhost:8080/",
          "height": 51
        }
      },
      "source": [
        "print(tf.test.is_gpu_available())\n",
        "device_name = tf.test.gpu_device_name()\n",
        "if device_name != '/device:GPU:0':\n",
        "  raise SystemError('GPU device not found')\n",
        "print('Found GPU at: {}'.format(device_name))"
      ],
      "execution_count": 0,
      "outputs": [
        {
          "output_type": "stream",
          "text": [
            "True\n",
            "Found GPU at: /device:GPU:0\n"
          ],
          "name": "stdout"
        }
      ]
    },
    {
      "cell_type": "code",
      "metadata": {
        "id": "veTuJQk36S0Z",
        "colab_type": "code",
        "colab": {}
      },
      "source": [
        "# need to add compression to either block, transition, or both to get it to be BC\n",
        "\n",
        "def dense_block(model):\n",
        "  \n",
        "  # 1x1 convolution bottleneck\n",
        "  \n",
        "  model.add(keras.layers.BatchNormalization())\n",
        "  model.add(keras.layers.ReLU())\n",
        "  #### HYPERPARAMETERS: GROWTH RATE AND DROPOUT RATE ####\n",
        "  model.add(keras.layers.Conv2D(growth_rate*filters, kernel_size=1))\n",
        "  model.add(keras.layers.Dropout(rate=dropout_rate))\n",
        "  \n",
        "  # 3x3 dense convolution\n",
        "  \n",
        "  model.add(keras.layers.BatchNormalization())\n",
        "  model.add(keras.layers.ReLU())\n",
        "  #### HYPERPARAMETER ####\n",
        "  model.add(keras.layers.Conv2D(filters, kernel_size=3))\n",
        "  #### HYPERPARAMETER ####\n",
        "  model.add(keras.layers.Dropout(rate=dropout_rate))\n",
        "  \n",
        "  return\n",
        "\n",
        "def transition_layer(model):\n",
        "  model.add(keras.layers.BatchNormalization())       #   x = Batch_Normalization(x, training=self.training, scope=scope+'_batch1')\n",
        "  model.add(keras.layers.ReLU())                     #   x = Relu(x)\n",
        "  \n",
        "  model.add(keras.layers.Conv2D(filters, kernel_size=1))\n",
        "  \n",
        "  model.add(keras.layers.Dropout(rate=dropout_rate)) #   x = Drop_out(x, rate=dropout_rate, training=self.training)\n",
        "  \n",
        "  model.add(keras.layers.AveragePooling2D(pool_size=(2,2), strides=2))\n",
        "  return\n",
        "  "
      ],
      "execution_count": 0,
      "outputs": []
    },
    {
      "cell_type": "code",
      "metadata": {
        "id": "HozlILKAvVCE",
        "colab_type": "code",
        "colab": {}
      },
      "source": [
        "#### DENSE NET ARCHITECTURE #####\n",
        "#\n",
        "# CONV --> BLOCK --> TRANSITION --> BLOCK --> TRANSITION --> BLOCK --> POOL --> SOFTMAX\n",
        "#\n",
        "# BLOCK:\n",
        "# BatchNorm --> ReLu --> Conv (1x1) --> DropOut --> BatchNorm --> ReLu --> Conv (3x3) --> DropOut --> output\n",
        "#\n",
        "\n",
        "model = keras.Sequential()\n",
        "\n",
        "# hyperparameters\n",
        "filters = 64\n",
        "dropout_rate = .2\n",
        "theta = .5\n",
        "growth_rate = 4\n",
        "\n",
        "# add a conv layer\n",
        "model.add(keras.layers.Conv2D(filters, kernel_size=7, strides=(2, 2), padding='valid', activation='relu', \n",
        "                            input_shape = (210, 650, 1)))\n",
        "\n",
        "# pool like in tf simple implementation\n",
        "model.add(keras.layers.MaxPooling2D(pool_size=(3, 3), strides=2, padding='valid'))\n",
        "\n",
        "# add block\n",
        "dense_block(model)\n",
        "# add transition\n",
        "transition_layer(model)\n",
        "# add block\n",
        "dense_block(model)\n",
        "# add transition\n",
        "transition_layer(model)\n",
        "# add block\n",
        "dense_block(model)\n",
        "# add pool\n",
        "model.add(keras.layers.GlobalAveragePooling2D())\n",
        "# add flatten\n",
        "model.add(keras.layers.Flatten())\n",
        "\n",
        "# Produce 0-1 probabilities with softmax\n",
        "model.add(keras.layers.Dense(5, activation='softmax'))"
      ],
      "execution_count": 0,
      "outputs": []
    },
    {
      "cell_type": "code",
      "metadata": {
        "id": "mwc1bmdCfmDT",
        "colab_type": "code",
        "colab": {}
      },
      "source": [
        "model.compile(loss='categorical_crossentropy', optimizer='adam', metrics=['accuracy'])\n"
      ],
      "execution_count": 0,
      "outputs": []
    },
    {
      "cell_type": "markdown",
      "metadata": {
        "id": "Dvhr1SS2ojnf",
        "colab_type": "text"
      },
      "source": [
        "# Fake Data"
      ]
    },
    {
      "cell_type": "code",
      "metadata": {
        "id": "1UOxTk6beV3M",
        "colab_type": "code",
        "colab": {}
      },
      "source": [
        "x_train = np.random.random((100, 210, 650, 1))\n",
        "train_labels = np.random.randint(5, size=(100, 1))"
      ],
      "execution_count": 0,
      "outputs": []
    },
    {
      "cell_type": "code",
      "metadata": {
        "id": "3YbIjCS-fhEQ",
        "colab_type": "code",
        "colab": {}
      },
      "source": [
        "y_train = keras.utils.to_categorical(train_labels, num_classes=5)"
      ],
      "execution_count": 0,
      "outputs": []
    },
    {
      "cell_type": "code",
      "metadata": {
        "id": "zquoTIHjfild",
        "colab_type": "code",
        "outputId": "dfc5cff3-0d06-4cd2-e41d-84eafb485e80",
        "colab": {
          "base_uri": "https://localhost:8080/",
          "height": 429
        }
      },
      "source": [
        " model.fit(\n",
        "        x_train, \n",
        "        y_train, \n",
        "        epochs=5, \n",
        "        batch_size=6 \n",
        " )"
      ],
      "execution_count": 0,
      "outputs": [
        {
          "output_type": "stream",
          "text": [
            "Train on 100 samples\n",
            "Epoch 1/5\n",
            " 12/100 [==>...........................] - ETA: 2:54 - loss: 2.8118 - accuracy: 0.2500"
          ],
          "name": "stdout"
        },
        {
          "output_type": "error",
          "ename": "KeyboardInterrupt",
          "evalue": "ignored",
          "traceback": [
            "\u001b[0;31m---------------------------------------------------------------------------\u001b[0m",
            "\u001b[0;31mKeyboardInterrupt\u001b[0m                         Traceback (most recent call last)",
            "\u001b[0;32m<ipython-input-21-e2f5f28a2416>\u001b[0m in \u001b[0;36m<module>\u001b[0;34m()\u001b[0m\n\u001b[1;32m      3\u001b[0m        \u001b[0my_train\u001b[0m\u001b[0;34m,\u001b[0m\u001b[0;34m\u001b[0m\u001b[0;34m\u001b[0m\u001b[0m\n\u001b[1;32m      4\u001b[0m        \u001b[0mepochs\u001b[0m\u001b[0;34m=\u001b[0m\u001b[0;36m5\u001b[0m\u001b[0;34m,\u001b[0m\u001b[0;34m\u001b[0m\u001b[0;34m\u001b[0m\u001b[0m\n\u001b[0;32m----> 5\u001b[0;31m        \u001b[0mbatch_size\u001b[0m\u001b[0;34m=\u001b[0m\u001b[0;36m6\u001b[0m\u001b[0;34m\u001b[0m\u001b[0;34m\u001b[0m\u001b[0m\n\u001b[0m\u001b[1;32m      6\u001b[0m )\n",
            "\u001b[0;32m/usr/local/lib/python3.6/dist-packages/tensorflow/python/keras/engine/training.py\u001b[0m in \u001b[0;36mfit\u001b[0;34m(self, x, y, batch_size, epochs, verbose, callbacks, validation_split, validation_data, shuffle, class_weight, sample_weight, initial_epoch, steps_per_epoch, validation_steps, validation_freq, max_queue_size, workers, use_multiprocessing, **kwargs)\u001b[0m\n\u001b[1;32m    641\u001b[0m         \u001b[0mmax_queue_size\u001b[0m\u001b[0;34m=\u001b[0m\u001b[0mmax_queue_size\u001b[0m\u001b[0;34m,\u001b[0m\u001b[0;34m\u001b[0m\u001b[0;34m\u001b[0m\u001b[0m\n\u001b[1;32m    642\u001b[0m         \u001b[0mworkers\u001b[0m\u001b[0;34m=\u001b[0m\u001b[0mworkers\u001b[0m\u001b[0;34m,\u001b[0m\u001b[0;34m\u001b[0m\u001b[0;34m\u001b[0m\u001b[0m\n\u001b[0;32m--> 643\u001b[0;31m         use_multiprocessing=use_multiprocessing)\n\u001b[0m\u001b[1;32m    644\u001b[0m \u001b[0;34m\u001b[0m\u001b[0m\n\u001b[1;32m    645\u001b[0m   def evaluate(self,\n",
            "\u001b[0;32m/usr/local/lib/python3.6/dist-packages/tensorflow/python/keras/engine/training_arrays.py\u001b[0m in \u001b[0;36mfit\u001b[0;34m(self, model, x, y, batch_size, epochs, verbose, callbacks, validation_split, validation_data, shuffle, class_weight, sample_weight, initial_epoch, steps_per_epoch, validation_steps, validation_freq, **kwargs)\u001b[0m\n\u001b[1;32m    662\u001b[0m         \u001b[0mvalidation_steps\u001b[0m\u001b[0;34m=\u001b[0m\u001b[0mvalidation_steps\u001b[0m\u001b[0;34m,\u001b[0m\u001b[0;34m\u001b[0m\u001b[0;34m\u001b[0m\u001b[0m\n\u001b[1;32m    663\u001b[0m         \u001b[0mvalidation_freq\u001b[0m\u001b[0;34m=\u001b[0m\u001b[0mvalidation_freq\u001b[0m\u001b[0;34m,\u001b[0m\u001b[0;34m\u001b[0m\u001b[0;34m\u001b[0m\u001b[0m\n\u001b[0;32m--> 664\u001b[0;31m         steps_name='steps_per_epoch')\n\u001b[0m\u001b[1;32m    665\u001b[0m \u001b[0;34m\u001b[0m\u001b[0m\n\u001b[1;32m    666\u001b[0m   def evaluate(self,\n",
            "\u001b[0;32m/usr/local/lib/python3.6/dist-packages/tensorflow/python/keras/engine/training_arrays.py\u001b[0m in \u001b[0;36mmodel_iteration\u001b[0;34m(model, inputs, targets, sample_weights, batch_size, epochs, verbose, callbacks, val_inputs, val_targets, val_sample_weights, shuffle, initial_epoch, steps_per_epoch, validation_steps, validation_freq, mode, validation_in_fit, prepared_feed_values_from_dataset, steps_name, **kwargs)\u001b[0m\n\u001b[1;32m    381\u001b[0m \u001b[0;34m\u001b[0m\u001b[0m\n\u001b[1;32m    382\u001b[0m         \u001b[0;31m# Get outputs.\u001b[0m\u001b[0;34m\u001b[0m\u001b[0;34m\u001b[0m\u001b[0;34m\u001b[0m\u001b[0m\n\u001b[0;32m--> 383\u001b[0;31m         \u001b[0mbatch_outs\u001b[0m \u001b[0;34m=\u001b[0m \u001b[0mf\u001b[0m\u001b[0;34m(\u001b[0m\u001b[0mins_batch\u001b[0m\u001b[0;34m)\u001b[0m\u001b[0;34m\u001b[0m\u001b[0;34m\u001b[0m\u001b[0m\n\u001b[0m\u001b[1;32m    384\u001b[0m         \u001b[0;32mif\u001b[0m \u001b[0;32mnot\u001b[0m \u001b[0misinstance\u001b[0m\u001b[0;34m(\u001b[0m\u001b[0mbatch_outs\u001b[0m\u001b[0;34m,\u001b[0m \u001b[0mlist\u001b[0m\u001b[0;34m)\u001b[0m\u001b[0;34m:\u001b[0m\u001b[0;34m\u001b[0m\u001b[0;34m\u001b[0m\u001b[0m\n\u001b[1;32m    385\u001b[0m           \u001b[0mbatch_outs\u001b[0m \u001b[0;34m=\u001b[0m \u001b[0;34m[\u001b[0m\u001b[0mbatch_outs\u001b[0m\u001b[0;34m]\u001b[0m\u001b[0;34m\u001b[0m\u001b[0;34m\u001b[0m\u001b[0m\n",
            "\u001b[0;32m/usr/local/lib/python3.6/dist-packages/tensorflow/python/keras/backend.py\u001b[0m in \u001b[0;36m__call__\u001b[0;34m(self, inputs)\u001b[0m\n\u001b[1;32m   3508\u001b[0m         \u001b[0mvalue\u001b[0m \u001b[0;34m=\u001b[0m \u001b[0mmath_ops\u001b[0m\u001b[0;34m.\u001b[0m\u001b[0mcast\u001b[0m\u001b[0;34m(\u001b[0m\u001b[0mvalue\u001b[0m\u001b[0;34m,\u001b[0m \u001b[0mtensor\u001b[0m\u001b[0;34m.\u001b[0m\u001b[0mdtype\u001b[0m\u001b[0;34m)\u001b[0m\u001b[0;34m\u001b[0m\u001b[0;34m\u001b[0m\u001b[0m\n\u001b[1;32m   3509\u001b[0m       \u001b[0mconverted_inputs\u001b[0m\u001b[0;34m.\u001b[0m\u001b[0mappend\u001b[0m\u001b[0;34m(\u001b[0m\u001b[0mvalue\u001b[0m\u001b[0;34m)\u001b[0m\u001b[0;34m\u001b[0m\u001b[0;34m\u001b[0m\u001b[0m\n\u001b[0;32m-> 3510\u001b[0;31m     \u001b[0moutputs\u001b[0m \u001b[0;34m=\u001b[0m \u001b[0mself\u001b[0m\u001b[0;34m.\u001b[0m\u001b[0m_graph_fn\u001b[0m\u001b[0;34m(\u001b[0m\u001b[0;34m*\u001b[0m\u001b[0mconverted_inputs\u001b[0m\u001b[0;34m)\u001b[0m\u001b[0;34m\u001b[0m\u001b[0;34m\u001b[0m\u001b[0m\n\u001b[0m\u001b[1;32m   3511\u001b[0m \u001b[0;34m\u001b[0m\u001b[0m\n\u001b[1;32m   3512\u001b[0m     \u001b[0;31m# EagerTensor.numpy() will often make a copy to ensure memory safety.\u001b[0m\u001b[0;34m\u001b[0m\u001b[0;34m\u001b[0m\u001b[0;34m\u001b[0m\u001b[0m\n",
            "\u001b[0;32m/usr/local/lib/python3.6/dist-packages/tensorflow/python/eager/function.py\u001b[0m in \u001b[0;36m__call__\u001b[0;34m(self, *args, **kwargs)\u001b[0m\n\u001b[1;32m    570\u001b[0m       raise TypeError(\"Keyword arguments {} unknown. Expected {}.\".format(\n\u001b[1;32m    571\u001b[0m           list(kwargs.keys()), list(self._arg_keywords)))\n\u001b[0;32m--> 572\u001b[0;31m     \u001b[0;32mreturn\u001b[0m \u001b[0mself\u001b[0m\u001b[0;34m.\u001b[0m\u001b[0m_call_flat\u001b[0m\u001b[0;34m(\u001b[0m\u001b[0margs\u001b[0m\u001b[0;34m)\u001b[0m\u001b[0;34m\u001b[0m\u001b[0;34m\u001b[0m\u001b[0m\n\u001b[0m\u001b[1;32m    573\u001b[0m \u001b[0;34m\u001b[0m\u001b[0m\n\u001b[1;32m    574\u001b[0m   \u001b[0;32mdef\u001b[0m \u001b[0m_filtered_call\u001b[0m\u001b[0;34m(\u001b[0m\u001b[0mself\u001b[0m\u001b[0;34m,\u001b[0m \u001b[0margs\u001b[0m\u001b[0;34m,\u001b[0m \u001b[0mkwargs\u001b[0m\u001b[0;34m)\u001b[0m\u001b[0;34m:\u001b[0m\u001b[0;34m\u001b[0m\u001b[0;34m\u001b[0m\u001b[0m\n",
            "\u001b[0;32m/usr/local/lib/python3.6/dist-packages/tensorflow/python/eager/function.py\u001b[0m in \u001b[0;36m_call_flat\u001b[0;34m(self, args)\u001b[0m\n\u001b[1;32m    669\u001b[0m     \u001b[0;31m# Only need to override the gradient in graph mode and when we have outputs.\u001b[0m\u001b[0;34m\u001b[0m\u001b[0;34m\u001b[0m\u001b[0;34m\u001b[0m\u001b[0m\n\u001b[1;32m    670\u001b[0m     \u001b[0;32mif\u001b[0m \u001b[0mcontext\u001b[0m\u001b[0;34m.\u001b[0m\u001b[0mexecuting_eagerly\u001b[0m\u001b[0;34m(\u001b[0m\u001b[0;34m)\u001b[0m \u001b[0;32mor\u001b[0m \u001b[0;32mnot\u001b[0m \u001b[0mself\u001b[0m\u001b[0;34m.\u001b[0m\u001b[0moutputs\u001b[0m\u001b[0;34m:\u001b[0m\u001b[0;34m\u001b[0m\u001b[0;34m\u001b[0m\u001b[0m\n\u001b[0;32m--> 671\u001b[0;31m       \u001b[0moutputs\u001b[0m \u001b[0;34m=\u001b[0m \u001b[0mself\u001b[0m\u001b[0;34m.\u001b[0m\u001b[0m_inference_function\u001b[0m\u001b[0;34m.\u001b[0m\u001b[0mcall\u001b[0m\u001b[0;34m(\u001b[0m\u001b[0mctx\u001b[0m\u001b[0;34m,\u001b[0m \u001b[0margs\u001b[0m\u001b[0;34m)\u001b[0m\u001b[0;34m\u001b[0m\u001b[0;34m\u001b[0m\u001b[0m\n\u001b[0m\u001b[1;32m    672\u001b[0m     \u001b[0;32melse\u001b[0m\u001b[0;34m:\u001b[0m\u001b[0;34m\u001b[0m\u001b[0;34m\u001b[0m\u001b[0m\n\u001b[1;32m    673\u001b[0m       \u001b[0mself\u001b[0m\u001b[0;34m.\u001b[0m\u001b[0m_register_gradient\u001b[0m\u001b[0;34m(\u001b[0m\u001b[0;34m)\u001b[0m\u001b[0;34m\u001b[0m\u001b[0;34m\u001b[0m\u001b[0m\n",
            "\u001b[0;32m/usr/local/lib/python3.6/dist-packages/tensorflow/python/eager/function.py\u001b[0m in \u001b[0;36mcall\u001b[0;34m(self, ctx, args)\u001b[0m\n\u001b[1;32m    443\u001b[0m             attrs=(\"executor_type\", executor_type,\n\u001b[1;32m    444\u001b[0m                    \"config_proto\", config),\n\u001b[0;32m--> 445\u001b[0;31m             ctx=ctx)\n\u001b[0m\u001b[1;32m    446\u001b[0m       \u001b[0;31m# Replace empty list with None\u001b[0m\u001b[0;34m\u001b[0m\u001b[0;34m\u001b[0m\u001b[0;34m\u001b[0m\u001b[0m\n\u001b[1;32m    447\u001b[0m       \u001b[0moutputs\u001b[0m \u001b[0;34m=\u001b[0m \u001b[0moutputs\u001b[0m \u001b[0;32mor\u001b[0m \u001b[0;32mNone\u001b[0m\u001b[0;34m\u001b[0m\u001b[0;34m\u001b[0m\u001b[0m\n",
            "\u001b[0;32m/usr/local/lib/python3.6/dist-packages/tensorflow/python/eager/execute.py\u001b[0m in \u001b[0;36mquick_execute\u001b[0;34m(op_name, num_outputs, inputs, attrs, ctx, name)\u001b[0m\n\u001b[1;32m     59\u001b[0m     tensors = pywrap_tensorflow.TFE_Py_Execute(ctx._handle, device_name,\n\u001b[1;32m     60\u001b[0m                                                \u001b[0mop_name\u001b[0m\u001b[0;34m,\u001b[0m \u001b[0minputs\u001b[0m\u001b[0;34m,\u001b[0m \u001b[0mattrs\u001b[0m\u001b[0;34m,\u001b[0m\u001b[0;34m\u001b[0m\u001b[0;34m\u001b[0m\u001b[0m\n\u001b[0;32m---> 61\u001b[0;31m                                                num_outputs)\n\u001b[0m\u001b[1;32m     62\u001b[0m   \u001b[0;32mexcept\u001b[0m \u001b[0mcore\u001b[0m\u001b[0;34m.\u001b[0m\u001b[0m_NotOkStatusException\u001b[0m \u001b[0;32mas\u001b[0m \u001b[0me\u001b[0m\u001b[0;34m:\u001b[0m\u001b[0;34m\u001b[0m\u001b[0;34m\u001b[0m\u001b[0m\n\u001b[1;32m     63\u001b[0m     \u001b[0;32mif\u001b[0m \u001b[0mname\u001b[0m \u001b[0;32mis\u001b[0m \u001b[0;32mnot\u001b[0m \u001b[0;32mNone\u001b[0m\u001b[0;34m:\u001b[0m\u001b[0;34m\u001b[0m\u001b[0;34m\u001b[0m\u001b[0m\n",
            "\u001b[0;31mKeyboardInterrupt\u001b[0m: "
          ]
        }
      ]
    },
    {
      "cell_type": "markdown",
      "metadata": {
        "id": "apSpY04_op7G",
        "colab_type": "text"
      },
      "source": [
        "# Kast Training"
      ]
    },
    {
      "cell_type": "code",
      "metadata": {
        "id": "Z_qa1ZZphR7b",
        "colab_type": "code",
        "colab": {}
      },
      "source": [
        "os.environ['SPIT_PATH'] = \"/content/drive/My Drive/Colab Notebooks/SPIT_DATA\"\n",
        "os.environ['SAVE_PATH'] = \"/content/drive/My Drive/Colab Notebooks/\""
      ],
      "execution_count": 0,
      "outputs": []
    },
    {
      "cell_type": "code",
      "metadata": {
        "id": "dq7R3gYehrjC",
        "colab_type": "code",
        "colab": {}
      },
      "source": [
        "label_dict = labels.kast_label_dict()\n",
        "preproc_dict = preprocess.original_preproc_dict()\n",
        "classify_dict = labels.kast_classify_dict(label_dict)\n",
        "\n",
        "# kast = c.Classifier(label_dict, preproc_dict, classify_dict)"
      ],
      "execution_count": 0,
      "outputs": []
    },
    {
      "cell_type": "code",
      "metadata": {
        "id": "Hea_JEG7hsRn",
        "colab_type": "code",
        "outputId": "e3570f27-de76-420c-b65d-5052676e9c78",
        "colab": {
          "base_uri": "https://localhost:8080/",
          "height": 309
        }
      },
      "source": [
        "history = _train(epochs=5, batch_size=6, subset_percent = .05, test_model=model)"
      ],
      "execution_count": 0,
      "outputs": [
        {
          "output_type": "stream",
          "text": [
            "Train on 775 samples, validate on 190 samples\n",
            "Epoch 1/5\n",
            "774/775 [============================>.] - ETA: 0s - loss: 1.0628 - accuracy: 0.6137"
          ],
          "name": "stdout"
        },
        {
          "output_type": "stream",
          "text": [
            "W0725 01:17:44.021348 140479997958016 callbacks.py:986] Can save best model only with val_acc available, skipping.\n"
          ],
          "name": "stderr"
        },
        {
          "output_type": "stream",
          "text": [
            "\b\b\b\b\b\b\b\b\b\b\b\b\b\b\b\b\b\b\b\b\b\b\b\b\b\b\b\b\b\b\b\b\b\b\b\b\b\b\b\b\b\b\b\b\b\b\b\b\b\b\b\b\b\b\b\b\b\b\b\b\b\b\b\b\b\b\b\b\b\b\b\b\b\b\b\b\b\b\b\b\b\b\b\b\r775/775 [==============================] - 397s 513ms/sample - loss: 1.0643 - accuracy: 0.6129 - val_loss: 6.3602 - val_accuracy: 0.3105\n",
            "Epoch 2/5\n",
            "774/775 [============================>.] - ETA: 0s - loss: 0.7081 - accuracy: 0.7636"
          ],
          "name": "stdout"
        },
        {
          "output_type": "stream",
          "text": [
            "W0725 01:24:15.517875 140479997958016 callbacks.py:986] Can save best model only with val_acc available, skipping.\n"
          ],
          "name": "stderr"
        },
        {
          "output_type": "stream",
          "text": [
            "\b\b\b\b\b\b\b\b\b\b\b\b\b\b\b\b\b\b\b\b\b\b\b\b\b\b\b\b\b\b\b\b\b\b\b\b\b\b\b\b\b\b\b\b\b\b\b\b\b\b\b\b\b\b\b\b\b\b\b\b\b\b\b\b\b\b\b\b\b\b\b\b\b\b\b\b\b\b\b\b\b\b\b\b\r775/775 [==============================] - 391s 505ms/sample - loss: 0.7103 - accuracy: 0.7626 - val_loss: 5.7390 - val_accuracy: 0.2737\n",
            "Epoch 3/5\n",
            "774/775 [============================>.] - ETA: 0s - loss: 0.6472 - accuracy: 0.7894"
          ],
          "name": "stdout"
        },
        {
          "output_type": "stream",
          "text": [
            "W0725 01:30:46.915717 140479997958016 callbacks.py:986] Can save best model only with val_acc available, skipping.\n"
          ],
          "name": "stderr"
        },
        {
          "output_type": "stream",
          "text": [
            "\b\b\b\b\b\b\b\b\b\b\b\b\b\b\b\b\b\b\b\b\b\b\b\b\b\b\b\b\b\b\b\b\b\b\b\b\b\b\b\b\b\b\b\b\b\b\b\b\b\b\b\b\b\b\b\b\b\b\b\b\b\b\b\b\b\b\b\b\b\b\b\b\b\b\b\b\b\b\b\b\b\b\b\b\r775/775 [==============================] - 391s 505ms/sample - loss: 0.6493 - accuracy: 0.7884 - val_loss: 2.6473 - val_accuracy: 0.7474\n",
            "Epoch 4/5\n",
            "774/775 [============================>.] - ETA: 0s - loss: 0.4367 - accuracy: 0.8592"
          ],
          "name": "stdout"
        },
        {
          "output_type": "stream",
          "text": [
            "W0725 01:37:19.759352 140479997958016 callbacks.py:986] Can save best model only with val_acc available, skipping.\n"
          ],
          "name": "stderr"
        },
        {
          "output_type": "stream",
          "text": [
            "\b\b\b\b\b\b\b\b\b\b\b\b\b\b\b\b\b\b\b\b\b\b\b\b\b\b\b\b\b\b\b\b\b\b\b\b\b\b\b\b\b\b\b\b\b\b\b\b\b\b\b\b\b\b\b\b\b\b\b\b\b\b\b\b\b\b\b\b\b\b\b\b\b\b\b\b\b\b\b\b\b\b\b\b\r775/775 [==============================] - 393s 507ms/sample - loss: 0.4405 - accuracy: 0.8581 - val_loss: 3.0710 - val_accuracy: 0.6053\n",
            "Epoch 5/5\n",
            "774/775 [============================>.] - ETA: 0s - loss: 0.1889 - accuracy: 0.9432"
          ],
          "name": "stdout"
        },
        {
          "output_type": "stream",
          "text": [
            "W0725 01:43:51.642585 140479997958016 callbacks.py:986] Can save best model only with val_acc available, skipping.\n"
          ],
          "name": "stderr"
        },
        {
          "output_type": "stream",
          "text": [
            "\b\b\b\b\b\b\b\b\b\b\b\b\b\b\b\b\b\b\b\b\b\b\b\b\b\b\b\b\b\b\b\b\b\b\b\b\b\b\b\b\b\b\b\b\b\b\b\b\b\b\b\b\b\b\b\b\b\b\b\b\b\b\b\b\b\b\b\b\b\b\b\b\b\b\b\b\b\b\b\b\b\b\b\b\r775/775 [==============================] - 392s 506ms/sample - loss: 0.1941 - accuracy: 0.9419 - val_loss: 0.9323 - val_accuracy: 0.8579\n"
          ],
          "name": "stdout"
        }
      ]
    },
    {
      "cell_type": "code",
      "metadata": {
        "id": "6lrQn4dJiIJJ",
        "colab_type": "code",
        "outputId": "2f82e367-d4ec-4210-aa23-10154d4bbeff",
        "colab": {
          "base_uri": "https://localhost:8080/",
          "height": 297
        }
      },
      "source": [
        "\n",
        "utils.display_training_trends(history, key1='accuracy', key2='val_accuracy')"
      ],
      "execution_count": 0,
      "outputs": [
        {
          "output_type": "display_data",
          "data": {
            "image/png": "[encoded data removed]",
            "text/plain": [
              "<Figure size 432x288 with 2 Axes>"
            ]
          },
          "metadata": {
            "tags": []
          }
        }
      ]
    },
    {
      "cell_type": "markdown",
      "metadata": {
        "id": "F5jRzrjpOlFq",
        "colab_type": "text"
      },
      "source": [
        "# train methods"
      ]
    },
    {
      "cell_type": "code",
      "metadata": {
        "id": "j2gL32rpHo_h",
        "colab_type": "code",
        "colab": {}
      },
      "source": [
        "  os.environ['SPIT_PATH'] = \"/content/drive/My Drive/Colab Notebooks/SPIT_DATA\"\n",
        "  os.environ['SAVE_PATH'] = \"/content/drive/My Drive/Colab Notebooks/\"\n",
        "\n",
        "  # might need to add subset\n",
        "  def _train(epochs, batch_size, subset_percent=None, train_images=None, train_labels=None, validation_data=None, steps_per_epoch=None, validation_freq=1, test_model=None, spit_path=os.getenv('SPIT_PATH'), save_path=os.getenv('SAVE_PATH')):\n",
        "    \"\"\"\n",
        "\n",
        "    Trains the classifier with given images, labels, and training parameters.\n",
        "\n",
        "    Parameters:\n",
        "\n",
        "    :param epochs:\n",
        "      Number of epochs of the training. \n",
        "      Must be an integer value.\n",
        "\n",
        "    :param batch_size:\n",
        "      Size of the training batches formed in the process. \n",
        "      Must be an integer value.\n",
        "\n",
        "    :param save_path:\n",
        "      Path to where the best model will be saved.\n",
        "\n",
        "    :param train_images:\n",
        "       Set of images for model to train on.\n",
        "       Assume this is a numpy array with (batch_size, width, height, num_channels) as its dimensions.\n",
        "\n",
        "    :param train_labels:\n",
        "      Set of test labels corresponding to test images.\n",
        "      Assume this is a rank 1 array with (batch_size, ) as its dimensions.\n",
        "\n",
        "    :param validation_data:\n",
        "      Data to be used for the validation set. \n",
        "      Assume this is a tuple with (images, labels) with same dimensions as train_images, train_labels.\n",
        "      If None is specified, validation_data will be None.\n",
        "\n",
        "    :param steps_per_epoch:\n",
        "      Total number of steps (batches of samples) before declaring one epoch finished and starting the next epoch.\n",
        "      Assume this is an integer value. If None is specified, this will be None.  \n",
        "\n",
        "    :param validation_freq:\n",
        "      Specifies how many training epochs to run before a new validation run is performed.\n",
        "      Assume this is an integer value or a collection containing the epochs at which to run validation (ie [1,2,10]).\n",
        "\n",
        "    :param test_model:\n",
        "      An alternative choice for model to train on. Assume None.\n",
        "\n",
        "    :param spit_path & param save_path:\n",
        "      Path to the spit images and where the model will be saved respectively.\n",
        "      ***Environmental variables must be set by caller or the path must be passed manually.***\n",
        "\n",
        "    Returns:\n",
        "    :returns history:\n",
        "      Tensorflow History object containing loss and accuracy data over the training.\n",
        "\n",
        "    \"\"\"\n",
        "    # choose the model\n",
        "    if test_model is None:\n",
        "      model = test_model\n",
        "    else:\n",
        "      model = test_model\n",
        "\n",
        "    # if None is passed, then use the kast images\n",
        "    if train_images is None or train_labels is None:\n",
        "      # load training set\n",
        "      train = np.load(os.path.join(spit_path, 'Kast', 'kast_train.npz'))\n",
        "      train_images = train['images']\n",
        "      train_labels = train['labels']\n",
        "\n",
        "      # load validation set\n",
        "      validate = np.load(os.path.join(spit_path, 'Kast', 'kast_validate.npz'))\n",
        "      v_images = validate['images']\n",
        "      v_labels = validate['labels']\n",
        "\n",
        "      validation_data = (v_images, v_labels)\n",
        "\n",
        "    # change to categorical and make subsets\n",
        "    if validation_data is not None:\n",
        "      valid_images, valid_labels = validation_data\n",
        "      if subset_percent is not None:\n",
        "        valid_images, valid_labels = split_array(valid_images, valid_labels, subset_percent)\n",
        "      valid_labels = keras.utils.to_categorical(valid_labels, num_classes=len(label_dict))\n",
        "      validation_data = (valid_images, valid_labels)\n",
        "\n",
        "    if train_images is not None and train_labels is not None:\n",
        "      if subset_percent is not None:\n",
        "        train_images, train_labels = split_array(train_images, train_labels, subset_percent)\n",
        "      train_labels = keras.utils.to_categorical(train_labels, num_classes=len(label_dict))\n",
        "\n",
        "    # checkpoint to track best model\n",
        "    checkpoint=keras.callbacks.ModelCheckpoint(save_path+'best_model.h5', monitor='val_accuracy', save_best_only=True, mode='max')\n",
        "\n",
        "    # train the model\n",
        "    history = model.fit(\n",
        "          train_images, \n",
        "          train_labels, \n",
        "          epochs=epochs, \n",
        "          batch_size=batch_size,\n",
        "          validation_data=validation_data,\n",
        "          steps_per_epoch=steps_per_epoch,\n",
        "          validation_freq=validation_freq,\n",
        "          callbacks=[checkpoint]\n",
        "    )\n",
        "    # loss and accuracy data\n",
        "    keys = history.history\n",
        "    # save to disc differently based on whether validation set was used\n",
        "    np.savez_compressed('history.npz', loss=keys['loss'], accuracy=keys['accuracy'], val_loss=keys['val_loss'], val_acc=keys['val_accuracy'])\n",
        "\n",
        "    return history\n",
        "\n",
        "  import math\n",
        "\n",
        "  def split_array(images, labels, subset_percent):\n",
        "    \"\"\"\n",
        "    Splits dataset based on a percentage value.\n",
        "\n",
        "    Parameters:\n",
        "    :param images:\n",
        "      Images from a dataset to be trained on.\n",
        "      4-D Numpy array with (batch_size, width, height, num_channels) as its dimensions.\n",
        "\n",
        "    :param labels:\n",
        "      Labels from a dataset to be trained on.\n",
        "      Rank 1 Numpy array with (batch_size,) as its dimensions.\n",
        "\n",
        "    :param subset_percent:\n",
        "      Float value determining percentage of subset to remain.\n",
        "\n",
        "    Returns:\n",
        "    :returns split_images:\n",
        "      Numpy array containing a fraction of the initial images parameter (batch_size*subset_percent)\n",
        "\n",
        "    :returns split_labels:\n",
        "      Numpy array containing a fraction of the initial labels parameter (batch_size*subset_percent)\n",
        "    \"\"\"\n",
        "    split_images = []\n",
        "    split_labels = []\n",
        "    \n",
        "    # get all unique labels\n",
        "    uni_lbls = np.unique(labels)\n",
        "    \n",
        "    # find all instances of labels and subset based on that\n",
        "    for uni_lbl in uni_lbls:\n",
        "      idx = np.where(labels==uni_lbl)[0]\n",
        "      # 0 : len(idx)*subset_percent\n",
        "      lower = 0\n",
        "      upper = int(math.floor(len(idx)*subset_percent))\n",
        "      split_images.extend(images[idx[lower:upper]])\n",
        "      split_labels.extend(labels[idx[lower:upper]])\n",
        "    return np.asarray(split_images), np.asarray(split_labels)"
      ],
      "execution_count": 0,
      "outputs": []
    },
    {
      "cell_type": "code",
      "metadata": {
        "id": "v6QIhZYLOoxN",
        "colab_type": "code",
        "outputId": "b64af59b-304c-4e82-8344-4d8a08f1e0a2",
        "colab": {
          "base_uri": "https://localhost:8080/",
          "height": 309
        }
      },
      "source": [
        "history = _train(epochs=5, batch_size=6, subset_percent = .10, test_model=model)"
      ],
      "execution_count": 0,
      "outputs": [
        {
          "output_type": "stream",
          "text": [
            "Train on 1550 samples, validate on 385 samples\n",
            "Epoch 1/5\n",
            "1548/1550 [============================>.] - ETA: 0s - loss: 0.8283 - accuracy: 0.7132"
          ],
          "name": "stdout"
        },
        {
          "output_type": "stream",
          "text": [
            "W0725 02:12:07.126094 140479997958016 callbacks.py:986] Can save best model only with val_acc available, skipping.\n"
          ],
          "name": "stderr"
        },
        {
          "output_type": "stream",
          "text": [
            "\b\b\b\b\b\b\b\b\b\b\b\b\b\b\b\b\b\b\b\b\b\b\b\b\b\b\b\b\b\b\b\b\b\b\b\b\b\b\b\b\b\b\b\b\b\b\b\b\b\b\b\b\b\b\b\b\b\b\b\b\b\b\b\b\b\b\b\b\b\b\b\b\b\b\b\b\b\b\b\b\b\b\b\b\b\b\r1550/1550 [==============================] - 804s 518ms/sample - loss: 0.8318 - accuracy: 0.7129 - val_loss: 2.4794 - val_accuracy: 0.6026\n",
            "Epoch 2/5\n",
            "1548/1550 [============================>.] - ETA: 0s - loss: 0.4317 - accuracy: 0.8521"
          ],
          "name": "stdout"
        },
        {
          "output_type": "stream",
          "text": [
            "W0725 02:25:34.083913 140479997958016 callbacks.py:986] Can save best model only with val_acc available, skipping.\n"
          ],
          "name": "stderr"
        },
        {
          "output_type": "stream",
          "text": [
            "\b\b\b\b\b\b\b\b\b\b\b\b\b\b\b\b\b\b\b\b\b\b\b\b\b\b\b\b\b\b\b\b\b\b\b\b\b\b\b\b\b\b\b\b\b\b\b\b\b\b\b\b\b\b\b\b\b\b\b\b\b\b\b\b\b\b\b\b\b\b\b\b\b\b\b\b\b\b\b\b\b\b\b\b\b\b\r1550/1550 [==============================] - 807s 521ms/sample - loss: 0.4316 - accuracy: 0.8523 - val_loss: 1.0222 - val_accuracy: 0.6857\n",
            "Epoch 3/5\n",
            "1548/1550 [============================>.] - ETA: 0s - loss: 0.3266 - accuracy: 0.8908"
          ],
          "name": "stdout"
        },
        {
          "output_type": "stream",
          "text": [
            "W0725 02:38:58.051750 140479997958016 callbacks.py:986] Can save best model only with val_acc available, skipping.\n"
          ],
          "name": "stderr"
        },
        {
          "output_type": "stream",
          "text": [
            "\b\b\b\b\b\b\b\b\b\b\b\b\b\b\b\b\b\b\b\b\b\b\b\b\b\b\b\b\b\b\b\b\b\b\b\b\b\b\b\b\b\b\b\b\b\b\b\b\b\b\b\b\b\b\b\b\b\b\b\b\b\b\b\b\b\b\b\b\b\b\b\b\b\b\b\b\b\b\b\b\b\b\b\b\b\b\r1550/1550 [==============================] - 804s 519ms/sample - loss: 0.3352 - accuracy: 0.8897 - val_loss: 11.9028 - val_accuracy: 0.2416\n",
            "Epoch 4/5\n",
            "1548/1550 [============================>.] - ETA: 0s - loss: 0.3403 - accuracy: 0.8986"
          ],
          "name": "stdout"
        },
        {
          "output_type": "stream",
          "text": [
            "W0725 02:52:19.755737 140479997958016 callbacks.py:986] Can save best model only with val_acc available, skipping.\n"
          ],
          "name": "stderr"
        },
        {
          "output_type": "stream",
          "text": [
            "\b\b\b\b\b\b\b\b\b\b\b\b\b\b\b\b\b\b\b\b\b\b\b\b\b\b\b\b\b\b\b\b\b\b\b\b\b\b\b\b\b\b\b\b\b\b\b\b\b\b\b\b\b\b\b\b\b\b\b\b\b\b\b\b\b\b\b\b\b\b\b\b\b\b\b\b\b\b\b\b\b\b\b\b\b\b\r1550/1550 [==============================] - 802s 517ms/sample - loss: 0.3400 - accuracy: 0.8987 - val_loss: 4.3981 - val_accuracy: 0.5273\n",
            "Epoch 5/5\n",
            "1548/1550 [============================>.] - ETA: 0s - loss: 0.2231 - accuracy: 0.9315"
          ],
          "name": "stdout"
        },
        {
          "output_type": "stream",
          "text": [
            "W0725 03:05:29.237051 140479997958016 callbacks.py:986] Can save best model only with val_acc available, skipping.\n"
          ],
          "name": "stderr"
        },
        {
          "output_type": "stream",
          "text": [
            "\b\b\b\b\b\b\b\b\b\b\b\b\b\b\b\b\b\b\b\b\b\b\b\b\b\b\b\b\b\b\b\b\b\b\b\b\b\b\b\b\b\b\b\b\b\b\b\b\b\b\b\b\b\b\b\b\b\b\b\b\b\b\b\b\b\b\b\b\b\b\b\b\b\b\b\b\b\b\b\b\b\b\b\b\b\b\r1550/1550 [==============================] - 789s 509ms/sample - loss: 0.2228 - accuracy: 0.9316 - val_loss: 0.2768 - val_accuracy: 0.8883\n"
          ],
          "name": "stdout"
        }
      ]
    },
    {
      "cell_type": "code",
      "metadata": {
        "id": "YTPoFffo1eZv",
        "colab_type": "code",
        "outputId": "e4aec47d-deab-4f23-ec86-0292b82d3dc1",
        "colab": {
          "base_uri": "https://localhost:8080/",
          "height": 297
        }
      },
      "source": [
        "utils.display_training_trends(history, key1='accuracy', key2='val_accuracy')"
      ],
      "execution_count": 0,
      "outputs": [
        {
          "output_type": "display_data",
          "data": {
            "image/png": "[encoded data removed]",
            "text/plain": [
              "<Figure size 432x288 with 2 Axes>"
            ]
          },
          "metadata": {
            "tags": []
          }
        }
      ]
    },
    {
      "cell_type": "code",
      "metadata": {
        "id": "71XvjqutG_OQ",
        "colab_type": "code",
        "outputId": "6e4a0509-c34d-4bb5-a141-da09c754354d",
        "colab": {
          "base_uri": "https://localhost:8080/",
          "height": 139
        }
      },
      "source": [
        "history = _train(epochs=6, batch_size=6, test_model=model)"
      ],
      "execution_count": 0,
      "outputs": [
        {
          "output_type": "stream",
          "text": [
            "Train on 15540 samples, validate on 3880 samples\n",
            "Epoch 1/6\n",
            "15534/15540 [============================>.] - ETA: 3s - loss: 0.2863 - accuracy: 0.9102"
          ],
          "name": "stdout"
        },
        {
          "output_type": "stream",
          "text": [
            "W0725 05:36:21.985853 140479997958016 callbacks.py:986] Can save best model only with val_acc available, skipping.\n"
          ],
          "name": "stderr"
        },
        {
          "output_type": "stream",
          "text": [
            "\b\b\b\b\b\b\b\b\b\b\b\b\b\b\b\b\b\b\b\b\b\b\b\b\b\b\b\b\b\b\b\b\b\b\b\b\b\b\b\b\b\b\b\b\b\b\b\b\b\b\b\b\b\b\b\b\b\b\b\b\b\b\b\b\b\b\b\b\b\b\b\b\b\b\b\b\b\b\b\b\b\b\b\b\b\b\b\b\r15540/15540 [==============================] - 8232s 530ms/sample - loss: 0.2862 - accuracy: 0.9102 - val_loss: 0.9629 - val_accuracy: 0.8585\n",
            "Epoch 2/6\n",
            "13482/15540 [=========================>....] - ETA: 17:26 - loss: 0.1069 - accuracy: 0.9684"
          ],
          "name": "stdout"
        }
      ]
    },
    {
      "cell_type": "code",
      "metadata": {
        "id": "V0NQvgNXHIXk",
        "colab_type": "code",
        "outputId": "dc96e509-4103-45fc-d828-3887afb40e77",
        "colab": {
          "base_uri": "https://localhost:8080/",
          "height": 377
        }
      },
      "source": [
        "history = _train(epochs=5, batch_size=6, test_model=model)"
      ],
      "execution_count": 0,
      "outputs": [
        {
          "output_type": "stream",
          "text": [
            "WARNING: Logging before flag parsing goes to stderr.\n",
            "W0725 08:30:08.438622 140174057060224 deprecation.py:323] From /usr/local/lib/python3.6/dist-packages/tensorflow/python/ops/math_grad.py:1250: add_dispatch_support.<locals>.wrapper (from tensorflow.python.ops.array_ops) is deprecated and will be removed in a future version.\n",
            "Instructions for updating:\n",
            "Use tf.where in 2.0, which has the same broadcast rule as np.where\n"
          ],
          "name": "stderr"
        },
        {
          "output_type": "stream",
          "text": [
            "Train on 15540 samples, validate on 3880 samples\n",
            "Epoch 1/5\n",
            "15534/15540 [============================>.] - ETA: 2s - loss: 0.2652 - accuracy: 0.9178"
          ],
          "name": "stdout"
        },
        {
          "output_type": "stream",
          "text": [
            "W0725 10:45:40.559539 140174057060224 callbacks.py:986] Can save best model only with val_acc available, skipping.\n"
          ],
          "name": "stderr"
        },
        {
          "output_type": "stream",
          "text": [
            "\b\b\b\b\b\b\b\b\b\b\b\b\b\b\b\b\b\b\b\b\b\b\b\b\b\b\b\b\b\b\b\b\b\b\b\b\b\b\b\b\b\b\b\b\b\b\b\b\b\b\b\b\b\b\b\b\b\b\b\b\b\b\b\b\b\b\b\b\b\b\b\b\b\b\b\b\b\b\b\b\b\b\b\b\b\b\b\b\r15540/15540 [==============================] - 8128s 523ms/sample - loss: 0.2651 - accuracy: 0.9178 - val_loss: 0.0916 - val_accuracy: 0.9807\n",
            "Epoch 2/5\n",
            "15534/15540 [============================>.] - ETA: 2s - loss: 0.1222 - accuracy: 0.9671"
          ],
          "name": "stdout"
        },
        {
          "output_type": "stream",
          "text": [
            "W0725 12:58:31.137780 140174057060224 callbacks.py:986] Can save best model only with val_acc available, skipping.\n"
          ],
          "name": "stderr"
        },
        {
          "output_type": "stream",
          "text": [
            "\b\b\b\b\b\b\b\b\b\b\b\b\b\b\b\b\b\b\b\b\b\b\b\b\b\b\b\b\b\b\b\b\b\b\b\b\b\b\b\b\b\b\b\b\b\b\b\b\b\b\b\b\b\b\b\b\b\b\b\b\b\b\b\b\b\b\b\b\b\b\b\b\b\b\b\b\b\b\b\b\b\b\b\b\b\b\b\b\r15540/15540 [==============================] - 7971s 513ms/sample - loss: 0.1221 - accuracy: 0.9671 - val_loss: 0.0558 - val_accuracy: 0.9853\n",
            "Epoch 3/5\n",
            "15534/15540 [============================>.] - ETA: 2s - loss: 0.0862 - accuracy: 0.9764"
          ],
          "name": "stdout"
        },
        {
          "output_type": "stream",
          "text": [
            "W0725 15:08:45.694696 140174057060224 callbacks.py:986] Can save best model only with val_acc available, skipping.\n"
          ],
          "name": "stderr"
        },
        {
          "output_type": "stream",
          "text": [
            "\b\b\b\b\b\b\b\b\b\b\b\b\b\b\b\b\b\b\b\b\b\b\b\b\b\b\b\b\b\b\b\b\b\b\b\b\b\b\b\b\b\b\b\b\b\b\b\b\b\b\b\b\b\b\b\b\b\b\b\b\b\b\b\b\b\b\b\b\b\b\b\b\b\b\b\b\b\b\b\b\b\b\b\b\b\b\b\b\r15540/15540 [==============================] - 7815s 503ms/sample - loss: 0.0862 - accuracy: 0.9764 - val_loss: 0.1374 - val_accuracy: 0.9796\n",
            "Epoch 4/5\n",
            "15534/15540 [============================>.] - ETA: 2s - loss: 0.0669 - accuracy: 0.9832"
          ],
          "name": "stdout"
        },
        {
          "output_type": "stream",
          "text": [
            "W0725 17:17:37.540996 140174057060224 callbacks.py:986] Can save best model only with val_acc available, skipping.\n"
          ],
          "name": "stderr"
        },
        {
          "output_type": "stream",
          "text": [
            "\b\b\b\b\b\b\b\b\b\b\b\b\b\b\b\b\b\b\b\b\b\b\b\b\b\b\b\b\b\b\b\b\b\b\b\b\b\b\b\b\b\b\b\b\b\b\b\b\b\b\b\b\b\b\b\b\b\b\b\b\b\b\b\b\b\b\b\b\b\b\b\b\b\b\b\b\b\b\b\b\b\b\b\b\b\b\b\b\r15540/15540 [==============================] - 7732s 498ms/sample - loss: 0.0668 - accuracy: 0.9832 - val_loss: 0.0720 - val_accuracy: 0.9784\n",
            "Epoch 5/5\n",
            "15534/15540 [============================>.] - ETA: 2s - loss: 0.0647 - accuracy: 0.9835"
          ],
          "name": "stdout"
        },
        {
          "output_type": "stream",
          "text": [
            "W0725 19:27:23.475267 140174057060224 callbacks.py:986] Can save best model only with val_acc available, skipping.\n"
          ],
          "name": "stderr"
        },
        {
          "output_type": "stream",
          "text": [
            "\b\b\b\b\b\b\b\b\b\b\b\b\b\b\b\b\b\b\b\b\b\b\b\b\b\b\b\b\b\b\b\b\b\b\b\b\b\b\b\b\b\b\b\b\b\b\b\b\b\b\b\b\b\b\b\b\b\b\b\b\b\b\b\b\b\b\b\b\b\b\b\b\b\b\b\b\b\b\b\b\b\b\b\b\b\b\b\b\r15540/15540 [==============================] - 7786s 501ms/sample - loss: 0.0647 - accuracy: 0.9835 - val_loss: 0.1236 - val_accuracy: 0.9678\n"
          ],
          "name": "stdout"
        }
      ]
    },
    {
      "cell_type": "code",
      "metadata": {
        "id": "Gfuhr0qvPF_0",
        "colab_type": "code",
        "outputId": "2bf5f66a-9f5e-41bc-c9f4-0051429822ce",
        "colab": {
          "base_uri": "https://localhost:8080/",
          "height": 297
        }
      },
      "source": [
        "utils.display_training_trends(history, key1='accuracy', key2='val_accuracy')"
      ],
      "execution_count": 0,
      "outputs": [
        {
          "output_type": "display_data",
          "data": {
            "image/png": "[encoded data removed]",
            "text/plain": [
              "<Figure size 432x288 with 2 Axes>"
            ]
          },
          "metadata": {
            "tags": []
          }
        }
      ]
    },
    {
      "cell_type": "code",
      "metadata": {
        "id": "TpiQ3SJOmnce",
        "colab_type": "code",
        "colab": {}
      },
      "source": [
        "from tensorflow import keras\n",
        "# need to add compression to either block, transition, or both to get it to be BC\n",
        "\n",
        "def dense_block(model):\n",
        "  \n",
        "  # 1x1 convolution bottleneck\n",
        "  \n",
        "  model.add(keras.layers.BatchNormalization())\n",
        "  model.add(keras.layers.ReLU())\n",
        "  #### HYPERPARAMETERS: GROWTH RATE AND DROPOUT RATE ####\n",
        "  model.add(keras.layers.Conv2D(growth_rate*filters, kernel_size=1))\n",
        "  model.add(keras.layers.Dropout(rate=dropout_rate))\n",
        "  \n",
        "  # 3x3 dense convolution\n",
        "  \n",
        "  model.add(keras.layers.BatchNormalization())\n",
        "  model.add(keras.layers.ReLU())\n",
        "  #### HYPERPARAMETER ####\n",
        "  model.add(keras.layers.Conv2D(filters, kernel_size=3))\n",
        "  #### HYPERPARAMETER ####\n",
        "  model.add(keras.layers.Dropout(rate=dropout_rate))\n",
        "  \n",
        "  return\n",
        "\n",
        "def transition_layer(model):\n",
        "  model.add(keras.layers.BatchNormalization())       #   x = Batch_Normalization(x, training=self.training, scope=scope+'_batch1')\n",
        "  model.add(keras.layers.ReLU())                     #   x = Relu(x)\n",
        "  \n",
        "  model.add(keras.layers.Conv2D(filters, kernel_size=1))\n",
        "  \n",
        "  model.add(keras.layers.Dropout(rate=dropout_rate)) #   x = Drop_out(x, rate=dropout_rate, training=self.training)\n",
        "  \n",
        "  model.add(keras.layers.AveragePooling2D(pool_size=(2,2), strides=2))\n",
        "  return\n",
        "\n",
        "model = keras.Sequential()\n",
        "\n",
        "# hyperparameters\n",
        "filters = 64\n",
        "dropout_rate = .2\n",
        "theta = .5\n",
        "growth_rate = 4\n",
        "\n",
        "# add a conv layer\n",
        "model.add(keras.layers.Conv2D(filters, kernel_size=7, strides=(2, 2), padding='valid', activation='relu', \n",
        "                            input_shape = (210, 650, 1)))\n",
        "\n",
        "# pool like in tf simple implementation\n",
        "model.add(keras.layers.MaxPooling2D(pool_size=(3, 3), strides=2, padding='valid'))\n",
        "\n",
        "# add block\n",
        "dense_block(model)\n",
        "# add transition\n",
        "transition_layer(model)\n",
        "# add block\n",
        "dense_block(model)\n",
        "# add transition\n",
        "transition_layer(model)\n",
        "# add block\n",
        "dense_block(model)\n",
        "# add pool\n",
        "model.add(keras.layers.GlobalAveragePooling2D())\n",
        "# add flatten\n",
        "model.add(keras.layers.Flatten())\n",
        "\n",
        "# Produce 0-1 probabilities with softmax\n",
        "model.add(keras.layers.Dense(5, activation='softmax'))\n",
        "\n",
        "model.compile(loss='categorical_crossentropy', optimizer='adam', metrics=['accuracy'])\n"
      ],
      "execution_count": 0,
      "outputs": []
    },
    {
      "cell_type": "code",
      "metadata": {
        "id": "HAZYaS86LHF6",
        "colab_type": "code",
        "outputId": "351d4e6e-265f-4843-d8f4-c9b7f61d650f",
        "colab": {
          "base_uri": "https://localhost:8080/",
          "height": 1000
        }
      },
      "source": [
        "model.summary()"
      ],
      "execution_count": 0,
      "outputs": [
        {
          "output_type": "stream",
          "text": [
            "Model: \"sequential\"\n",
            "_________________________________________________________________\n",
            "Layer (type)                 Output Shape              Param #   \n",
            "=================================================================\n",
            "conv2d (Conv2D)              (None, 102, 322, 64)      3200      \n",
            "_________________________________________________________________\n",
            "max_pooling2d (MaxPooling2D) (None, 50, 160, 64)       0         \n",
            "_________________________________________________________________\n",
            "batch_normalization (BatchNo (None, 50, 160, 64)       256       \n",
            "_________________________________________________________________\n",
            "re_lu (ReLU)                 (None, 50, 160, 64)       0         \n",
            "_________________________________________________________________\n",
            "conv2d_1 (Conv2D)            (None, 50, 160, 256)      16640     \n",
            "_________________________________________________________________\n",
            "dropout (Dropout)            (None, 50, 160, 256)      0         \n",
            "_________________________________________________________________\n",
            "batch_normalization_1 (Batch (None, 50, 160, 256)      1024      \n",
            "_________________________________________________________________\n",
            "re_lu_1 (ReLU)               (None, 50, 160, 256)      0         \n",
            "_________________________________________________________________\n",
            "conv2d_2 (Conv2D)            (None, 48, 158, 64)       147520    \n",
            "_________________________________________________________________\n",
            "dropout_1 (Dropout)          (None, 48, 158, 64)       0         \n",
            "_________________________________________________________________\n",
            "batch_normalization_2 (Batch (None, 48, 158, 64)       256       \n",
            "_________________________________________________________________\n",
            "re_lu_2 (ReLU)               (None, 48, 158, 64)       0         \n",
            "_________________________________________________________________\n",
            "conv2d_3 (Conv2D)            (None, 48, 158, 64)       4160      \n",
            "_________________________________________________________________\n",
            "dropout_2 (Dropout)          (None, 48, 158, 64)       0         \n",
            "_________________________________________________________________\n",
            "average_pooling2d (AveragePo (None, 24, 79, 64)        0         \n",
            "_________________________________________________________________\n",
            "batch_normalization_3 (Batch (None, 24, 79, 64)        256       \n",
            "_________________________________________________________________\n",
            "re_lu_3 (ReLU)               (None, 24, 79, 64)        0         \n",
            "_________________________________________________________________\n",
            "conv2d_4 (Conv2D)            (None, 24, 79, 256)       16640     \n",
            "_________________________________________________________________\n",
            "dropout_3 (Dropout)          (None, 24, 79, 256)       0         \n",
            "_________________________________________________________________\n",
            "batch_normalization_4 (Batch (None, 24, 79, 256)       1024      \n",
            "_________________________________________________________________\n",
            "re_lu_4 (ReLU)               (None, 24, 79, 256)       0         \n",
            "_________________________________________________________________\n",
            "conv2d_5 (Conv2D)            (None, 22, 77, 64)        147520    \n",
            "_________________________________________________________________\n",
            "dropout_4 (Dropout)          (None, 22, 77, 64)        0         \n",
            "_________________________________________________________________\n",
            "batch_normalization_5 (Batch (None, 22, 77, 64)        256       \n",
            "_________________________________________________________________\n",
            "re_lu_5 (ReLU)               (None, 22, 77, 64)        0         \n",
            "_________________________________________________________________\n",
            "conv2d_6 (Conv2D)            (None, 22, 77, 64)        4160      \n",
            "_________________________________________________________________\n",
            "dropout_5 (Dropout)          (None, 22, 77, 64)        0         \n",
            "_________________________________________________________________\n",
            "average_pooling2d_1 (Average (None, 11, 38, 64)        0         \n",
            "_________________________________________________________________\n",
            "batch_normalization_6 (Batch (None, 11, 38, 64)        256       \n",
            "_________________________________________________________________\n",
            "re_lu_6 (ReLU)               (None, 11, 38, 64)        0         \n",
            "_________________________________________________________________\n",
            "conv2d_7 (Conv2D)            (None, 11, 38, 256)       16640     \n",
            "_________________________________________________________________\n",
            "dropout_6 (Dropout)          (None, 11, 38, 256)       0         \n",
            "_________________________________________________________________\n",
            "batch_normalization_7 (Batch (None, 11, 38, 256)       1024      \n",
            "_________________________________________________________________\n",
            "re_lu_7 (ReLU)               (None, 11, 38, 256)       0         \n",
            "_________________________________________________________________\n",
            "conv2d_8 (Conv2D)            (None, 9, 36, 64)         147520    \n",
            "_________________________________________________________________\n",
            "dropout_7 (Dropout)          (None, 9, 36, 64)         0         \n",
            "_________________________________________________________________\n",
            "global_average_pooling2d (Gl (None, 64)                0         \n",
            "_________________________________________________________________\n",
            "flatten (Flatten)            (None, 64)                0         \n",
            "_________________________________________________________________\n",
            "dense (Dense)                (None, 5)                 325       \n",
            "=================================================================\n",
            "Total params: 508,677\n",
            "Trainable params: 506,501\n",
            "Non-trainable params: 2,176\n",
            "_________________________________________________________________\n"
          ],
          "name": "stdout"
        }
      ]
    },
    {
      "cell_type": "code",
      "metadata": {
        "id": "uLtlGV2pLPXU",
        "colab_type": "code",
        "colab": {}
      },
      "source": [
        ""
      ],
      "execution_count": 0,
      "outputs": []
    }
  ]
}